{
 "cells": [
  {
   "cell_type": "code",
   "execution_count": 1,
   "id": "extreme-surveillance",
   "metadata": {},
   "outputs": [],
   "source": [
    "import pandas as pd\n",
    "import numpy as np\n",
    "import os\n",
    "import glob"
   ]
  },
  {
   "cell_type": "code",
   "execution_count": 2,
   "id": "unlimited-boxing",
   "metadata": {},
   "outputs": [],
   "source": [
    "import dash\n",
    "import dash_html_components as html\n",
    "import dash_core_components as dcc\n",
    "import dash_bootstrap_components as dbc\n",
    "from dash.dependencies import Input, Output, State\n",
    "import plotly.express as px\n",
    "import plotly.graph_objects as go"
   ]
  },
  {
   "cell_type": "code",
   "execution_count": 3,
   "id": "european-tragedy",
   "metadata": {},
   "outputs": [],
   "source": [
    "file_list = ['new_ele_data.csv','new_mid_data.csv','new_high_data.csv']"
   ]
  },
  {
   "cell_type": "code",
   "execution_count": 4,
   "id": "eleven-manner",
   "metadata": {},
   "outputs": [],
   "source": [
    "df = pd.DataFrame()\n",
    "for file in file_list:\n",
    "    tmp_df = pd.read_csv(file,encoding='cp949')\n",
    "    df = pd.concat([df,tmp_df],axis=0)"
   ]
  },
  {
   "cell_type": "code",
   "execution_count": 5,
   "id": "ready-trading",
   "metadata": {},
   "outputs": [],
   "source": [
    "new_ele_data = pd.read_csv('new_ele_data.csv',encoding='cp949')\n",
    "new_mid_data = pd.read_csv('new_mid_data.csv',encoding='cp949')\n",
    "new_high_data = pd.read_csv('new_high_data.csv',encoding='cp949')"
   ]
  },
  {
   "cell_type": "code",
   "execution_count": 6,
   "id": "burning-monkey",
   "metadata": {},
   "outputs": [],
   "source": [
    "new_ele_data.columns = new_ele_data.columns.str.replace(' ','')\n",
    "new_mid_data.columns = new_ele_data.columns.str.replace(' ','')\n",
    "new_high_data.columns = new_ele_data.columns.str.replace(' ','')"
   ]
  },
  {
   "cell_type": "code",
   "execution_count": 7,
   "id": "configured-insurance",
   "metadata": {},
   "outputs": [],
   "source": [
    "df = pd.concat([new_ele_data,new_mid_data,new_high_data],axis=0)"
   ]
  },
  {
   "cell_type": "code",
   "execution_count": 8,
   "id": "arabic-convert",
   "metadata": {},
   "outputs": [],
   "source": [
    "df.year = df.year.astype('str')"
   ]
  },
  {
   "cell_type": "code",
   "execution_count": 9,
   "id": "patent-fisher",
   "metadata": {},
   "outputs": [],
   "source": [
    "df.year = df.year.str.slice(0,4)"
   ]
  },
  {
   "cell_type": "code",
   "execution_count": 10,
   "id": "turned-tattoo",
   "metadata": {},
   "outputs": [],
   "source": [
    "html_title = html.H3('지역별 초중고 교사 1명당 학생 수 변화')\n",
    "school_select_radio = dcc.RadioItems(\n",
    "    id = 'school-select-radio',\n",
    "    options = [{'label':i, 'value':i} for i in df.speices.unique()]\n",
    "    \n",
    ")\n",
    "local_select_dropdown = dcc.Dropdown(\n",
    "    id = 'local-select-dropdown',\n",
    "    options = [{'label':i, 'value':i} for i in df.country.unique()]\n",
    ")\n",
    "school_select_radio1 = dcc.RadioItems(\n",
    "    id = 'school-select-radio1',\n",
    "    options = [{'label':i, 'value':i} for i in df.speices.unique()]\n",
    ")\n",
    "year_select_dropdown = dcc.Dropdown(\n",
    "    id = 'year-select-dropdown',\n",
    "    options = [{'label':i, 'value':i} for i in df.year.unique()]\n",
    ")\n"
   ]
  },
  {
   "cell_type": "code",
   "execution_count": 11,
   "id": "packed-enforcement",
   "metadata": {},
   "outputs": [],
   "source": [
    "app = dash.Dash(__name__)\n",
    "app.layout = html.Div(\n",
    "    [\n",
    "        html_title,\n",
    "        html.Hr(),\n",
    "        html.Label('학교선택'),\n",
    "        school_select_radio,\n",
    "        html.Label('지역선택'),\n",
    "        local_select_dropdown,\n",
    "        html.Hr(),\n",
    "        dcc.Graph(\n",
    "            id = 'school-local-line-graph'\n",
    "        ),\n",
    "        html.Hr(),\n",
    "        html.Label('학교선택'),\n",
    "        school_select_radio1,\n",
    "        html.Label('년도선택'),\n",
    "        year_select_dropdown,\n",
    "        dcc.Graph(\n",
    "            id = 'school-year-bar-graph'\n",
    "        )\n",
    "    ]\n",
    ")\n",
    "\n",
    "@app.callback(\n",
    "    Output('school-local-line-graph','figure'),\n",
    "    Input('school-select-radio','value'),\n",
    "    Input('local-select-dropdown','value')\n",
    ")\n",
    "def update_graph(school,local):\n",
    "    dt = df.loc[(df.speices==school) & (df.country == local),['year','mean_student_per_teacher']]\n",
    "    fig = go.Figure(data=go.Scatter(x=dt.year, y=dt.mean_student_per_teacher))\n",
    "    return fig\n",
    "\n",
    "@app.callback(\n",
    "    Output('school-year-bar-graph','figure'),\n",
    "    Input('school-select-radio1','value'),\n",
    "    Input('year-select-dropdown','value')\n",
    ")\n",
    "\n",
    "def update_bar_graph(school,year):\n",
    "    dt = df.loc[(df.speices==school) & (df.year == year),['country','mean_student_per_teacher']]\n",
    "    colors = ['lightslategray',] * dt.country.size\n",
    "    colors[np.argmax(dt.mean_student_per_teacher)] = 'crimson'\n",
    "    fig = go.Figure(data=[go.Bar(x=dt.country,y=dt.mean_student_per_teacher,marker_color=colors )])\n",
    "    return fig\n"
   ]
  },
  {
   "cell_type": "code",
   "execution_count": null,
   "id": "optical-cotton",
   "metadata": {},
   "outputs": [
    {
     "name": "stdout",
     "output_type": "stream",
     "text": [
      "Dash is running on http://127.0.0.1:7777/\n",
      "\n",
      " * Serving Flask app \"__main__\" (lazy loading)\n",
      " * Environment: production\n",
      "   WARNING: This is a development server. Do not use it in a production deployment.\n",
      "   Use a production WSGI server instead.\n",
      " * Debug mode: off\n"
     ]
    },
    {
     "name": "stderr",
     "output_type": "stream",
     "text": [
      " * Running on http://127.0.0.1:7777/ (Press CTRL+C to quit)\n"
     ]
    }
   ],
   "source": [
    "app.run_server(port='7777')"
   ]
  },
  {
   "cell_type": "code",
   "execution_count": null,
   "id": "7c585bef",
   "metadata": {},
   "outputs": [],
   "source": []
  },
  {
   "cell_type": "code",
   "execution_count": null,
   "id": "01c3322f",
   "metadata": {},
   "outputs": [],
   "source": []
  }
 ],
 "metadata": {
  "kernelspec": {
   "display_name": "Python 3",
   "language": "python",
   "name": "python3"
  },
  "language_info": {
   "codemirror_mode": {
    "name": "ipython",
    "version": 3
   },
   "file_extension": ".py",
   "mimetype": "text/x-python",
   "name": "python",
   "nbconvert_exporter": "python",
   "pygments_lexer": "ipython3",
   "version": "3.8.8"
  }
 },
 "nbformat": 4,
 "nbformat_minor": 5
}
