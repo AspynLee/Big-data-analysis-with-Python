{
 "cells": [
  {
   "cell_type": "code",
   "execution_count": 1,
   "metadata": {},
   "outputs": [],
   "source": [
    "import numpy as np"
   ]
  },
  {
   "cell_type": "code",
   "execution_count": 2,
   "metadata": {},
   "outputs": [
    {
     "name": "stdout",
     "output_type": "stream",
     "text": [
      "Wall time: 2.31 s\n"
     ]
    },
    {
     "data": {
      "text/plain": [
       "-1243309312"
      ]
     },
     "execution_count": 2,
     "metadata": {},
     "output_type": "execute_result"
    }
   ],
   "source": [
    "%%time\n",
    "np.sum(np.arange(1,1000000000))"
   ]
  },
  {
   "cell_type": "code",
   "execution_count": 7,
   "metadata": {},
   "outputs": [],
   "source": [
    "arr1 = np.array([1,2,3,4],dtype=np.int8)\n",
    "arr1_1 = np.array((1,2,3,4))"
   ]
  },
  {
   "cell_type": "code",
   "execution_count": 6,
   "metadata": {},
   "outputs": [
    {
     "data": {
      "text/plain": [
       "dtype('int32')"
      ]
     },
     "execution_count": 6,
     "metadata": {},
     "output_type": "execute_result"
    }
   ],
   "source": [
    "arr1_1.dtype"
   ]
  },
  {
   "cell_type": "code",
   "execution_count": 8,
   "metadata": {},
   "outputs": [
    {
     "data": {
      "text/plain": [
       "dtype('int8')"
      ]
     },
     "execution_count": 8,
     "metadata": {},
     "output_type": "execute_result"
    }
   ],
   "source": [
    "arr1.dtype"
   ]
  },
  {
   "cell_type": "code",
   "execution_count": 13,
   "metadata": {},
   "outputs": [],
   "source": [
    "a = np.arange(1,5).reshape(2,2)"
   ]
  },
  {
   "cell_type": "code",
   "execution_count": 16,
   "metadata": {},
   "outputs": [],
   "source": [
    "a = np.matrix(a)"
   ]
  },
  {
   "cell_type": "code",
   "execution_count": 17,
   "metadata": {},
   "outputs": [],
   "source": [
    "b = np.matrix(b)"
   ]
  },
  {
   "cell_type": "code",
   "execution_count": 20,
   "metadata": {},
   "outputs": [],
   "source": [
    "arr = np.ndarray((5,3,2))"
   ]
  },
  {
   "cell_type": "code",
   "execution_count": 22,
   "metadata": {},
   "outputs": [
    {
     "data": {
      "text/plain": [
       "3"
      ]
     },
     "execution_count": 22,
     "metadata": {},
     "output_type": "execute_result"
    }
   ],
   "source": [
    "arr.ndim"
   ]
  },
  {
   "cell_type": "code",
   "execution_count": 23,
   "metadata": {},
   "outputs": [
    {
     "data": {
      "text/plain": [
       "(5, 3, 2)"
      ]
     },
     "execution_count": 23,
     "metadata": {},
     "output_type": "execute_result"
    }
   ],
   "source": [
    "arr.shape"
   ]
  },
  {
   "cell_type": "code",
   "execution_count": 24,
   "metadata": {},
   "outputs": [
    {
     "data": {
      "text/plain": [
       "dtype('float64')"
      ]
     },
     "execution_count": 24,
     "metadata": {},
     "output_type": "execute_result"
    }
   ],
   "source": [
    "arr.dtype"
   ]
  },
  {
   "cell_type": "code",
   "execution_count": 26,
   "metadata": {},
   "outputs": [],
   "source": [
    "arr = np.arange(1,7).reshape(2,3)"
   ]
  },
  {
   "cell_type": "code",
   "execution_count": 29,
   "metadata": {},
   "outputs": [
    {
     "data": {
      "text/plain": [
       "array([[14, 32],\n",
       "       [32, 77]])"
      ]
     },
     "execution_count": 29,
     "metadata": {},
     "output_type": "execute_result"
    }
   ],
   "source": [
    "arr.dot(arr.T)"
   ]
  },
  {
   "cell_type": "code",
   "execution_count": 33,
   "metadata": {},
   "outputs": [
    {
     "data": {
      "text/plain": [
       "array([[1., 0., 0.],\n",
       "       [0., 1., 0.],\n",
       "       [0., 0., 1.]])"
      ]
     },
     "execution_count": 33,
     "metadata": {},
     "output_type": "execute_result"
    }
   ],
   "source": [
    "np.identity(3)"
   ]
  },
  {
   "cell_type": "code",
   "execution_count": 36,
   "metadata": {},
   "outputs": [
    {
     "data": {
      "text/plain": [
       "array([[0., 1., 0.],\n",
       "       [0., 0., 1.],\n",
       "       [0., 0., 0.]])"
      ]
     },
     "execution_count": 36,
     "metadata": {},
     "output_type": "execute_result"
    }
   ],
   "source": [
    "np.eye(3,k=1)"
   ]
  },
  {
   "cell_type": "code",
   "execution_count": 54,
   "metadata": {},
   "outputs": [],
   "source": [
    "np.random.seed(100)\n",
    "x = np.random.randint(60,100,100)\n",
    "y = np.random.choice(np.arange(1,101),100,replace=False)"
   ]
  },
  {
   "cell_type": "code",
   "execution_count": 55,
   "metadata": {},
   "outputs": [
    {
     "data": {
      "text/plain": [
       "100"
      ]
     },
     "execution_count": 55,
     "metadata": {},
     "output_type": "execute_result"
    }
   ],
   "source": [
    "np.unique(y).size"
   ]
  },
  {
   "cell_type": "code",
   "execution_count": 77,
   "metadata": {},
   "outputs": [],
   "source": [
    "np.random.seed(100)\n",
    "x = np.random.randint(20,100,10000000)"
   ]
  },
  {
   "cell_type": "code",
   "execution_count": 78,
   "metadata": {},
   "outputs": [],
   "source": [
    "score = x.reshape(-1,4)"
   ]
  },
  {
   "cell_type": "code",
   "execution_count": 83,
   "metadata": {},
   "outputs": [
    {
     "data": {
      "text/plain": [
       "array([[28, 44],\n",
       "       [68, 30]])"
      ]
     },
     "execution_count": 83,
     "metadata": {},
     "output_type": "execute_result"
    }
   ],
   "source": [
    "score[[0,1]][:,[0,1]]"
   ]
  },
  {
   "cell_type": "code",
   "execution_count": 64,
   "metadata": {},
   "outputs": [
    {
     "data": {
      "text/plain": [
       "2016"
      ]
     },
     "execution_count": 64,
     "metadata": {},
     "output_type": "execute_result"
    }
   ],
   "source": [
    "s = 0\n",
    "for i in x:\n",
    "    if i % 3 == 0:\n",
    "        s +=i\n",
    "s"
   ]
  },
  {
   "cell_type": "code",
   "execution_count": 65,
   "metadata": {},
   "outputs": [
    {
     "data": {
      "text/plain": [
       "2016"
      ]
     },
     "execution_count": 65,
     "metadata": {},
     "output_type": "execute_result"
    }
   ],
   "source": [
    "x_t = []\n",
    "for i in x:\n",
    "    if i % 3==0:\n",
    "        x_t.append(i)\n",
    "sum(x_t)"
   ]
  },
  {
   "cell_type": "code",
   "execution_count": 67,
   "metadata": {},
   "outputs": [],
   "source": [
    "y = np.array([3,4,6])"
   ]
  },
  {
   "cell_type": "code",
   "execution_count": 73,
   "metadata": {},
   "outputs": [
    {
     "data": {
      "text/plain": [
       "2016"
      ]
     },
     "execution_count": 73,
     "metadata": {},
     "output_type": "execute_result"
    }
   ],
   "source": [
    "np.sum(x[x % 3 == 0])"
   ]
  },
  {
   "cell_type": "code",
   "execution_count": 70,
   "metadata": {},
   "outputs": [
    {
     "data": {
      "text/plain": [
       "array([3, 6])"
      ]
     },
     "execution_count": 70,
     "metadata": {},
     "output_type": "execute_result"
    }
   ],
   "source": [
    "y[[True,False,True]]"
   ]
  },
  {
   "cell_type": "code",
   "execution_count": 1,
   "metadata": {},
   "outputs": [],
   "source": [
    "import numpy as np"
   ]
  },
  {
   "cell_type": "code",
   "execution_count": 2,
   "metadata": {},
   "outputs": [
    {
     "data": {
      "text/plain": [
       "array([ 0.        ,  1.41421356,  2.82842712,  4.24264069,  5.65685425,\n",
       "        7.07106781,  8.48528137,  9.89949494, 11.3137085 , 12.72792206])"
      ]
     },
     "execution_count": 2,
     "metadata": {},
     "output_type": "execute_result"
    }
   ],
   "source": [
    "np.hypot(np.arange(10),np.arange(10))"
   ]
  },
  {
   "cell_type": "code",
   "execution_count": 16,
   "metadata": {},
   "outputs": [
    {
     "data": {
      "text/plain": [
       "array([ 0,  5, 10, 15,  1,  6, 11, 16,  2,  7, 12, 17,  3,  8, 13, 18,  4,\n",
       "        9, 14, 19])"
      ]
     },
     "execution_count": 16,
     "metadata": {},
     "output_type": "execute_result"
    }
   ],
   "source": [
    "np.arange(20).reshape(4,-1).T.flatten()"
   ]
  },
  {
   "cell_type": "code",
   "execution_count": 18,
   "metadata": {},
   "outputs": [
    {
     "data": {
      "text/plain": [
       "matrix([[ 7, 10],\n",
       "        [15, 22]])"
      ]
     },
     "execution_count": 18,
     "metadata": {},
     "output_type": "execute_result"
    }
   ],
   "source": [
    "np.matrix(np.array([1,2,3,4]).reshape(2,2)) * np.matrix(np.array([1,2,3,4]).reshape(2,2))"
   ]
  },
  {
   "cell_type": "code",
   "execution_count": 19,
   "metadata": {},
   "outputs": [
    {
     "data": {
      "text/plain": [
       "array([[ 7, 10],\n",
       "       [15, 22]])"
      ]
     },
     "execution_count": 19,
     "metadata": {},
     "output_type": "execute_result"
    }
   ],
   "source": [
    "np.array([1,2,3,4]).reshape(2,2).dot(np.array([1,2,3,4]).reshape(2,2)) "
   ]
  },
  {
   "cell_type": "code",
   "execution_count": 20,
   "metadata": {},
   "outputs": [],
   "source": [
    "## 10000000 개의 데이터를 만들어서\n",
    "np.random.seed(100)\n",
    "x = np.random.randint(60,100,10000000)\n",
    "x = x.reshape(-1,4)"
   ]
  },
  {
   "cell_type": "code",
   "execution_count": 24,
   "metadata": {},
   "outputs": [
    {
     "name": "stdout",
     "output_type": "stream",
     "text": [
      "79.48814666719981\n",
      "79.5231828541725\n"
     ]
    }
   ],
   "source": [
    "print(np.mean(x[x[:,3] > np.mean(x[:,3]),0]))\n",
    "print(np.mean(x[x[:,3] > np.mean(x[:,3]),1]))"
   ]
  },
  {
   "cell_type": "code",
   "execution_count": 34,
   "metadata": {},
   "outputs": [
    {
     "data": {
      "text/plain": [
       "1250450"
      ]
     },
     "execution_count": 34,
     "metadata": {},
     "output_type": "execute_result"
    }
   ],
   "source": [
    "np.mean(x[x[:,3] > np.mean(x[:,3]),0:2],axis=1).size"
   ]
  },
  {
   "cell_type": "code",
   "execution_count": 32,
   "metadata": {},
   "outputs": [
    {
     "data": {
      "text/plain": [
       "1250450"
      ]
     },
     "execution_count": 32,
     "metadata": {},
     "output_type": "execute_result"
    }
   ],
   "source": [
    "np.sum(x[:,3] > np.mean(x[:,3]))"
   ]
  },
  {
   "cell_type": "code",
   "execution_count": 35,
   "metadata": {},
   "outputs": [],
   "source": [
    "arr = np.array([1,2,3,4,5,6])"
   ]
  },
  {
   "cell_type": "code",
   "execution_count": 36,
   "metadata": {},
   "outputs": [
    {
     "data": {
      "text/plain": [
       "array([1, 2, 3, 4, 5, 6])"
      ]
     },
     "execution_count": 36,
     "metadata": {},
     "output_type": "execute_result"
    }
   ],
   "source": [
    "arr"
   ]
  },
  {
   "cell_type": "code",
   "execution_count": 38,
   "metadata": {},
   "outputs": [
    {
     "data": {
      "text/plain": [
       "21"
      ]
     },
     "execution_count": 38,
     "metadata": {},
     "output_type": "execute_result"
    }
   ],
   "source": [
    "np.sum(arr)"
   ]
  },
  {
   "cell_type": "code",
   "execution_count": 39,
   "metadata": {},
   "outputs": [
    {
     "data": {
      "text/plain": [
       "21"
      ]
     },
     "execution_count": 39,
     "metadata": {},
     "output_type": "execute_result"
    }
   ],
   "source": [
    "arr.sum()"
   ]
  },
  {
   "cell_type": "code",
   "execution_count": 40,
   "metadata": {},
   "outputs": [
    {
     "data": {
      "text/plain": [
       "['T',\n",
       " '__abs__',\n",
       " '__add__',\n",
       " '__and__',\n",
       " '__array__',\n",
       " '__array_finalize__',\n",
       " '__array_function__',\n",
       " '__array_interface__',\n",
       " '__array_prepare__',\n",
       " '__array_priority__',\n",
       " '__array_struct__',\n",
       " '__array_ufunc__',\n",
       " '__array_wrap__',\n",
       " '__bool__',\n",
       " '__class__',\n",
       " '__complex__',\n",
       " '__contains__',\n",
       " '__copy__',\n",
       " '__deepcopy__',\n",
       " '__delattr__',\n",
       " '__delitem__',\n",
       " '__dir__',\n",
       " '__divmod__',\n",
       " '__doc__',\n",
       " '__eq__',\n",
       " '__float__',\n",
       " '__floordiv__',\n",
       " '__format__',\n",
       " '__ge__',\n",
       " '__getattribute__',\n",
       " '__getitem__',\n",
       " '__gt__',\n",
       " '__hash__',\n",
       " '__iadd__',\n",
       " '__iand__',\n",
       " '__ifloordiv__',\n",
       " '__ilshift__',\n",
       " '__imatmul__',\n",
       " '__imod__',\n",
       " '__imul__',\n",
       " '__index__',\n",
       " '__init__',\n",
       " '__init_subclass__',\n",
       " '__int__',\n",
       " '__invert__',\n",
       " '__ior__',\n",
       " '__ipow__',\n",
       " '__irshift__',\n",
       " '__isub__',\n",
       " '__iter__',\n",
       " '__itruediv__',\n",
       " '__ixor__',\n",
       " '__le__',\n",
       " '__len__',\n",
       " '__lshift__',\n",
       " '__lt__',\n",
       " '__matmul__',\n",
       " '__mod__',\n",
       " '__mul__',\n",
       " '__ne__',\n",
       " '__neg__',\n",
       " '__new__',\n",
       " '__or__',\n",
       " '__pos__',\n",
       " '__pow__',\n",
       " '__radd__',\n",
       " '__rand__',\n",
       " '__rdivmod__',\n",
       " '__reduce__',\n",
       " '__reduce_ex__',\n",
       " '__repr__',\n",
       " '__rfloordiv__',\n",
       " '__rlshift__',\n",
       " '__rmatmul__',\n",
       " '__rmod__',\n",
       " '__rmul__',\n",
       " '__ror__',\n",
       " '__rpow__',\n",
       " '__rrshift__',\n",
       " '__rshift__',\n",
       " '__rsub__',\n",
       " '__rtruediv__',\n",
       " '__rxor__',\n",
       " '__setattr__',\n",
       " '__setitem__',\n",
       " '__setstate__',\n",
       " '__sizeof__',\n",
       " '__str__',\n",
       " '__sub__',\n",
       " '__subclasshook__',\n",
       " '__truediv__',\n",
       " '__xor__',\n",
       " 'all',\n",
       " 'any',\n",
       " 'argmax',\n",
       " 'argmin',\n",
       " 'argpartition',\n",
       " 'argsort',\n",
       " 'astype',\n",
       " 'base',\n",
       " 'byteswap',\n",
       " 'choose',\n",
       " 'clip',\n",
       " 'compress',\n",
       " 'conj',\n",
       " 'conjugate',\n",
       " 'copy',\n",
       " 'ctypes',\n",
       " 'cumprod',\n",
       " 'cumsum',\n",
       " 'data',\n",
       " 'diagonal',\n",
       " 'dot',\n",
       " 'dtype',\n",
       " 'dump',\n",
       " 'dumps',\n",
       " 'fill',\n",
       " 'flags',\n",
       " 'flat',\n",
       " 'flatten',\n",
       " 'getfield',\n",
       " 'imag',\n",
       " 'item',\n",
       " 'itemset',\n",
       " 'itemsize',\n",
       " 'max',\n",
       " 'mean',\n",
       " 'min',\n",
       " 'nbytes',\n",
       " 'ndim',\n",
       " 'newbyteorder',\n",
       " 'nonzero',\n",
       " 'partition',\n",
       " 'prod',\n",
       " 'ptp',\n",
       " 'put',\n",
       " 'ravel',\n",
       " 'real',\n",
       " 'repeat',\n",
       " 'reshape',\n",
       " 'resize',\n",
       " 'round',\n",
       " 'searchsorted',\n",
       " 'setfield',\n",
       " 'setflags',\n",
       " 'shape',\n",
       " 'size',\n",
       " 'sort',\n",
       " 'squeeze',\n",
       " 'std',\n",
       " 'strides',\n",
       " 'sum',\n",
       " 'swapaxes',\n",
       " 'take',\n",
       " 'tobytes',\n",
       " 'tofile',\n",
       " 'tolist',\n",
       " 'tostring',\n",
       " 'trace',\n",
       " 'transpose',\n",
       " 'var',\n",
       " 'view']"
      ]
     },
     "execution_count": 40,
     "metadata": {},
     "output_type": "execute_result"
    }
   ],
   "source": [
    "dir(np.ndarray)"
   ]
  },
  {
   "cell_type": "code",
   "execution_count": 41,
   "metadata": {},
   "outputs": [
    {
     "data": {
      "text/plain": [
       "['ALLOW_THREADS',\n",
       " 'AxisError',\n",
       " 'BUFSIZE',\n",
       " 'CLIP',\n",
       " 'ComplexWarning',\n",
       " 'DataSource',\n",
       " 'ERR_CALL',\n",
       " 'ERR_DEFAULT',\n",
       " 'ERR_IGNORE',\n",
       " 'ERR_LOG',\n",
       " 'ERR_PRINT',\n",
       " 'ERR_RAISE',\n",
       " 'ERR_WARN',\n",
       " 'FLOATING_POINT_SUPPORT',\n",
       " 'FPE_DIVIDEBYZERO',\n",
       " 'FPE_INVALID',\n",
       " 'FPE_OVERFLOW',\n",
       " 'FPE_UNDERFLOW',\n",
       " 'False_',\n",
       " 'Inf',\n",
       " 'Infinity',\n",
       " 'MAXDIMS',\n",
       " 'MAY_SHARE_BOUNDS',\n",
       " 'MAY_SHARE_EXACT',\n",
       " 'MachAr',\n",
       " 'ModuleDeprecationWarning',\n",
       " 'NAN',\n",
       " 'NINF',\n",
       " 'NZERO',\n",
       " 'NaN',\n",
       " 'PINF',\n",
       " 'PZERO',\n",
       " 'RAISE',\n",
       " 'RankWarning',\n",
       " 'SHIFT_DIVIDEBYZERO',\n",
       " 'SHIFT_INVALID',\n",
       " 'SHIFT_OVERFLOW',\n",
       " 'SHIFT_UNDERFLOW',\n",
       " 'ScalarType',\n",
       " 'Tester',\n",
       " 'TooHardError',\n",
       " 'True_',\n",
       " 'UFUNC_BUFSIZE_DEFAULT',\n",
       " 'UFUNC_PYVALS_NAME',\n",
       " 'VisibleDeprecationWarning',\n",
       " 'WRAP',\n",
       " '_NoValue',\n",
       " '_UFUNC_API',\n",
       " '__NUMPY_SETUP__',\n",
       " '__all__',\n",
       " '__builtins__',\n",
       " '__cached__',\n",
       " '__config__',\n",
       " '__dir__',\n",
       " '__doc__',\n",
       " '__file__',\n",
       " '__getattr__',\n",
       " '__git_revision__',\n",
       " '__loader__',\n",
       " '__mkl_version__',\n",
       " '__name__',\n",
       " '__package__',\n",
       " '__path__',\n",
       " '__spec__',\n",
       " '__version__',\n",
       " '_add_newdoc_ufunc',\n",
       " '_distributor_init',\n",
       " '_globals',\n",
       " '_mat',\n",
       " '_pytesttester',\n",
       " 'abs',\n",
       " 'absolute',\n",
       " 'add',\n",
       " 'add_docstring',\n",
       " 'add_newdoc',\n",
       " 'add_newdoc_ufunc',\n",
       " 'alen',\n",
       " 'all',\n",
       " 'allclose',\n",
       " 'alltrue',\n",
       " 'amax',\n",
       " 'amin',\n",
       " 'angle',\n",
       " 'any',\n",
       " 'append',\n",
       " 'apply_along_axis',\n",
       " 'apply_over_axes',\n",
       " 'arange',\n",
       " 'arccos',\n",
       " 'arccosh',\n",
       " 'arcsin',\n",
       " 'arcsinh',\n",
       " 'arctan',\n",
       " 'arctan2',\n",
       " 'arctanh',\n",
       " 'argmax',\n",
       " 'argmin',\n",
       " 'argpartition',\n",
       " 'argsort',\n",
       " 'argwhere',\n",
       " 'around',\n",
       " 'array',\n",
       " 'array2string',\n",
       " 'array_equal',\n",
       " 'array_equiv',\n",
       " 'array_repr',\n",
       " 'array_split',\n",
       " 'array_str',\n",
       " 'asanyarray',\n",
       " 'asarray',\n",
       " 'asarray_chkfinite',\n",
       " 'ascontiguousarray',\n",
       " 'asfarray',\n",
       " 'asfortranarray',\n",
       " 'asmatrix',\n",
       " 'asscalar',\n",
       " 'atleast_1d',\n",
       " 'atleast_2d',\n",
       " 'atleast_3d',\n",
       " 'average',\n",
       " 'bartlett',\n",
       " 'base_repr',\n",
       " 'binary_repr',\n",
       " 'bincount',\n",
       " 'bitwise_and',\n",
       " 'bitwise_not',\n",
       " 'bitwise_or',\n",
       " 'bitwise_xor',\n",
       " 'blackman',\n",
       " 'block',\n",
       " 'bmat',\n",
       " 'bool',\n",
       " 'bool8',\n",
       " 'bool_',\n",
       " 'broadcast',\n",
       " 'broadcast_arrays',\n",
       " 'broadcast_to',\n",
       " 'busday_count',\n",
       " 'busday_offset',\n",
       " 'busdaycalendar',\n",
       " 'byte',\n",
       " 'byte_bounds',\n",
       " 'bytes0',\n",
       " 'bytes_',\n",
       " 'c_',\n",
       " 'can_cast',\n",
       " 'cast',\n",
       " 'cbrt',\n",
       " 'cdouble',\n",
       " 'ceil',\n",
       " 'cfloat',\n",
       " 'char',\n",
       " 'character',\n",
       " 'chararray',\n",
       " 'choose',\n",
       " 'clip',\n",
       " 'clongdouble',\n",
       " 'clongfloat',\n",
       " 'column_stack',\n",
       " 'common_type',\n",
       " 'compare_chararrays',\n",
       " 'compat',\n",
       " 'complex',\n",
       " 'complex128',\n",
       " 'complex64',\n",
       " 'complex_',\n",
       " 'complexfloating',\n",
       " 'compress',\n",
       " 'concatenate',\n",
       " 'conj',\n",
       " 'conjugate',\n",
       " 'convolve',\n",
       " 'copy',\n",
       " 'copysign',\n",
       " 'copyto',\n",
       " 'core',\n",
       " 'corrcoef',\n",
       " 'correlate',\n",
       " 'cos',\n",
       " 'cosh',\n",
       " 'count_nonzero',\n",
       " 'cov',\n",
       " 'cross',\n",
       " 'csingle',\n",
       " 'ctypeslib',\n",
       " 'cumprod',\n",
       " 'cumproduct',\n",
       " 'cumsum',\n",
       " 'datetime64',\n",
       " 'datetime_as_string',\n",
       " 'datetime_data',\n",
       " 'deg2rad',\n",
       " 'degrees',\n",
       " 'delete',\n",
       " 'deprecate',\n",
       " 'deprecate_with_doc',\n",
       " 'diag',\n",
       " 'diag_indices',\n",
       " 'diag_indices_from',\n",
       " 'diagflat',\n",
       " 'diagonal',\n",
       " 'diff',\n",
       " 'digitize',\n",
       " 'disp',\n",
       " 'divide',\n",
       " 'divmod',\n",
       " 'dot',\n",
       " 'double',\n",
       " 'dsplit',\n",
       " 'dstack',\n",
       " 'dtype',\n",
       " 'e',\n",
       " 'ediff1d',\n",
       " 'einsum',\n",
       " 'einsum_path',\n",
       " 'emath',\n",
       " 'empty',\n",
       " 'empty_like',\n",
       " 'equal',\n",
       " 'errstate',\n",
       " 'euler_gamma',\n",
       " 'exp',\n",
       " 'exp2',\n",
       " 'expand_dims',\n",
       " 'expm1',\n",
       " 'extract',\n",
       " 'eye',\n",
       " 'fabs',\n",
       " 'fastCopyAndTranspose',\n",
       " 'fft',\n",
       " 'fill_diagonal',\n",
       " 'find_common_type',\n",
       " 'finfo',\n",
       " 'fix',\n",
       " 'flatiter',\n",
       " 'flatnonzero',\n",
       " 'flexible',\n",
       " 'flip',\n",
       " 'fliplr',\n",
       " 'flipud',\n",
       " 'float',\n",
       " 'float16',\n",
       " 'float32',\n",
       " 'float64',\n",
       " 'float_',\n",
       " 'float_power',\n",
       " 'floating',\n",
       " 'floor',\n",
       " 'floor_divide',\n",
       " 'fmax',\n",
       " 'fmin',\n",
       " 'fmod',\n",
       " 'format_float_positional',\n",
       " 'format_float_scientific',\n",
       " 'format_parser',\n",
       " 'frexp',\n",
       " 'frombuffer',\n",
       " 'fromfile',\n",
       " 'fromfunction',\n",
       " 'fromiter',\n",
       " 'frompyfunc',\n",
       " 'fromregex',\n",
       " 'fromstring',\n",
       " 'full',\n",
       " 'full_like',\n",
       " 'fv',\n",
       " 'gcd',\n",
       " 'generic',\n",
       " 'genfromtxt',\n",
       " 'geomspace',\n",
       " 'get_array_wrap',\n",
       " 'get_include',\n",
       " 'get_printoptions',\n",
       " 'getbufsize',\n",
       " 'geterr',\n",
       " 'geterrcall',\n",
       " 'geterrobj',\n",
       " 'gradient',\n",
       " 'greater',\n",
       " 'greater_equal',\n",
       " 'half',\n",
       " 'hamming',\n",
       " 'hanning',\n",
       " 'heaviside',\n",
       " 'histogram',\n",
       " 'histogram2d',\n",
       " 'histogram_bin_edges',\n",
       " 'histogramdd',\n",
       " 'hsplit',\n",
       " 'hstack',\n",
       " 'hypot',\n",
       " 'i0',\n",
       " 'identity',\n",
       " 'iinfo',\n",
       " 'imag',\n",
       " 'in1d',\n",
       " 'index_exp',\n",
       " 'indices',\n",
       " 'inexact',\n",
       " 'inf',\n",
       " 'info',\n",
       " 'infty',\n",
       " 'inner',\n",
       " 'insert',\n",
       " 'int',\n",
       " 'int0',\n",
       " 'int16',\n",
       " 'int32',\n",
       " 'int64',\n",
       " 'int8',\n",
       " 'int_',\n",
       " 'intc',\n",
       " 'integer',\n",
       " 'interp',\n",
       " 'intersect1d',\n",
       " 'intp',\n",
       " 'invert',\n",
       " 'ipmt',\n",
       " 'irr',\n",
       " 'is_busday',\n",
       " 'isclose',\n",
       " 'iscomplex',\n",
       " 'iscomplexobj',\n",
       " 'isfinite',\n",
       " 'isfortran',\n",
       " 'isin',\n",
       " 'isinf',\n",
       " 'isnan',\n",
       " 'isnat',\n",
       " 'isneginf',\n",
       " 'isposinf',\n",
       " 'isreal',\n",
       " 'isrealobj',\n",
       " 'isscalar',\n",
       " 'issctype',\n",
       " 'issubclass_',\n",
       " 'issubdtype',\n",
       " 'issubsctype',\n",
       " 'iterable',\n",
       " 'ix_',\n",
       " 'kaiser',\n",
       " 'kron',\n",
       " 'lcm',\n",
       " 'ldexp',\n",
       " 'left_shift',\n",
       " 'less',\n",
       " 'less_equal',\n",
       " 'lexsort',\n",
       " 'lib',\n",
       " 'linalg',\n",
       " 'linspace',\n",
       " 'little_endian',\n",
       " 'load',\n",
       " 'loads',\n",
       " 'loadtxt',\n",
       " 'log',\n",
       " 'log10',\n",
       " 'log1p',\n",
       " 'log2',\n",
       " 'logaddexp',\n",
       " 'logaddexp2',\n",
       " 'logical_and',\n",
       " 'logical_not',\n",
       " 'logical_or',\n",
       " 'logical_xor',\n",
       " 'logspace',\n",
       " 'long',\n",
       " 'longcomplex',\n",
       " 'longdouble',\n",
       " 'longfloat',\n",
       " 'longlong',\n",
       " 'lookfor',\n",
       " 'ma',\n",
       " 'mafromtxt',\n",
       " 'mask_indices',\n",
       " 'mat',\n",
       " 'math',\n",
       " 'matmul',\n",
       " 'matrix',\n",
       " 'matrixlib',\n",
       " 'max',\n",
       " 'maximum',\n",
       " 'maximum_sctype',\n",
       " 'may_share_memory',\n",
       " 'mean',\n",
       " 'median',\n",
       " 'memmap',\n",
       " 'meshgrid',\n",
       " 'mgrid',\n",
       " 'min',\n",
       " 'min_scalar_type',\n",
       " 'minimum',\n",
       " 'mintypecode',\n",
       " 'mirr',\n",
       " 'mkl',\n",
       " 'mod',\n",
       " 'modf',\n",
       " 'moveaxis',\n",
       " 'msort',\n",
       " 'multiply',\n",
       " 'nan',\n",
       " 'nan_to_num',\n",
       " 'nanargmax',\n",
       " 'nanargmin',\n",
       " 'nancumprod',\n",
       " 'nancumsum',\n",
       " 'nanmax',\n",
       " 'nanmean',\n",
       " 'nanmedian',\n",
       " 'nanmin',\n",
       " 'nanpercentile',\n",
       " 'nanprod',\n",
       " 'nanquantile',\n",
       " 'nanstd',\n",
       " 'nansum',\n",
       " 'nanvar',\n",
       " 'nbytes',\n",
       " 'ndarray',\n",
       " 'ndenumerate',\n",
       " 'ndfromtxt',\n",
       " 'ndim',\n",
       " 'ndindex',\n",
       " 'nditer',\n",
       " 'negative',\n",
       " 'nested_iters',\n",
       " 'newaxis',\n",
       " 'nextafter',\n",
       " 'nonzero',\n",
       " 'not_equal',\n",
       " 'nper',\n",
       " 'npv',\n",
       " 'numarray',\n",
       " 'number',\n",
       " 'obj2sctype',\n",
       " 'object',\n",
       " 'object0',\n",
       " 'object_',\n",
       " 'ogrid',\n",
       " 'oldnumeric',\n",
       " 'ones',\n",
       " 'ones_like',\n",
       " 'os',\n",
       " 'outer',\n",
       " 'packbits',\n",
       " 'pad',\n",
       " 'partition',\n",
       " 'percentile',\n",
       " 'pi',\n",
       " 'piecewise',\n",
       " 'place',\n",
       " 'pmt',\n",
       " 'poly',\n",
       " 'poly1d',\n",
       " 'polyadd',\n",
       " 'polyder',\n",
       " 'polydiv',\n",
       " 'polyfit',\n",
       " 'polyint',\n",
       " 'polymul',\n",
       " 'polynomial',\n",
       " 'polysub',\n",
       " 'polyval',\n",
       " 'positive',\n",
       " 'power',\n",
       " 'ppmt',\n",
       " 'printoptions',\n",
       " 'prod',\n",
       " 'product',\n",
       " 'promote_types',\n",
       " 'ptp',\n",
       " 'put',\n",
       " 'put_along_axis',\n",
       " 'putmask',\n",
       " 'pv',\n",
       " 'quantile',\n",
       " 'r_',\n",
       " 'rad2deg',\n",
       " 'radians',\n",
       " 'random',\n",
       " 'rate',\n",
       " 'ravel',\n",
       " 'ravel_multi_index',\n",
       " 'real',\n",
       " 'real_if_close',\n",
       " 'rec',\n",
       " 'recarray',\n",
       " 'recfromcsv',\n",
       " 'recfromtxt',\n",
       " 'reciprocal',\n",
       " 'record',\n",
       " 'remainder',\n",
       " 'repeat',\n",
       " 'require',\n",
       " 'reshape',\n",
       " 'resize',\n",
       " 'result_type',\n",
       " 'right_shift',\n",
       " 'rint',\n",
       " 'roll',\n",
       " 'rollaxis',\n",
       " 'roots',\n",
       " 'rot90',\n",
       " 'round',\n",
       " 'round_',\n",
       " 'row_stack',\n",
       " 's_',\n",
       " 'safe_eval',\n",
       " 'save',\n",
       " 'savetxt',\n",
       " 'savez',\n",
       " 'savez_compressed',\n",
       " 'sctype2char',\n",
       " 'sctypeDict',\n",
       " 'sctypeNA',\n",
       " 'sctypes',\n",
       " 'searchsorted',\n",
       " 'select',\n",
       " 'set_numeric_ops',\n",
       " 'set_printoptions',\n",
       " 'set_string_function',\n",
       " 'setbufsize',\n",
       " 'setdiff1d',\n",
       " 'seterr',\n",
       " 'seterrcall',\n",
       " 'seterrobj',\n",
       " 'setxor1d',\n",
       " 'shape',\n",
       " 'shares_memory',\n",
       " 'short',\n",
       " 'show_config',\n",
       " 'sign',\n",
       " 'signbit',\n",
       " 'signedinteger',\n",
       " 'sin',\n",
       " 'sinc',\n",
       " 'single',\n",
       " 'singlecomplex',\n",
       " 'sinh',\n",
       " 'size',\n",
       " 'sometrue',\n",
       " 'sort',\n",
       " 'sort_complex',\n",
       " 'source',\n",
       " 'spacing',\n",
       " 'split',\n",
       " 'sqrt',\n",
       " 'square',\n",
       " 'squeeze',\n",
       " 'stack',\n",
       " 'std',\n",
       " 'str',\n",
       " 'str0',\n",
       " 'str_',\n",
       " 'string_',\n",
       " 'subtract',\n",
       " 'sum',\n",
       " 'swapaxes',\n",
       " 'sys',\n",
       " 'take',\n",
       " 'take_along_axis',\n",
       " 'tan',\n",
       " 'tanh',\n",
       " 'tensordot',\n",
       " 'test',\n",
       " 'testing',\n",
       " 'tile',\n",
       " 'timedelta64',\n",
       " 'trace',\n",
       " 'tracemalloc_domain',\n",
       " 'transpose',\n",
       " 'trapz',\n",
       " 'tri',\n",
       " 'tril',\n",
       " 'tril_indices',\n",
       " 'tril_indices_from',\n",
       " 'trim_zeros',\n",
       " 'triu',\n",
       " 'triu_indices',\n",
       " 'triu_indices_from',\n",
       " 'true_divide',\n",
       " 'trunc',\n",
       " 'typeDict',\n",
       " 'typeNA',\n",
       " 'typecodes',\n",
       " 'typename',\n",
       " 'ubyte',\n",
       " 'ufunc',\n",
       " 'uint',\n",
       " 'uint0',\n",
       " 'uint16',\n",
       " 'uint32',\n",
       " 'uint64',\n",
       " 'uint8',\n",
       " 'uintc',\n",
       " 'uintp',\n",
       " 'ulonglong',\n",
       " 'unicode',\n",
       " 'unicode_',\n",
       " 'union1d',\n",
       " 'unique',\n",
       " 'unpackbits',\n",
       " 'unravel_index',\n",
       " 'unsignedinteger',\n",
       " 'unwrap',\n",
       " 'use_hugepage',\n",
       " 'ushort',\n",
       " 'vander',\n",
       " 'var',\n",
       " 'vdot',\n",
       " 'vectorize',\n",
       " 'version',\n",
       " 'void',\n",
       " 'void0',\n",
       " 'vsplit',\n",
       " 'vstack',\n",
       " 'warnings',\n",
       " 'where',\n",
       " 'who',\n",
       " 'zeros',\n",
       " 'zeros_like']"
      ]
     },
     "execution_count": 41,
     "metadata": {},
     "output_type": "execute_result"
    }
   ],
   "source": [
    "dir(np)"
   ]
  },
  {
   "cell_type": "code",
   "execution_count": 43,
   "metadata": {},
   "outputs": [
    {
     "data": {
      "text/plain": [
       "['T',\n",
       " '__abs__',\n",
       " '__add__',\n",
       " '__and__',\n",
       " '__array__',\n",
       " '__array_finalize__',\n",
       " '__array_function__',\n",
       " '__array_interface__',\n",
       " '__array_prepare__',\n",
       " '__array_priority__',\n",
       " '__array_struct__',\n",
       " '__array_ufunc__',\n",
       " '__array_wrap__',\n",
       " '__bool__',\n",
       " '__class__',\n",
       " '__complex__',\n",
       " '__contains__',\n",
       " '__copy__',\n",
       " '__deepcopy__',\n",
       " '__delattr__',\n",
       " '__delitem__',\n",
       " '__dir__',\n",
       " '__divmod__',\n",
       " '__doc__',\n",
       " '__eq__',\n",
       " '__float__',\n",
       " '__floordiv__',\n",
       " '__format__',\n",
       " '__ge__',\n",
       " '__getattribute__',\n",
       " '__getitem__',\n",
       " '__gt__',\n",
       " '__hash__',\n",
       " '__iadd__',\n",
       " '__iand__',\n",
       " '__ifloordiv__',\n",
       " '__ilshift__',\n",
       " '__imatmul__',\n",
       " '__imod__',\n",
       " '__imul__',\n",
       " '__index__',\n",
       " '__init__',\n",
       " '__init_subclass__',\n",
       " '__int__',\n",
       " '__invert__',\n",
       " '__ior__',\n",
       " '__ipow__',\n",
       " '__irshift__',\n",
       " '__isub__',\n",
       " '__iter__',\n",
       " '__itruediv__',\n",
       " '__ixor__',\n",
       " '__le__',\n",
       " '__len__',\n",
       " '__lshift__',\n",
       " '__lt__',\n",
       " '__matmul__',\n",
       " '__mod__',\n",
       " '__mul__',\n",
       " '__ne__',\n",
       " '__neg__',\n",
       " '__new__',\n",
       " '__or__',\n",
       " '__pos__',\n",
       " '__pow__',\n",
       " '__radd__',\n",
       " '__rand__',\n",
       " '__rdivmod__',\n",
       " '__reduce__',\n",
       " '__reduce_ex__',\n",
       " '__repr__',\n",
       " '__rfloordiv__',\n",
       " '__rlshift__',\n",
       " '__rmatmul__',\n",
       " '__rmod__',\n",
       " '__rmul__',\n",
       " '__ror__',\n",
       " '__rpow__',\n",
       " '__rrshift__',\n",
       " '__rshift__',\n",
       " '__rsub__',\n",
       " '__rtruediv__',\n",
       " '__rxor__',\n",
       " '__setattr__',\n",
       " '__setitem__',\n",
       " '__setstate__',\n",
       " '__sizeof__',\n",
       " '__str__',\n",
       " '__sub__',\n",
       " '__subclasshook__',\n",
       " '__truediv__',\n",
       " '__xor__',\n",
       " 'all',\n",
       " 'any',\n",
       " 'argmax',\n",
       " 'argmin',\n",
       " 'argpartition',\n",
       " 'argsort',\n",
       " 'astype',\n",
       " 'base',\n",
       " 'byteswap',\n",
       " 'choose',\n",
       " 'clip',\n",
       " 'compress',\n",
       " 'conj',\n",
       " 'conjugate',\n",
       " 'copy',\n",
       " 'ctypes',\n",
       " 'cumprod',\n",
       " 'cumsum',\n",
       " 'data',\n",
       " 'diagonal',\n",
       " 'dot',\n",
       " 'dtype',\n",
       " 'dump',\n",
       " 'dumps',\n",
       " 'fill',\n",
       " 'flags',\n",
       " 'flat',\n",
       " 'flatten',\n",
       " 'getfield',\n",
       " 'imag',\n",
       " 'item',\n",
       " 'itemset',\n",
       " 'itemsize',\n",
       " 'max',\n",
       " 'mean',\n",
       " 'min',\n",
       " 'nbytes',\n",
       " 'ndim',\n",
       " 'newbyteorder',\n",
       " 'nonzero',\n",
       " 'partition',\n",
       " 'prod',\n",
       " 'ptp',\n",
       " 'put',\n",
       " 'ravel',\n",
       " 'real',\n",
       " 'repeat',\n",
       " 'reshape',\n",
       " 'resize',\n",
       " 'round',\n",
       " 'searchsorted',\n",
       " 'setfield',\n",
       " 'setflags',\n",
       " 'shape',\n",
       " 'size',\n",
       " 'sort',\n",
       " 'squeeze',\n",
       " 'std',\n",
       " 'strides',\n",
       " 'sum',\n",
       " 'swapaxes',\n",
       " 'take',\n",
       " 'tobytes',\n",
       " 'tofile',\n",
       " 'tolist',\n",
       " 'tostring',\n",
       " 'trace',\n",
       " 'transpose',\n",
       " 'var',\n",
       " 'view']"
      ]
     },
     "execution_count": 43,
     "metadata": {},
     "output_type": "execute_result"
    }
   ],
   "source": [
    "dir(arr)"
   ]
  },
  {
   "cell_type": "code",
   "execution_count": 44,
   "metadata": {},
   "outputs": [],
   "source": [
    "import numpy as np"
   ]
  },
  {
   "cell_type": "code",
   "execution_count": 45,
   "metadata": {},
   "outputs": [
    {
     "data": {
      "text/plain": [
       "array([1, 2, 3])"
      ]
     },
     "execution_count": 45,
     "metadata": {},
     "output_type": "execute_result"
    }
   ],
   "source": [
    "# 1,2,3의 원소를 갖는 1차원 배열 array생성\n",
    "a = np.array([1,2,3])\n",
    "a"
   ]
  },
  {
   "cell_type": "code",
   "execution_count": 48,
   "metadata": {},
   "outputs": [
    {
     "data": {
      "text/plain": [
       "1"
      ]
     },
     "execution_count": 48,
     "metadata": {},
     "output_type": "execute_result"
    }
   ],
   "source": [
    "a.ndim"
   ]
  },
  {
   "cell_type": "code",
   "execution_count": 51,
   "metadata": {},
   "outputs": [
    {
     "data": {
      "text/plain": [
       "(3,)"
      ]
     },
     "execution_count": 51,
     "metadata": {},
     "output_type": "execute_result"
    }
   ],
   "source": [
    "a.shape"
   ]
  },
  {
   "cell_type": "code",
   "execution_count": 52,
   "metadata": {},
   "outputs": [
    {
     "data": {
      "text/plain": [
       "dtype('int32')"
      ]
     },
     "execution_count": 52,
     "metadata": {},
     "output_type": "execute_result"
    }
   ],
   "source": [
    "a.dtype"
   ]
  },
  {
   "cell_type": "code",
   "execution_count": 53,
   "metadata": {},
   "outputs": [],
   "source": [
    "a  = a.astype('object')"
   ]
  },
  {
   "cell_type": "code",
   "execution_count": 56,
   "metadata": {},
   "outputs": [],
   "source": [
    "a = a.reshape(1,3)"
   ]
  },
  {
   "cell_type": "code",
   "execution_count": 58,
   "metadata": {},
   "outputs": [],
   "source": [
    "b = a.reshape(3,1)"
   ]
  },
  {
   "cell_type": "code",
   "execution_count": 60,
   "metadata": {},
   "outputs": [],
   "source": [
    "arr = np.array([1,2,3,4.],dtype=)"
   ]
  },
  {
   "cell_type": "code",
   "execution_count": 61,
   "metadata": {},
   "outputs": [
    {
     "data": {
      "text/plain": [
       "dtype('float64')"
      ]
     },
     "execution_count": 61,
     "metadata": {},
     "output_type": "execute_result"
    }
   ],
   "source": [
    "arr.dtype"
   ]
  },
  {
   "cell_type": "code",
   "execution_count": 64,
   "metadata": {},
   "outputs": [
    {
     "data": {
      "text/plain": [
       "nan"
      ]
     },
     "execution_count": 64,
     "metadata": {},
     "output_type": "execute_result"
    }
   ],
   "source": [
    "np.nan"
   ]
  },
  {
   "cell_type": "code",
   "execution_count": 65,
   "metadata": {},
   "outputs": [],
   "source": [
    "None"
   ]
  },
  {
   "cell_type": "code",
   "execution_count": 69,
   "metadata": {},
   "outputs": [],
   "source": [
    "arr = np.array([1,2,4,np.nan])"
   ]
  },
  {
   "cell_type": "code",
   "execution_count": 72,
   "metadata": {},
   "outputs": [],
   "source": [
    "x = np.arange(10)"
   ]
  },
  {
   "cell_type": "code",
   "execution_count": 73,
   "metadata": {},
   "outputs": [
    {
     "data": {
      "text/plain": [
       "array([0, 1, 2, 3, 4, 5, 6, 7, 8, 9])"
      ]
     },
     "execution_count": 73,
     "metadata": {},
     "output_type": "execute_result"
    }
   ],
   "source": [
    "x"
   ]
  },
  {
   "cell_type": "code",
   "execution_count": 74,
   "metadata": {},
   "outputs": [],
   "source": [
    "x_2 = x.reshape(2,5)"
   ]
  },
  {
   "cell_type": "code",
   "execution_count": 75,
   "metadata": {},
   "outputs": [
    {
     "data": {
      "text/plain": [
       "array([[0, 1, 2, 3, 4],\n",
       "       [5, 6, 7, 8, 9]])"
      ]
     },
     "execution_count": 75,
     "metadata": {},
     "output_type": "execute_result"
    }
   ],
   "source": [
    "x_2"
   ]
  },
  {
   "cell_type": "code",
   "execution_count": 76,
   "metadata": {},
   "outputs": [
    {
     "data": {
      "text/plain": [
       "array([0, 1, 2, 3, 4, 5, 6, 7, 8, 9])"
      ]
     },
     "execution_count": 76,
     "metadata": {},
     "output_type": "execute_result"
    }
   ],
   "source": [
    "x_2.flatten()"
   ]
  },
  {
   "cell_type": "code",
   "execution_count": 77,
   "metadata": {},
   "outputs": [],
   "source": [
    "x_2_t = x_2.T"
   ]
  },
  {
   "cell_type": "code",
   "execution_count": 78,
   "metadata": {},
   "outputs": [
    {
     "data": {
      "text/plain": [
       "array([[0, 5],\n",
       "       [1, 6],\n",
       "       [2, 7],\n",
       "       [3, 8],\n",
       "       [4, 9]])"
      ]
     },
     "execution_count": 78,
     "metadata": {},
     "output_type": "execute_result"
    }
   ],
   "source": [
    "x_2_t"
   ]
  },
  {
   "cell_type": "code",
   "execution_count": 79,
   "metadata": {},
   "outputs": [
    {
     "data": {
      "text/plain": [
       "array([0, 5, 1, 6, 2, 7, 3, 8, 4, 9])"
      ]
     },
     "execution_count": 79,
     "metadata": {},
     "output_type": "execute_result"
    }
   ],
   "source": [
    "x_2_t.ravel()"
   ]
  },
  {
   "cell_type": "code",
   "execution_count": 80,
   "metadata": {},
   "outputs": [
    {
     "data": {
      "text/plain": [
       "array([ 0.        ,  6.66666667, 13.33333333, 20.        , 26.66666667,\n",
       "       33.33333333, 40.        , 46.66666667, 53.33333333, 60.        ])"
      ]
     },
     "execution_count": 80,
     "metadata": {},
     "output_type": "execute_result"
    }
   ],
   "source": [
    "## linspace를 사용하여 0~60까지의 10개의 구간을 배열로 생성\n",
    "np.linspace(0,60,10)\n",
    "## arange를 사용하여 0,60까지 2칸씩 띄어지는 배열을 생성"
   ]
  },
  {
   "cell_type": "code",
   "execution_count": 81,
   "metadata": {},
   "outputs": [
    {
     "data": {
      "text/plain": [
       "array([1.00000000e+00, 4.64158883e+06, 2.15443469e+13, 1.00000000e+20,\n",
       "       4.64158883e+26, 2.15443469e+33, 1.00000000e+40, 4.64158883e+46,\n",
       "       2.15443469e+53, 1.00000000e+60])"
      ]
     },
     "execution_count": 81,
     "metadata": {},
     "output_type": "execute_result"
    }
   ],
   "source": [
    "np.logspace(0,60,10)"
   ]
  },
  {
   "cell_type": "code",
   "execution_count": 88,
   "metadata": {},
   "outputs": [],
   "source": [
    "np.random.seed(10)\n",
    "np.random.randint(1,10,20) \n",
    "np.random.rand(3,3,2)\n",
    "np.random.randn(2,2)\n",
    "np.random.choice([1,2,3,4],4,replace=False)\n",
    "obj = [1,2,3,4]\n",
    "np.random.shuffle(obj)\n",
    "# obj"
   ]
  },
  {
   "cell_type": "code",
   "execution_count": 89,
   "metadata": {},
   "outputs": [
    {
     "data": {
      "text/plain": [
       "[2, 3, 1, 4]"
      ]
     },
     "execution_count": 89,
     "metadata": {},
     "output_type": "execute_result"
    }
   ],
   "source": [
    "obj"
   ]
  },
  {
   "cell_type": "code",
   "execution_count": 90,
   "metadata": {},
   "outputs": [],
   "source": [
    "np.random.seed(10)\n",
    "arr = np.ndarray((3,3))"
   ]
  },
  {
   "cell_type": "code",
   "execution_count": 94,
   "metadata": {},
   "outputs": [
    {
     "data": {
      "text/plain": [
       "array([[ 6.66666667, 13.33333333, 20.        ],\n",
       "       [26.66666667, 33.33333333, 40.        ],\n",
       "       [46.66666667, 53.33333333, 60.        ]])"
      ]
     },
     "execution_count": 94,
     "metadata": {},
     "output_type": "execute_result"
    }
   ],
   "source": [
    "arr"
   ]
  },
  {
   "cell_type": "code",
   "execution_count": 98,
   "metadata": {},
   "outputs": [
    {
     "data": {
      "text/plain": [
       "array([[20.        , 13.33333333],\n",
       "       [60.        , 53.33333333]])"
      ]
     },
     "execution_count": 98,
     "metadata": {},
     "output_type": "execute_result"
    }
   ],
   "source": [
    "arr[[0,2]][:,[2,1]]"
   ]
  },
  {
   "cell_type": "code",
   "execution_count": 101,
   "metadata": {},
   "outputs": [
    {
     "data": {
      "text/plain": [
       "array([68, 88, 80, 95, 53, 54])"
      ]
     },
     "execution_count": 101,
     "metadata": {},
     "output_type": "execute_result"
    }
   ],
   "source": [
    "np.random.seed(100)\n",
    "arr = np.random.randint(1,99,10)\n",
    "arr[arr>50]"
   ]
  },
  {
   "cell_type": "code",
   "execution_count": 103,
   "metadata": {},
   "outputs": [
    {
     "data": {
      "text/plain": [
       "array([68, 88, 80, 95, 53, 54])"
      ]
     },
     "execution_count": 103,
     "metadata": {},
     "output_type": "execute_result"
    }
   ],
   "source": [
    "arr[[False, False,  True,  True,  True, False, False,  True,  True,\n",
    "        True]]"
   ]
  },
  {
   "cell_type": "code",
   "execution_count": 106,
   "metadata": {},
   "outputs": [
    {
     "data": {
      "text/plain": [
       "array([[ 9, 25, 68, 88, 80],\n",
       "       [49, 11, 95, 53, 99],\n",
       "       [54, 67, 99, 15, 35],\n",
       "       [25, 16, 61, 59, 17],\n",
       "       [10, 94, 87,  3, 28],\n",
       "       [ 5, 32,  2, 14, 84],\n",
       "       [ 5, 92, 60, 68,  8],\n",
       "       [50, 48, 66, 62, 15],\n",
       "       [56, 72, 81,  3, 95],\n",
       "       [20, 99, 64, 54, 28]])"
      ]
     },
     "execution_count": 106,
     "metadata": {},
     "output_type": "execute_result"
    }
   ],
   "source": [
    "arr"
   ]
  },
  {
   "cell_type": "code",
   "execution_count": 120,
   "metadata": {},
   "outputs": [],
   "source": [
    "## 1. \n",
    "row_sum = []\n",
    "for i in np.arange(arr.shape[0]):\n",
    "    row_sum.append(np.sum(arr[i]))\n",
    "    \n",
    "\n",
    "## 2.\n",
    "np_row_sum = np.sum(arr,axis=1)\n",
    "np_col_sum = np.sum(arr,axis=0)"
   ]
  },
  {
   "cell_type": "code",
   "execution_count": 123,
   "metadata": {},
   "outputs": [],
   "source": [
    "col_sum = np_col_sum.tolist()"
   ]
  },
  {
   "cell_type": "code",
   "execution_count": 124,
   "metadata": {},
   "outputs": [
    {
     "data": {
      "text/plain": [
       "True"
      ]
     },
     "execution_count": 124,
     "metadata": {},
     "output_type": "execute_result"
    }
   ],
   "source": [
    "row_sum == np_row_sum.tolist()"
   ]
  },
  {
   "cell_type": "code",
   "execution_count": 129,
   "metadata": {},
   "outputs": [],
   "source": [
    "x = np.arange(9).reshape(3,3)"
   ]
  },
  {
   "cell_type": "code",
   "execution_count": 133,
   "metadata": {},
   "outputs": [],
   "source": [
    "np.random.seed(100)\n",
    "a = np.random.randint(1,100,10)\n",
    "b = np.random.randint(1,100,10)"
   ]
  },
  {
   "cell_type": "code",
   "execution_count": 137,
   "metadata": {},
   "outputs": [
    {
     "data": {
      "text/plain": [
       "array([ 9., 25., 68., 88., 80., 49., 11., 95., 53., 99.])"
      ]
     },
     "execution_count": 137,
     "metadata": {},
     "output_type": "execute_result"
    }
   ],
   "source": [
    "np.square(a)\n",
    "np.sqrt(np.square(a))"
   ]
  },
  {
   "cell_type": "code",
   "execution_count": 148,
   "metadata": {},
   "outputs": [
    {
     "data": {
      "text/plain": [
       "array([ 54.74486277,  71.51223672, 120.10412149,  89.26925563,\n",
       "        87.32124598,  55.00909016,  19.41648784, 112.89818422,\n",
       "        79.30952024, 100.44899203])"
      ]
     },
     "execution_count": 148,
     "metadata": {},
     "output_type": "execute_result"
    }
   ],
   "source": [
    "np.sqrt((a**2+b**2))"
   ]
  },
  {
   "cell_type": "code",
   "execution_count": 150,
   "metadata": {},
   "outputs": [],
   "source": [
    "x = np.hypot(a,b)"
   ]
  },
  {
   "cell_type": "code",
   "execution_count": 154,
   "metadata": {},
   "outputs": [
    {
     "data": {
      "text/plain": [
       "dtype('float64')"
      ]
     },
     "execution_count": 154,
     "metadata": {},
     "output_type": "execute_result"
    }
   ],
   "source": [
    "np.rint(x)"
   ]
  },
  {
   "cell_type": "code",
   "execution_count": null,
   "metadata": {},
   "outputs": [],
   "source": [
    "np.where(coditon,true_value,false_value)"
   ]
  },
  {
   "cell_type": "code",
   "execution_count": 155,
   "metadata": {},
   "outputs": [],
   "source": [
    "x = np.random.randint(60,100,100000)"
   ]
  },
  {
   "cell_type": "code",
   "execution_count": 158,
   "metadata": {},
   "outputs": [
    {
     "data": {
      "text/plain": [
       "array([False,  True,  True, ..., False, False,  True])"
      ]
     },
     "execution_count": 158,
     "metadata": {},
     "output_type": "execute_result"
    }
   ],
   "source": [
    "### 평균보다 클경우, 'PASS', 'FAIL'\n",
    "x >x.mean()"
   ]
  },
  {
   "cell_type": "code",
   "execution_count": 164,
   "metadata": {},
   "outputs": [],
   "source": [
    "judge1 = np.where(x>=90,'A',\n",
    "                 np.where(x>=80,'B','C'))"
   ]
  },
  {
   "cell_type": "code",
   "execution_count": 162,
   "metadata": {
    "scrolled": true
   },
   "outputs": [
    {
     "name": "stdout",
     "output_type": "stream",
     "text": [
      "Wall time: 56.7 ms\n"
     ]
    }
   ],
   "source": [
    "%%time\n",
    "judge = []\n",
    "for i in x:\n",
    "    if i>=90:\n",
    "        judge.append('A')\n",
    "    elif i >= 80:\n",
    "        judge.append('B')\n",
    "    else:\n",
    "        judge.append('C')"
   ]
  },
  {
   "cell_type": "code",
   "execution_count": 165,
   "metadata": {},
   "outputs": [],
   "source": [
    "obj = np.random.choice(['banana','apple','grape'],100)"
   ]
  },
  {
   "cell_type": "code",
   "execution_count": 180,
   "metadata": {},
   "outputs": [],
   "source": [
    "le1 = np.where(obj == np.unique(obj)[0], 0, \n",
    "               np.where(obj == np.unique(obj)[1],1,2))"
   ]
  },
  {
   "cell_type": "code",
   "execution_count": 181,
   "metadata": {},
   "outputs": [
    {
     "data": {
      "text/plain": [
       "array([1, 0, 0, 2, 0, 2, 2, 0, 1, 2, 1, 1, 1, 2, 0, 2, 2, 1, 2, 0, 2, 0,\n",
       "       2, 0, 2, 1, 0, 0, 2, 2, 0, 0, 0, 0, 1, 0, 0, 1, 0, 1, 0, 1, 1, 2,\n",
       "       1, 1, 1, 0, 0, 0, 1, 1, 1, 1, 1, 0, 0, 0, 1, 1, 0, 2, 1, 1, 1, 2,\n",
       "       0, 1, 1, 1, 2, 0, 0, 2, 2, 1, 2, 2, 1, 2, 0, 1, 0, 2, 1, 0, 1, 1,\n",
       "       1, 0, 0, 2, 0, 0, 2, 2, 0, 1, 2, 1])"
      ]
     },
     "execution_count": 181,
     "metadata": {},
     "output_type": "execute_result"
    }
   ],
   "source": [
    "le1"
   ]
  },
  {
   "cell_type": "code",
   "execution_count": 178,
   "metadata": {},
   "outputs": [],
   "source": [
    "le = []\n",
    "for i in obj:\n",
    "    if i == np.unique(obj)[0]:\n",
    "        le.append(0)\n",
    "    elif i == np.unique(obj)[1]:\n",
    "        le.append(1)\n",
    "    else:\n",
    "        le.append(2)"
   ]
  },
  {
   "cell_type": "code",
   "execution_count": 191,
   "metadata": {},
   "outputs": [],
   "source": [
    "t = np.ones((100,3)) "
   ]
  },
  {
   "cell_type": "code",
   "execution_count": 192,
   "metadata": {},
   "outputs": [
    {
     "data": {
      "text/plain": [
       "array([[1., 1., 1.],\n",
       "       [1., 1., 1.],\n",
       "       [1., 1., 1.],\n",
       "       [1., 1., 1.],\n",
       "       [1., 1., 1.],\n",
       "       [1., 1., 1.],\n",
       "       [1., 1., 1.],\n",
       "       [1., 1., 1.],\n",
       "       [1., 1., 1.],\n",
       "       [1., 1., 1.],\n",
       "       [1., 1., 1.],\n",
       "       [1., 1., 1.],\n",
       "       [1., 1., 1.],\n",
       "       [1., 1., 1.],\n",
       "       [1., 1., 1.],\n",
       "       [1., 1., 1.],\n",
       "       [1., 1., 1.],\n",
       "       [1., 1., 1.],\n",
       "       [1., 1., 1.],\n",
       "       [1., 1., 1.],\n",
       "       [1., 1., 1.],\n",
       "       [1., 1., 1.],\n",
       "       [1., 1., 1.],\n",
       "       [1., 1., 1.],\n",
       "       [1., 1., 1.],\n",
       "       [1., 1., 1.],\n",
       "       [1., 1., 1.],\n",
       "       [1., 1., 1.],\n",
       "       [1., 1., 1.],\n",
       "       [1., 1., 1.],\n",
       "       [1., 1., 1.],\n",
       "       [1., 1., 1.],\n",
       "       [1., 1., 1.],\n",
       "       [1., 1., 1.],\n",
       "       [1., 1., 1.],\n",
       "       [1., 1., 1.],\n",
       "       [1., 1., 1.],\n",
       "       [1., 1., 1.],\n",
       "       [1., 1., 1.],\n",
       "       [1., 1., 1.],\n",
       "       [1., 1., 1.],\n",
       "       [1., 1., 1.],\n",
       "       [1., 1., 1.],\n",
       "       [1., 1., 1.],\n",
       "       [1., 1., 1.],\n",
       "       [1., 1., 1.],\n",
       "       [1., 1., 1.],\n",
       "       [1., 1., 1.],\n",
       "       [1., 1., 1.],\n",
       "       [1., 1., 1.],\n",
       "       [1., 1., 1.],\n",
       "       [1., 1., 1.],\n",
       "       [1., 1., 1.],\n",
       "       [1., 1., 1.],\n",
       "       [1., 1., 1.],\n",
       "       [1., 1., 1.],\n",
       "       [1., 1., 1.],\n",
       "       [1., 1., 1.],\n",
       "       [1., 1., 1.],\n",
       "       [1., 1., 1.],\n",
       "       [1., 1., 1.],\n",
       "       [1., 1., 1.],\n",
       "       [1., 1., 1.],\n",
       "       [1., 1., 1.],\n",
       "       [1., 1., 1.],\n",
       "       [1., 1., 1.],\n",
       "       [1., 1., 1.],\n",
       "       [1., 1., 1.],\n",
       "       [1., 1., 1.],\n",
       "       [1., 1., 1.],\n",
       "       [1., 1., 1.],\n",
       "       [1., 1., 1.],\n",
       "       [1., 1., 1.],\n",
       "       [1., 1., 1.],\n",
       "       [1., 1., 1.],\n",
       "       [1., 1., 1.],\n",
       "       [1., 1., 1.],\n",
       "       [1., 1., 1.],\n",
       "       [1., 1., 1.],\n",
       "       [1., 1., 1.],\n",
       "       [1., 1., 1.],\n",
       "       [1., 1., 1.],\n",
       "       [1., 1., 1.],\n",
       "       [1., 1., 1.],\n",
       "       [1., 1., 1.],\n",
       "       [1., 1., 1.],\n",
       "       [1., 1., 1.],\n",
       "       [1., 1., 1.],\n",
       "       [1., 1., 1.],\n",
       "       [1., 1., 1.],\n",
       "       [1., 1., 1.],\n",
       "       [1., 1., 1.],\n",
       "       [1., 1., 1.],\n",
       "       [1., 1., 1.],\n",
       "       [1., 1., 1.],\n",
       "       [1., 1., 1.],\n",
       "       [1., 1., 1.],\n",
       "       [1., 1., 1.],\n",
       "       [1., 1., 1.],\n",
       "       [1., 1., 1.]])"
      ]
     },
     "execution_count": 192,
     "metadata": {},
     "output_type": "execute_result"
    }
   ],
   "source": [
    "t"
   ]
  },
  {
   "cell_type": "code",
   "execution_count": 193,
   "metadata": {},
   "outputs": [],
   "source": [
    "for i in np.arange(100):\n",
    "    t[i,le1[i]] = 2\n",
    "    "
   ]
  },
  {
   "cell_type": "code",
   "execution_count": 195,
   "metadata": {},
   "outputs": [],
   "source": [
    "t = t-1"
   ]
  },
  {
   "cell_type": "code",
   "execution_count": 197,
   "metadata": {},
   "outputs": [
    {
     "data": {
      "text/plain": [
       "array([1, 2, 3, 4, 5, 6])"
      ]
     },
     "execution_count": 197,
     "metadata": {},
     "output_type": "execute_result"
    }
   ],
   "source": [
    "np.concatenate([[1,2,3],[4,5,6]])"
   ]
  },
  {
   "cell_type": "code",
   "execution_count": 190,
   "metadata": {},
   "outputs": [
    {
     "data": {
      "text/plain": [
       "array([[0., 1., 0., 1.],\n",
       "       [1., 0., 0., 0.],\n",
       "       [1., 0., 0., 0.],\n",
       "       [0., 0., 1., 2.],\n",
       "       [1., 0., 0., 0.],\n",
       "       [0., 0., 1., 2.],\n",
       "       [0., 0., 1., 2.],\n",
       "       [1., 0., 0., 0.],\n",
       "       [0., 1., 0., 1.],\n",
       "       [0., 0., 1., 2.],\n",
       "       [0., 1., 0., 1.],\n",
       "       [0., 1., 0., 1.],\n",
       "       [0., 1., 0., 1.],\n",
       "       [0., 0., 1., 2.],\n",
       "       [1., 0., 0., 0.],\n",
       "       [0., 0., 1., 2.],\n",
       "       [0., 0., 1., 2.],\n",
       "       [0., 1., 0., 1.],\n",
       "       [0., 0., 1., 2.],\n",
       "       [1., 0., 0., 0.],\n",
       "       [0., 0., 1., 2.],\n",
       "       [1., 0., 0., 0.],\n",
       "       [0., 0., 1., 2.],\n",
       "       [1., 0., 0., 0.],\n",
       "       [0., 0., 1., 2.],\n",
       "       [0., 1., 0., 1.],\n",
       "       [1., 0., 0., 0.],\n",
       "       [1., 0., 0., 0.],\n",
       "       [0., 0., 1., 2.],\n",
       "       [0., 0., 1., 2.],\n",
       "       [1., 0., 0., 0.],\n",
       "       [1., 0., 0., 0.],\n",
       "       [1., 0., 0., 0.],\n",
       "       [1., 0., 0., 0.],\n",
       "       [0., 1., 0., 1.],\n",
       "       [1., 0., 0., 0.],\n",
       "       [1., 0., 0., 0.],\n",
       "       [0., 1., 0., 1.],\n",
       "       [1., 0., 0., 0.],\n",
       "       [0., 1., 0., 1.],\n",
       "       [1., 0., 0., 0.],\n",
       "       [0., 1., 0., 1.],\n",
       "       [0., 1., 0., 1.],\n",
       "       [0., 0., 1., 2.],\n",
       "       [0., 1., 0., 1.],\n",
       "       [0., 1., 0., 1.],\n",
       "       [0., 1., 0., 1.],\n",
       "       [1., 0., 0., 0.],\n",
       "       [1., 0., 0., 0.],\n",
       "       [1., 0., 0., 0.],\n",
       "       [0., 1., 0., 1.],\n",
       "       [0., 1., 0., 1.],\n",
       "       [0., 1., 0., 1.],\n",
       "       [0., 1., 0., 1.],\n",
       "       [0., 1., 0., 1.],\n",
       "       [1., 0., 0., 0.],\n",
       "       [1., 0., 0., 0.],\n",
       "       [1., 0., 0., 0.],\n",
       "       [0., 1., 0., 1.],\n",
       "       [0., 1., 0., 1.],\n",
       "       [1., 0., 0., 0.],\n",
       "       [0., 0., 1., 2.],\n",
       "       [0., 1., 0., 1.],\n",
       "       [0., 1., 0., 1.],\n",
       "       [0., 1., 0., 1.],\n",
       "       [0., 0., 1., 2.],\n",
       "       [1., 0., 0., 0.],\n",
       "       [0., 1., 0., 1.],\n",
       "       [0., 1., 0., 1.],\n",
       "       [0., 1., 0., 1.],\n",
       "       [0., 0., 1., 2.],\n",
       "       [1., 0., 0., 0.],\n",
       "       [1., 0., 0., 0.],\n",
       "       [0., 0., 1., 2.],\n",
       "       [0., 0., 1., 2.],\n",
       "       [0., 1., 0., 1.],\n",
       "       [0., 0., 1., 2.],\n",
       "       [0., 0., 1., 2.],\n",
       "       [0., 1., 0., 1.],\n",
       "       [0., 0., 1., 2.],\n",
       "       [1., 0., 0., 0.],\n",
       "       [0., 1., 0., 1.],\n",
       "       [1., 0., 0., 0.],\n",
       "       [0., 0., 1., 2.],\n",
       "       [0., 1., 0., 1.],\n",
       "       [1., 0., 0., 0.],\n",
       "       [0., 1., 0., 1.],\n",
       "       [0., 1., 0., 1.],\n",
       "       [0., 1., 0., 1.],\n",
       "       [1., 0., 0., 0.],\n",
       "       [1., 0., 0., 0.],\n",
       "       [0., 0., 1., 2.],\n",
       "       [1., 0., 0., 0.],\n",
       "       [1., 0., 0., 0.],\n",
       "       [0., 0., 1., 2.],\n",
       "       [0., 0., 1., 2.],\n",
       "       [1., 0., 0., 0.],\n",
       "       [0., 1., 0., 1.],\n",
       "       [0., 0., 1., 2.],\n",
       "       [0., 1., 0., 1.]])"
      ]
     },
     "execution_count": 190,
     "metadata": {},
     "output_type": "execute_result"
    }
   ],
   "source": [
    "np.concatenate([t,le1.reshape(-1,1)],axis=1)"
   ]
  },
  {
   "cell_type": "code",
   "execution_count": 224,
   "metadata": {},
   "outputs": [],
   "source": [
    "arr1 = np.arange(3)\n",
    "arr2 = np.arange(3,8)\n",
    "arr3 = np.arange(6,10)"
   ]
  },
  {
   "cell_type": "code",
   "execution_count": 227,
   "metadata": {},
   "outputs": [
    {
     "name": "stderr",
     "output_type": "stream",
     "text": [
      "<ipython-input-227-562b79e9a303>:1: VisibleDeprecationWarning: Creating an ndarray from ragged nested sequences (which is a list-or-tuple of lists-or-tuples-or ndarrays with different lengths or shapes) is deprecated. If you meant to do this, you must specify 'dtype=object' when creating the ndarray\n",
      "  x = np.array((arr1,arr2,arr3))\n"
     ]
    }
   ],
   "source": [
    "x = np.array((arr1,arr2,arr3))"
   ]
  },
  {
   "cell_type": "code",
   "execution_count": 230,
   "metadata": {},
   "outputs": [
    {
     "data": {
      "text/plain": [
       "array([0, 1, 2, 3, 4, 5, 6, 7, 6, 7, 8, 9])"
      ]
     },
     "execution_count": 230,
     "metadata": {},
     "output_type": "execute_result"
    }
   ],
   "source": [
    "np.concatenate(x)"
   ]
  },
  {
   "cell_type": "code",
   "execution_count": 229,
   "metadata": {},
   "outputs": [
    {
     "data": {
      "text/plain": [
       "array([0, 1, 2, 3, 4, 5, 6, 7, 6, 7, 8, 9])"
      ]
     },
     "execution_count": 229,
     "metadata": {},
     "output_type": "execute_result"
    }
   ],
   "source": [
    "np.concatenate((arr1,arr2,arr3))"
   ]
  },
  {
   "cell_type": "code",
   "execution_count": 213,
   "metadata": {},
   "outputs": [
    {
     "name": "stderr",
     "output_type": "stream",
     "text": [
      "<ipython-input-213-38305e189757>:5: VisibleDeprecationWarning: Creating an ndarray from ragged nested sequences (which is a list-or-tuple of lists-or-tuples-or ndarrays with different lengths or shapes) is deprecated. If you meant to do this, you must specify 'dtype=object' when creating the ndarray\n",
      "  c4 = np.array((c1,c2,c3))\n"
     ]
    }
   ],
   "source": [
    "c1 = np.arange(1,5)\n",
    "c2 = np.arange(5,9)\n",
    "c3 = np.arange(9,11)\n",
    "# 배열 생성 함수 array를 통해 새로운 ndarray 생성\n",
    "c4 = np.array((c1,c2,c3))"
   ]
  },
  {
   "cell_type": "code",
   "execution_count": 232,
   "metadata": {},
   "outputs": [
    {
     "data": {
      "text/plain": [
       "array([1, 4, 7])"
      ]
     },
     "execution_count": 232,
     "metadata": {},
     "output_type": "execute_result"
    }
   ],
   "source": [
    "x = np.arange(1,10,3)\n",
    "x_prob = np.exp()"
   ]
  },
  {
   "cell_type": "code",
   "execution_count": 235,
   "metadata": {},
   "outputs": [],
   "source": [
    "x = np.arange(1,10,3)"
   ]
  },
  {
   "cell_type": "code",
   "execution_count": 240,
   "metadata": {},
   "outputs": [
    {
     "data": {
      "text/plain": [
       "2"
      ]
     },
     "execution_count": 240,
     "metadata": {},
     "output_type": "execute_result"
    }
   ],
   "source": [
    "np.exp(x)/np.sum(np.exp(x))"
   ]
  },
  {
   "cell_type": "code",
   "execution_count": 304,
   "metadata": {},
   "outputs": [],
   "source": [
    "np.random.seed(100)\n",
    "x = np.random.randint(1,10,30000000).reshape(-1,3)"
   ]
  },
  {
   "cell_type": "code",
   "execution_count": 308,
   "metadata": {},
   "outputs": [
    {
     "name": "stdout",
     "output_type": "stream",
     "text": [
      "Wall time: 1.23 s\n"
     ]
    },
    {
     "data": {
      "text/plain": [
       "array([3906537, 3293909, 2799554], dtype=int64)"
      ]
     },
     "execution_count": 308,
     "metadata": {},
     "output_type": "execute_result"
    }
   ],
   "source": [
    "%%time\n",
    "items = ['apple','banana','grape']\n",
    "import pandas as pd\n",
    "## 1 확률값으로 바꾸기\n",
    "np.unique(np.argmax(np.exp(x)/np.sum(np.exp(x),axis=1).\n",
    "                    reshape(-1,1),axis=1),return_counts=True)[1]"
   ]
  },
  {
   "cell_type": "code",
   "execution_count": 309,
   "metadata": {},
   "outputs": [],
   "source": [
    "import numpy as np\n",
    "import pandas as pd"
   ]
  },
  {
   "cell_type": "code",
   "execution_count": 327,
   "metadata": {},
   "outputs": [],
   "source": [
    "s = pd.Series([1,2,3],index=[1,2,3])"
   ]
  },
  {
   "cell_type": "code",
   "execution_count": 335,
   "metadata": {},
   "outputs": [],
   "source": [
    "s1 = pd.Series([1,2,3],index=['one','two','three'])"
   ]
  },
  {
   "cell_type": "code",
   "execution_count": 345,
   "metadata": {},
   "outputs": [
    {
     "data": {
      "text/plain": [
       "3.0"
      ]
     },
     "execution_count": 345,
     "metadata": {},
     "output_type": "execute_result"
    }
   ],
   "source": [
    "pd.Series(s1.to_dict()).agg(['mean','sum','min','max','std','var'])['max']"
   ]
  },
  {
   "cell_type": "code",
   "execution_count": 334,
   "metadata": {},
   "outputs": [
    {
     "data": {
      "text/plain": [
       "one      1\n",
       "two      2\n",
       "three    3\n",
       "dtype: int64"
      ]
     },
     "execution_count": 334,
     "metadata": {},
     "output_type": "execute_result"
    }
   ],
   "source": [
    "pd.Series({'one':1,'two':2,'three':3})"
   ]
  },
  {
   "cell_type": "code",
   "execution_count": 371,
   "metadata": {},
   "outputs": [],
   "source": [
    "data = [1,2,3,4,5]\n",
    "index = ['one','two','three','four','five']\n",
    "obj = pd.Series(data,index=index)"
   ]
  },
  {
   "cell_type": "code",
   "execution_count": 364,
   "metadata": {},
   "outputs": [],
   "source": [
    "dic = dict(zip(index,data))"
   ]
  },
  {
   "cell_type": "code",
   "execution_count": 382,
   "metadata": {},
   "outputs": [
    {
     "data": {
      "text/plain": [
       "four    4\n",
       "five    5\n",
       "dtype: int64"
      ]
     },
     "execution_count": 382,
     "metadata": {},
     "output_type": "execute_result"
    }
   ],
   "source": [
    "obj[(obj > 3).values]"
   ]
  },
  {
   "cell_type": "code",
   "execution_count": 386,
   "metadata": {},
   "outputs": [
    {
     "data": {
      "text/plain": [
       "four    4\n",
       "five    5\n",
       "dtype: int64"
      ]
     },
     "execution_count": 386,
     "metadata": {},
     "output_type": "execute_result"
    }
   ],
   "source": [
    "obj[obj.index[obj > 3]]"
   ]
  },
  {
   "cell_type": "code",
   "execution_count": 395,
   "metadata": {},
   "outputs": [
    {
     "data": {
      "text/plain": [
       "two      2\n",
       "three    3\n",
       "four     4\n",
       "dtype: int64"
      ]
     },
     "execution_count": 395,
     "metadata": {},
     "output_type": "execute_result"
    }
   ],
   "source": [
    "obj.loc['two':'four']\n",
    "# iloc"
   ]
  },
  {
   "cell_type": "code",
   "execution_count": 421,
   "metadata": {},
   "outputs": [
    {
     "data": {
      "text/plain": [
       "four    4\n",
       "five    5\n",
       "dtype: int64"
      ]
     },
     "execution_count": 421,
     "metadata": {},
     "output_type": "execute_result"
    }
   ],
   "source": [
    "obj.iloc[(obj>3).values]"
   ]
  },
  {
   "cell_type": "code",
   "execution_count": 434,
   "metadata": {},
   "outputs": [
    {
     "data": {
      "text/plain": [
       "four    4\n",
       "five    5\n",
       "dtype: int64"
      ]
     },
     "execution_count": 434,
     "metadata": {},
     "output_type": "execute_result"
    }
   ],
   "source": [
    "obj.iloc[obj.values >3]"
   ]
  },
  {
   "cell_type": "code",
   "execution_count": 430,
   "metadata": {},
   "outputs": [
    {
     "data": {
      "text/plain": [
       "one      1\n",
       "three    3\n",
       "dtype: int64"
      ]
     },
     "execution_count": 430,
     "metadata": {},
     "output_type": "execute_result"
    }
   ],
   "source": [
    "obj.iloc[[0,2]]"
   ]
  },
  {
   "cell_type": "code",
   "execution_count": 433,
   "metadata": {},
   "outputs": [
    {
     "data": {
      "text/plain": [
       "array([1, 2, 3, 4, 5], dtype=int64)"
      ]
     },
     "execution_count": 433,
     "metadata": {},
     "output_type": "execute_result"
    }
   ],
   "source": [
    "obj.values >3"
   ]
  },
  {
   "cell_type": "code",
   "execution_count": 439,
   "metadata": {},
   "outputs": [
    {
     "data": {
      "text/plain": [
       "[('one', 1), ('two', 2), ('three', 3), ('four', 4), ('five', 5)]"
      ]
     },
     "execution_count": 439,
     "metadata": {},
     "output_type": "execute_result"
    }
   ],
   "source": [
    "[(k,v)for k,v in obj.items()]"
   ]
  },
  {
   "cell_type": "code",
   "execution_count": 443,
   "metadata": {},
   "outputs": [
    {
     "data": {
      "text/plain": [
       "dict_items([('one', 1), ('two', 2), ('three', 3), ('four', 4), ('five', 5)])"
      ]
     },
     "execution_count": 443,
     "metadata": {},
     "output_type": "execute_result"
    }
   ],
   "source": [
    "obj.to_dict().items()"
   ]
  },
  {
   "cell_type": "code",
   "execution_count": 453,
   "metadata": {},
   "outputs": [],
   "source": [
    "obj1 = obj.to_json()"
   ]
  },
  {
   "cell_type": "code",
   "execution_count": 451,
   "metadata": {},
   "outputs": [],
   "source": [
    "obj2 = obj.to_dict()"
   ]
  },
  {
   "cell_type": "code",
   "execution_count": 458,
   "metadata": {},
   "outputs": [
    {
     "data": {
      "text/plain": [
       "{'one': 1, 'two': 2, 'three': 3, 'four': 4, 'five': 5}"
      ]
     },
     "execution_count": 458,
     "metadata": {},
     "output_type": "execute_result"
    }
   ],
   "source": [
    "eval(obj1)"
   ]
  },
  {
   "cell_type": "code",
   "execution_count": 457,
   "metadata": {},
   "outputs": [
    {
     "data": {
      "text/plain": [
       "dict"
      ]
     },
     "execution_count": 457,
     "metadata": {},
     "output_type": "execute_result"
    }
   ],
   "source": [
    "type(obj2)"
   ]
  },
  {
   "cell_type": "code",
   "execution_count": 459,
   "metadata": {},
   "outputs": [],
   "source": [
    "x = '[1,2,3,4]'"
   ]
  },
  {
   "cell_type": "code",
   "execution_count": 590,
   "metadata": {},
   "outputs": [],
   "source": [
    "## Series\n",
    "np.random.seed(100)\n",
    "data = np.random.randint(1,10,1000)\n",
    "ind = ['X'+str(i) for i in np.arange(1,1001)]\n",
    "##np.random.shuffle(ind)\n",
    "obj = pd.Series(data,index=ind)"
   ]
  },
  {
   "cell_type": "code",
   "execution_count": 580,
   "metadata": {},
   "outputs": [
    {
     "data": {
      "text/plain": [
       "X1       6099\n",
       "X2       6631\n",
       "X3       9427\n",
       "X4       6772\n",
       "X5       8082\n",
       "         ... \n",
       "X996     2755\n",
       "X997     4937\n",
       "X998       84\n",
       "X999     3012\n",
       "X1000    9512\n",
       "Length: 1000, dtype: int32"
      ]
     },
     "execution_count": 580,
     "metadata": {},
     "output_type": "execute_result"
    }
   ],
   "source": [
    "obj[['X'+str(i) for i in np.arange(1,1001)]]"
   ]
  },
  {
   "cell_type": "code",
   "execution_count": 576,
   "metadata": {},
   "outputs": [
    {
     "data": {
      "text/plain": [
       "Int64Index([220,  30, 942,  28, 125, 344, 699, 899, 232, 551,\n",
       "            ...\n",
       "            195, 442, 152, 379, 159, 354, 912, 797, 123, 249],\n",
       "           dtype='int64', length=1000)"
      ]
     },
     "execution_count": 576,
     "metadata": {},
     "output_type": "execute_result"
    }
   ],
   "source": []
  },
  {
   "cell_type": "code",
   "execution_count": 589,
   "metadata": {},
   "outputs": [],
   "source": [
    "obj1 = pd.Series(np.arange(10))\n",
    "obj2 = pd.Series(np.arange(10,20))\n",
    "try:\n",
    "    obj1.append(obj2,verify_integrity=False)\n",
    "except Exception as e:\n",
    "    print(e)"
   ]
  },
  {
   "cell_type": "code",
   "execution_count": 584,
   "metadata": {},
   "outputs": [
    {
     "data": {
      "text/plain": [
       "0    0\n",
       "1    1\n",
       "2    2\n",
       "3    3\n",
       "4    4\n",
       "5    5\n",
       "6    6\n",
       "7    7\n",
       "8    8\n",
       "9    9\n",
       "dtype: int32"
      ]
     },
     "execution_count": 584,
     "metadata": {},
     "output_type": "execute_result"
    }
   ],
   "source": []
  },
  {
   "cell_type": "code",
   "execution_count": 543,
   "metadata": {},
   "outputs": [
    {
     "data": {
      "text/plain": [
       "10003.966666666667"
      ]
     },
     "execution_count": 543,
     "metadata": {},
     "output_type": "execute_result"
    }
   ],
   "source": [
    "## 상위 30개 하위 30개 데이터의 평균\n",
    "(obj.sort_values().iloc[0:30].values + obj.sort_values(ascending=False).iloc[0:30].values).mean()"
   ]
  },
  {
   "cell_type": "code",
   "execution_count": 548,
   "metadata": {},
   "outputs": [
    {
     "data": {
      "text/plain": [
       "10003.966666666667"
      ]
     },
     "execution_count": 548,
     "metadata": {},
     "output_type": "execute_result"
    }
   ],
   "source": [
    "(obj.sort_values().head(30).values + obj.sort_values().tail(30).values).mean()"
   ]
  },
  {
   "cell_type": "code",
   "execution_count": 533,
   "metadata": {},
   "outputs": [
    {
     "data": {
      "text/plain": [
       "X100    9.0\n",
       "X53     9.0\n",
       "X2      9.0\n",
       "X15     9.0\n",
       "X37     9.0\n",
       "       ... \n",
       "X6      1.0\n",
       "X89     1.0\n",
       "X56     1.0\n",
       "X64     1.0\n",
       "X32     1.0\n",
       "Length: 100, dtype: float64"
      ]
     },
     "execution_count": 533,
     "metadata": {},
     "output_type": "execute_result"
    }
   ],
   "source": [
    "obj.sort_values(ascending=False)"
   ]
  },
  {
   "cell_type": "code",
   "execution_count": 529,
   "metadata": {
    "scrolled": true
   },
   "outputs": [],
   "source": [
    "## 가장 많이 나오는 값을 찾아서 평균으로 바꾼다.\n",
    "#obj.value_counts()\n",
    "\n",
    "obj.replace(obj.value_counts().iloc[[0]].index[0].astype(np.int32), obj.mean(),inplace=True)"
   ]
  },
  {
   "cell_type": "code",
   "execution_count": 599,
   "metadata": {},
   "outputs": [
    {
     "data": {
      "text/plain": [
       "top    4\n",
       "dtype: int32"
      ]
     },
     "execution_count": 599,
     "metadata": {},
     "output_type": "execute_result"
    }
   ],
   "source": [
    "obj.astype('str').describe()[['top']].astype(np.int32)"
   ]
  },
  {
   "cell_type": "code",
   "execution_count": 486,
   "metadata": {},
   "outputs": [],
   "source": [
    "## 3의 배수만 골라 자기 자신에다가 5를 더한다.\n",
    "## numpy\n",
    "data = np.where(obj.values % 3 == 0,obj.values+5,obj.values)\n",
    "obj = pd.Series(data,index=ind)\n",
    "## Series??\n",
    "obj.loc[obj %3==0] = (obj.loc[obj %3==0]) +5"
   ]
  },
  {
   "cell_type": "code",
   "execution_count": 610,
   "metadata": {},
   "outputs": [],
   "source": [
    "string = '''\n",
    "(서울=연합뉴스) 문다영 기자 = 국내 신종 코로나바이러스 감염증(코로나19) 백신 1차 접종자가 10일 누적 1천만명을 넘어섰다. 지난 2월 26일 첫 접종이 시작된 지 105일째 되는 날 세운 기록이다.\n",
    "\n",
    "코로나19 예방접종대응추진단(추진단)에 따르면 백신 누적 1차 접종자는 이날 오전 11시 기준 1천6만705명으로 집계됐다. 이는 전체 인구(작년 12월 기준 5천134만9천116명)의 약 19.6%에 해당한다.\n",
    "\n",
    "앞선 누적 접종자 기록을 보면 접종 39일째인 지난 4월 5일 100만명, 63일째인 4월 29일 300만명, 99일째인 6월 4일 700만명, 102일째인 6월 7일 800만명을 각각 돌파했다.\n",
    "\n",
    "정부는 2월 말 만 65세 미만 요양병원·요양시설 종사자와 입원·입소자를 시작으로 접종을 개시한 후 코로나19 치료병원 종사자, 1차 방역대응 요원, 고위험 의료기관 종사자, 사회필수인력(경찰·소방·해경 등), 특수교육·보건교사, 75세 이상 등으로 접종 대상을 순차적으로 확대해 왔다.\n",
    "\n",
    "접종 초기에는 아스트라제네카(AZ) 백신 '희귀 혈전증' 부작용 우려로 30세 미만에 대한 접종이 잠정 보류되고 일시적 수급 불균형이 발생하면서 우여곡절도 있었으나 수급이 안정화되고 '잔여 백신' 접종도 활성화되면서 접종에 점차 속도가 붙고 있다.\n",
    "\n",
    "최근에는 75세 이상 어르신에 이어 60∼64세 고령층과 30세 미만 군 장병, 30세 이상 60세 미만 예비군·민방위대원·국방-외교 관련자 등에 대한 접종도 시작됐다.\n",
    "\n",
    "이달 중순부터는 2분기 아스트라제네카 백신 접종 대상자 가운데 희귀 혈전증 우려로 사전 예약에서 제외됐던 30세 미만(1992년 1월 1일 이후 출생자)에 대한 1차 접종도 진행된다.\n",
    "\n",
    "구체적으로 30세 미만 경찰·소방 등 사회필수인력과 만성 신장질환자, 유치원·어린이집·초등학교 1·2학년 교사와 돌봄인력 등 20만명이 오는 15∼26일 각 지역예방접종센터에서 화이자 백신을 맞는다.\n",
    "\n",
    "정부는 이달까지 '1천300만 명+α', 최대 1천400만명에 대한 1차 접종을 마치겠다는 계획이다. 이어 9월까지 최소 3천600만명에 대한 1차 접종을 마무리하고 11월 집단면역을 형성하겠다는 목표를 세워놓고 있다.\n",
    "\n",
    "'''"
   ]
  },
  {
   "cell_type": "code",
   "execution_count": 613,
   "metadata": {},
   "outputs": [],
   "source": [
    "str_list = string.split(' ')"
   ]
  },
  {
   "cell_type": "code",
   "execution_count": 615,
   "metadata": {},
   "outputs": [],
   "source": [
    "str_s = pd.Series(str_list)"
   ]
  },
  {
   "cell_type": "code",
   "execution_count": 619,
   "metadata": {},
   "outputs": [
    {
     "data": {
      "text/plain": [
       "count    1000.000000\n",
       "mean        4.957000\n",
       "std         2.540789\n",
       "min         1.000000\n",
       "25%         3.000000\n",
       "50%         5.000000\n",
       "75%         7.000000\n",
       "max         9.000000\n",
       "dtype: float64"
      ]
     },
     "execution_count": 619,
     "metadata": {},
     "output_type": "execute_result"
    }
   ],
   "source": [
    "obj.describe()"
   ]
  },
  {
   "cell_type": "code",
   "execution_count": 622,
   "metadata": {},
   "outputs": [
    {
     "data": {
      "text/plain": [
       "top     대한\n",
       "freq     5\n",
       "dtype: object"
      ]
     },
     "execution_count": 622,
     "metadata": {},
     "output_type": "execute_result"
    }
   ],
   "source": [
    "str_s[str_s != str_s.describe()['top']].describe()[['top','freq']]"
   ]
  },
  {
   "cell_type": "code",
   "execution_count": 609,
   "metadata": {},
   "outputs": [
    {
     "name": "stderr",
     "output_type": "stream",
     "text": [
      "C:\\ProgramData\\Anaconda3\\lib\\site-packages\\seaborn\\_decorators.py:36: FutureWarning: Pass the following variable as a keyword arg: x. From version 0.12, the only valid positional argument will be `data`, and passing other arguments without an explicit keyword will result in an error or misinterpretation.\n",
      "  warnings.warn(\n"
     ]
    },
    {
     "data": {
      "text/plain": [
       "<AxesSubplot:>"
      ]
     },
     "execution_count": 609,
     "metadata": {},
     "output_type": "execute_result"
    },
    {
     "data": {
      "image/png": "[encoded data removed]",
      "text/plain": [
       "<Figure size 432x288 with 1 Axes>"
      ]
     },
     "metadata": {
      "needs_background": "light"
     },
     "output_type": "display_data"
    }
   ],
   "source": [
    "import seaborn as sns\n",
    "sns.boxplot(obj.values)"
   ]
  },
  {
   "cell_type": "code",
   "execution_count": 632,
   "metadata": {},
   "outputs": [
    {
     "name": "stdout",
     "output_type": "stream",
     "text": [
      "(10, 1)\n",
      "(10,)\n"
     ]
    }
   ],
   "source": [
    "s1 = pd.Series(np.arange(10))\n",
    "\n",
    "df1 = pd.DataFrame(s1,columns=['yong'])\n",
    "df1.index = [ 'yong'+str(i) for i in np.arange(10)]\n",
    "df1.columns\n",
    "print(df1.values.shape)\n",
    "print(s1.shape)"
   ]
  },
  {
   "cell_type": "code",
   "execution_count": 634,
   "metadata": {},
   "outputs": [
    {
     "data": {
      "text/plain": [
       "yong0    0\n",
       "yong1    1\n",
       "yong2    2\n",
       "yong3    3\n",
       "yong4    4\n",
       "yong5    5\n",
       "yong6    6\n",
       "yong7    7\n",
       "yong8    8\n",
       "yong9    9\n",
       "Name: yong, dtype: int32"
      ]
     },
     "execution_count": 634,
     "metadata": {},
     "output_type": "execute_result"
    }
   ],
   "source": [
    "df1.yong"
   ]
  },
  {
   "cell_type": "code",
   "execution_count": 646,
   "metadata": {},
   "outputs": [],
   "source": [
    "dic = {'col1':[1,2],'col2':[2,None]}"
   ]
  },
  {
   "cell_type": "code",
   "execution_count": 654,
   "metadata": {},
   "outputs": [],
   "source": [
    "df = pd.DataFrame(np.random.randint(60,100,1000),columns=['col 1'])"
   ]
  },
  {
   "cell_type": "code",
   "execution_count": 656,
   "metadata": {},
   "outputs": [],
   "source": [
    "df['col 2'] = df['col 1'] - 8"
   ]
  },
  {
   "cell_type": "code",
   "execution_count": 665,
   "metadata": {},
   "outputs": [],
   "source": [
    "df.rename(columns={'col_1':'col 1','col_2':'col 2'},inplace=True)"
   ]
  },
  {
   "cell_type": "code",
   "execution_count": 671,
   "metadata": {},
   "outputs": [],
   "source": [
    "df['col 7'] = np.random.randint(60,100,1000)"
   ]
  },
  {
   "cell_type": "code",
   "execution_count": 672,
   "metadata": {},
   "outputs": [
    {
     "data": {
      "text/plain": [
       "Index(['col 1', 'col 2', 'col_3', 'col 4', 'col 5', 'col_6', 'col 7'], dtype='object')"
      ]
     },
     "execution_count": 672,
     "metadata": {},
     "output_type": "execute_result"
    }
   ],
   "source": [
    "df.columns"
   ]
  },
  {
   "cell_type": "code",
   "execution_count": 677,
   "metadata": {},
   "outputs": [
    {
     "data": {
      "text/plain": [
       "{'col 1': 'col_1',\n",
       " 'col 2': 'col_2',\n",
       " 'col_3': 'col_3',\n",
       " 'col 4': 'col_4',\n",
       " 'col 5': 'col_5',\n",
       " 'col_6': 'col_6',\n",
       " 'col 7': 'col_7'}"
      ]
     },
     "execution_count": 677,
     "metadata": {},
     "output_type": "execute_result"
    }
   ],
   "source": [
    "{i:i.replace(' ','_') for i in df.columns}"
   ]
  },
  {
   "cell_type": "code",
   "execution_count": 678,
   "metadata": {},
   "outputs": [
    {
     "data": {
      "text/html": [
       "<div>\n",
       "<style scoped>\n",
       "    .dataframe tbody tr th:only-of-type {\n",
       "        vertical-align: middle;\n",
       "    }\n",
       "\n",
       "    .dataframe tbody tr th {\n",
       "        vertical-align: top;\n",
       "    }\n",
       "\n",
       "    .dataframe thead th {\n",
       "        text-align: right;\n",
       "    }\n",
       "</style>\n",
       "<table border=\"1\" class=\"dataframe\">\n",
       "  <thead>\n",
       "    <tr style=\"text-align: right;\">\n",
       "      <th></th>\n",
       "      <th>col_1</th>\n",
       "      <th>col_2</th>\n",
       "      <th>col_3</th>\n",
       "      <th>col_4</th>\n",
       "      <th>col_5</th>\n",
       "      <th>col_6</th>\n",
       "      <th>col_7</th>\n",
       "    </tr>\n",
       "  </thead>\n",
       "  <tbody>\n",
       "    <tr>\n",
       "      <th>0</th>\n",
       "      <td>93</td>\n",
       "      <td>85</td>\n",
       "      <td>81</td>\n",
       "      <td>74</td>\n",
       "      <td>96</td>\n",
       "      <td>82</td>\n",
       "      <td>82</td>\n",
       "    </tr>\n",
       "    <tr>\n",
       "      <th>1</th>\n",
       "      <td>99</td>\n",
       "      <td>91</td>\n",
       "      <td>60</td>\n",
       "      <td>99</td>\n",
       "      <td>97</td>\n",
       "      <td>90</td>\n",
       "      <td>70</td>\n",
       "    </tr>\n",
       "    <tr>\n",
       "      <th>2</th>\n",
       "      <td>69</td>\n",
       "      <td>61</td>\n",
       "      <td>70</td>\n",
       "      <td>68</td>\n",
       "      <td>82</td>\n",
       "      <td>62</td>\n",
       "      <td>74</td>\n",
       "    </tr>\n",
       "    <tr>\n",
       "      <th>3</th>\n",
       "      <td>69</td>\n",
       "      <td>61</td>\n",
       "      <td>79</td>\n",
       "      <td>85</td>\n",
       "      <td>89</td>\n",
       "      <td>90</td>\n",
       "      <td>65</td>\n",
       "    </tr>\n",
       "    <tr>\n",
       "      <th>4</th>\n",
       "      <td>89</td>\n",
       "      <td>81</td>\n",
       "      <td>60</td>\n",
       "      <td>96</td>\n",
       "      <td>93</td>\n",
       "      <td>65</td>\n",
       "      <td>94</td>\n",
       "    </tr>\n",
       "    <tr>\n",
       "      <th>...</th>\n",
       "      <td>...</td>\n",
       "      <td>...</td>\n",
       "      <td>...</td>\n",
       "      <td>...</td>\n",
       "      <td>...</td>\n",
       "      <td>...</td>\n",
       "      <td>...</td>\n",
       "    </tr>\n",
       "    <tr>\n",
       "      <th>995</th>\n",
       "      <td>93</td>\n",
       "      <td>85</td>\n",
       "      <td>93</td>\n",
       "      <td>64</td>\n",
       "      <td>73</td>\n",
       "      <td>84</td>\n",
       "      <td>98</td>\n",
       "    </tr>\n",
       "    <tr>\n",
       "      <th>996</th>\n",
       "      <td>80</td>\n",
       "      <td>72</td>\n",
       "      <td>79</td>\n",
       "      <td>64</td>\n",
       "      <td>97</td>\n",
       "      <td>76</td>\n",
       "      <td>89</td>\n",
       "    </tr>\n",
       "    <tr>\n",
       "      <th>997</th>\n",
       "      <td>77</td>\n",
       "      <td>69</td>\n",
       "      <td>74</td>\n",
       "      <td>69</td>\n",
       "      <td>91</td>\n",
       "      <td>87</td>\n",
       "      <td>97</td>\n",
       "    </tr>\n",
       "    <tr>\n",
       "      <th>998</th>\n",
       "      <td>88</td>\n",
       "      <td>80</td>\n",
       "      <td>95</td>\n",
       "      <td>73</td>\n",
       "      <td>91</td>\n",
       "      <td>77</td>\n",
       "      <td>64</td>\n",
       "    </tr>\n",
       "    <tr>\n",
       "      <th>999</th>\n",
       "      <td>77</td>\n",
       "      <td>69</td>\n",
       "      <td>93</td>\n",
       "      <td>75</td>\n",
       "      <td>92</td>\n",
       "      <td>94</td>\n",
       "      <td>83</td>\n",
       "    </tr>\n",
       "  </tbody>\n",
       "</table>\n",
       "<p>1000 rows × 7 columns</p>\n",
       "</div>"
      ],
      "text/plain": [
       "     col_1  col_2  col_3  col_4  col_5  col_6  col_7\n",
       "0       93     85     81     74     96     82     82\n",
       "1       99     91     60     99     97     90     70\n",
       "2       69     61     70     68     82     62     74\n",
       "3       69     61     79     85     89     90     65\n",
       "4       89     81     60     96     93     65     94\n",
       "..     ...    ...    ...    ...    ...    ...    ...\n",
       "995     93     85     93     64     73     84     98\n",
       "996     80     72     79     64     97     76     89\n",
       "997     77     69     74     69     91     87     97\n",
       "998     88     80     95     73     91     77     64\n",
       "999     77     69     93     75     92     94     83\n",
       "\n",
       "[1000 rows x 7 columns]"
      ]
     },
     "execution_count": 678,
     "metadata": {},
     "output_type": "execute_result"
    }
   ],
   "source": [
    "df.rename(columns={i:i.replace(' ','_') for i in df.columns})"
   ]
  },
  {
   "cell_type": "code",
   "execution_count": 686,
   "metadata": {},
   "outputs": [],
   "source": [
    "df.columns=df.columns.str.replace(' ','_')"
   ]
  },
  {
   "cell_type": "code",
   "execution_count": 688,
   "metadata": {},
   "outputs": [],
   "source": [
    "df.index = np.arange(1,1001)"
   ]
  },
  {
   "cell_type": "code",
   "execution_count": 690,
   "metadata": {},
   "outputs": [],
   "source": [
    "df['total'] = df.col_1 + df.col_2 + df.col_3 + df.col_4 + df.col_5 + df.col_6+df.col_7"
   ]
  },
  {
   "cell_type": "code",
   "execution_count": 694,
   "metadata": {},
   "outputs": [],
   "source": [
    "df.drop(['total'],axis=1,inplace=True)"
   ]
  },
  {
   "cell_type": "code",
   "execution_count": 699,
   "metadata": {},
   "outputs": [],
   "source": [
    "df['total'] = np.sum(df.values,axis=1)"
   ]
  },
  {
   "cell_type": "code",
   "execution_count": 702,
   "metadata": {},
   "outputs": [],
   "source": [
    "df['avg'] = np.mean(df.drop(['total'],axis=1).values,axis=1)"
   ]
  },
  {
   "cell_type": "code",
   "execution_count": 706,
   "metadata": {},
   "outputs": [
    {
     "data": {
      "text/html": [
       "<div>\n",
       "<style scoped>\n",
       "    .dataframe tbody tr th:only-of-type {\n",
       "        vertical-align: middle;\n",
       "    }\n",
       "\n",
       "    .dataframe tbody tr th {\n",
       "        vertical-align: top;\n",
       "    }\n",
       "\n",
       "    .dataframe thead th {\n",
       "        text-align: right;\n",
       "    }\n",
       "</style>\n",
       "<table border=\"1\" class=\"dataframe\">\n",
       "  <thead>\n",
       "    <tr style=\"text-align: right;\">\n",
       "      <th></th>\n",
       "      <th>col_1</th>\n",
       "      <th>col_2</th>\n",
       "      <th>col_3</th>\n",
       "      <th>col_4</th>\n",
       "      <th>col_5</th>\n",
       "      <th>col_6</th>\n",
       "      <th>avg</th>\n",
       "    </tr>\n",
       "  </thead>\n",
       "  <tbody>\n",
       "    <tr>\n",
       "      <th>1</th>\n",
       "      <td>93</td>\n",
       "      <td>85</td>\n",
       "      <td>81</td>\n",
       "      <td>74</td>\n",
       "      <td>96</td>\n",
       "      <td>82</td>\n",
       "      <td>84.714286</td>\n",
       "    </tr>\n",
       "    <tr>\n",
       "      <th>2</th>\n",
       "      <td>99</td>\n",
       "      <td>91</td>\n",
       "      <td>60</td>\n",
       "      <td>99</td>\n",
       "      <td>97</td>\n",
       "      <td>90</td>\n",
       "      <td>86.571429</td>\n",
       "    </tr>\n",
       "    <tr>\n",
       "      <th>3</th>\n",
       "      <td>69</td>\n",
       "      <td>61</td>\n",
       "      <td>70</td>\n",
       "      <td>68</td>\n",
       "      <td>82</td>\n",
       "      <td>62</td>\n",
       "      <td>69.428571</td>\n",
       "    </tr>\n",
       "    <tr>\n",
       "      <th>4</th>\n",
       "      <td>69</td>\n",
       "      <td>61</td>\n",
       "      <td>79</td>\n",
       "      <td>85</td>\n",
       "      <td>89</td>\n",
       "      <td>90</td>\n",
       "      <td>76.857143</td>\n",
       "    </tr>\n",
       "    <tr>\n",
       "      <th>5</th>\n",
       "      <td>89</td>\n",
       "      <td>81</td>\n",
       "      <td>60</td>\n",
       "      <td>96</td>\n",
       "      <td>93</td>\n",
       "      <td>65</td>\n",
       "      <td>82.571429</td>\n",
       "    </tr>\n",
       "    <tr>\n",
       "      <th>...</th>\n",
       "      <td>...</td>\n",
       "      <td>...</td>\n",
       "      <td>...</td>\n",
       "      <td>...</td>\n",
       "      <td>...</td>\n",
       "      <td>...</td>\n",
       "      <td>...</td>\n",
       "    </tr>\n",
       "    <tr>\n",
       "      <th>996</th>\n",
       "      <td>93</td>\n",
       "      <td>85</td>\n",
       "      <td>93</td>\n",
       "      <td>64</td>\n",
       "      <td>73</td>\n",
       "      <td>84</td>\n",
       "      <td>84.285714</td>\n",
       "    </tr>\n",
       "    <tr>\n",
       "      <th>997</th>\n",
       "      <td>80</td>\n",
       "      <td>72</td>\n",
       "      <td>79</td>\n",
       "      <td>64</td>\n",
       "      <td>97</td>\n",
       "      <td>76</td>\n",
       "      <td>79.571429</td>\n",
       "    </tr>\n",
       "    <tr>\n",
       "      <th>998</th>\n",
       "      <td>77</td>\n",
       "      <td>69</td>\n",
       "      <td>74</td>\n",
       "      <td>69</td>\n",
       "      <td>91</td>\n",
       "      <td>87</td>\n",
       "      <td>80.571429</td>\n",
       "    </tr>\n",
       "    <tr>\n",
       "      <th>999</th>\n",
       "      <td>88</td>\n",
       "      <td>80</td>\n",
       "      <td>95</td>\n",
       "      <td>73</td>\n",
       "      <td>91</td>\n",
       "      <td>77</td>\n",
       "      <td>81.142857</td>\n",
       "    </tr>\n",
       "    <tr>\n",
       "      <th>1000</th>\n",
       "      <td>77</td>\n",
       "      <td>69</td>\n",
       "      <td>93</td>\n",
       "      <td>75</td>\n",
       "      <td>92</td>\n",
       "      <td>94</td>\n",
       "      <td>83.285714</td>\n",
       "    </tr>\n",
       "  </tbody>\n",
       "</table>\n",
       "<p>1000 rows × 7 columns</p>\n",
       "</div>"
      ],
      "text/plain": [
       "      col_1  col_2  col_3  col_4  col_5  col_6        avg\n",
       "1        93     85     81     74     96     82  84.714286\n",
       "2        99     91     60     99     97     90  86.571429\n",
       "3        69     61     70     68     82     62  69.428571\n",
       "4        69     61     79     85     89     90  76.857143\n",
       "5        89     81     60     96     93     65  82.571429\n",
       "...     ...    ...    ...    ...    ...    ...        ...\n",
       "996      93     85     93     64     73     84  84.285714\n",
       "997      80     72     79     64     97     76  79.571429\n",
       "998      77     69     74     69     91     87  80.571429\n",
       "999      88     80     95     73     91     77  81.142857\n",
       "1000     77     69     93     75     92     94  83.285714\n",
       "\n",
       "[1000 rows x 7 columns]"
      ]
     },
     "execution_count": 706,
     "metadata": {},
     "output_type": "execute_result"
    }
   ],
   "source": [
    "df.drop(['total','col_7'],axis=1)"
   ]
  },
  {
   "cell_type": "code",
   "execution_count": 710,
   "metadata": {},
   "outputs": [],
   "source": [
    "df['col_8'] = pd.Series(np.random.randint(60,100,1000))"
   ]
  },
  {
   "cell_type": "code",
   "execution_count": 709,
   "metadata": {},
   "outputs": [],
   "source": [
    "df.drop(['col_8'],axis=1,inplace=True)"
   ]
  },
  {
   "cell_type": "code",
   "execution_count": 798,
   "metadata": {},
   "outputs": [],
   "source": [
    "### np.random.randint(60,100,100000)\n",
    "np.random.seed(100)\n",
    "eng = np.random.randint(60,100,100000)\n",
    "np.random.seed(101)\n",
    "math = np.random.randint(60,100,100000)\n",
    "np.random.seed(102)\n",
    "kor = np.random.randint(60,100,100000)\n",
    "np.random.seed(103)\n",
    "sci = np.random.randint(60,100,100000)"
   ]
  },
  {
   "cell_type": "code",
   "execution_count": 984,
   "metadata": {},
   "outputs": [],
   "source": [
    "df = pd.DataFrame(eng,columns = ['eng'])\n",
    "df['math'] = math\n",
    "df['kor'] = kor\n",
    "df['sci'] = sci"
   ]
  },
  {
   "cell_type": "code",
   "execution_count": 745,
   "metadata": {},
   "outputs": [],
   "source": [
    "df1 = pd.DataFrame(np.concatenate([eng.reshape(-1,1),\n",
    "                                  math.reshape(-1,1),kor.reshape(-1,1),\n",
    "                                  sci.reshape(-1,1)],axis=1),columns=['eng','math','kor','sci'])\n"
   ]
  },
  {
   "cell_type": "code",
   "execution_count": 726,
   "metadata": {},
   "outputs": [],
   "source": [
    "total = np.sum(df,axis=1)\n",
    "avg = np.mean(df,axis=1)"
   ]
  },
  {
   "cell_type": "code",
   "execution_count": 729,
   "metadata": {},
   "outputs": [
    {
     "data": {
      "text/plain": [
       "0        91\n",
       "1        84\n",
       "2        79\n",
       "3        99\n",
       "4        83\n",
       "         ..\n",
       "99995    92\n",
       "99996    99\n",
       "99997    92\n",
       "99998    86\n",
       "99999    90\n",
       "Length: 100000, dtype: int32"
      ]
     },
     "execution_count": 729,
     "metadata": {},
     "output_type": "execute_result"
    }
   ],
   "source": [
    "np.max(df,axis=1)"
   ]
  },
  {
   "cell_type": "code",
   "execution_count": 732,
   "metadata": {},
   "outputs": [],
   "source": [
    "grade = np.where((avg >= 90) | (np.max(df,axis=1)==99),'A',\n",
    "        np.where(avg>=80,'B','C'))"
   ]
  },
  {
   "cell_type": "code",
   "execution_count": 741,
   "metadata": {},
   "outputs": [],
   "source": [
    "best_score = np.where(np.argmax(df.values,axis=1) == 0,'eng',\n",
    "         np.where(np.argmax(df.values,axis=1)==1,'math',\n",
    "                 np.where(np.argmax(df.values,axis=1)==2,'kor','sci')))"
   ]
  },
  {
   "cell_type": "code",
   "execution_count": 742,
   "metadata": {},
   "outputs": [],
   "source": [
    "df['total'] = total\n",
    "df['avg'] = avg\n",
    "df['grade'] = grade\n",
    "df['best_score'] = best_score"
   ]
  },
  {
   "cell_type": "code",
   "execution_count": 743,
   "metadata": {},
   "outputs": [
    {
     "data": {
      "text/html": [
       "<div>\n",
       "<style scoped>\n",
       "    .dataframe tbody tr th:only-of-type {\n",
       "        vertical-align: middle;\n",
       "    }\n",
       "\n",
       "    .dataframe tbody tr th {\n",
       "        vertical-align: top;\n",
       "    }\n",
       "\n",
       "    .dataframe thead th {\n",
       "        text-align: right;\n",
       "    }\n",
       "</style>\n",
       "<table border=\"1\" class=\"dataframe\">\n",
       "  <thead>\n",
       "    <tr style=\"text-align: right;\">\n",
       "      <th></th>\n",
       "      <th>eng</th>\n",
       "      <th>math</th>\n",
       "      <th>kor</th>\n",
       "      <th>sci</th>\n",
       "      <th>total</th>\n",
       "      <th>avg</th>\n",
       "      <th>grade</th>\n",
       "      <th>best_score</th>\n",
       "    </tr>\n",
       "  </thead>\n",
       "  <tbody>\n",
       "    <tr>\n",
       "      <th>0</th>\n",
       "      <td>68</td>\n",
       "      <td>91</td>\n",
       "      <td>60</td>\n",
       "      <td>67</td>\n",
       "      <td>286</td>\n",
       "      <td>71.50</td>\n",
       "      <td>C</td>\n",
       "      <td>math</td>\n",
       "    </tr>\n",
       "    <tr>\n",
       "      <th>1</th>\n",
       "      <td>84</td>\n",
       "      <td>71</td>\n",
       "      <td>74</td>\n",
       "      <td>69</td>\n",
       "      <td>298</td>\n",
       "      <td>74.50</td>\n",
       "      <td>C</td>\n",
       "      <td>eng</td>\n",
       "    </tr>\n",
       "    <tr>\n",
       "      <th>2</th>\n",
       "      <td>63</td>\n",
       "      <td>77</td>\n",
       "      <td>62</td>\n",
       "      <td>79</td>\n",
       "      <td>281</td>\n",
       "      <td>70.25</td>\n",
       "      <td>C</td>\n",
       "      <td>sci</td>\n",
       "    </tr>\n",
       "    <tr>\n",
       "      <th>3</th>\n",
       "      <td>99</td>\n",
       "      <td>66</td>\n",
       "      <td>69</td>\n",
       "      <td>87</td>\n",
       "      <td>321</td>\n",
       "      <td>80.25</td>\n",
       "      <td>A</td>\n",
       "      <td>eng</td>\n",
       "    </tr>\n",
       "    <tr>\n",
       "      <th>4</th>\n",
       "      <td>83</td>\n",
       "      <td>83</td>\n",
       "      <td>68</td>\n",
       "      <td>66</td>\n",
       "      <td>300</td>\n",
       "      <td>75.00</td>\n",
       "      <td>C</td>\n",
       "      <td>eng</td>\n",
       "    </tr>\n",
       "    <tr>\n",
       "      <th>...</th>\n",
       "      <td>...</td>\n",
       "      <td>...</td>\n",
       "      <td>...</td>\n",
       "      <td>...</td>\n",
       "      <td>...</td>\n",
       "      <td>...</td>\n",
       "      <td>...</td>\n",
       "      <td>...</td>\n",
       "    </tr>\n",
       "    <tr>\n",
       "      <th>99995</th>\n",
       "      <td>81</td>\n",
       "      <td>65</td>\n",
       "      <td>82</td>\n",
       "      <td>92</td>\n",
       "      <td>320</td>\n",
       "      <td>80.00</td>\n",
       "      <td>B</td>\n",
       "      <td>sci</td>\n",
       "    </tr>\n",
       "    <tr>\n",
       "      <th>99996</th>\n",
       "      <td>61</td>\n",
       "      <td>92</td>\n",
       "      <td>66</td>\n",
       "      <td>99</td>\n",
       "      <td>318</td>\n",
       "      <td>79.50</td>\n",
       "      <td>A</td>\n",
       "      <td>sci</td>\n",
       "    </tr>\n",
       "    <tr>\n",
       "      <th>99997</th>\n",
       "      <td>89</td>\n",
       "      <td>92</td>\n",
       "      <td>75</td>\n",
       "      <td>69</td>\n",
       "      <td>325</td>\n",
       "      <td>81.25</td>\n",
       "      <td>B</td>\n",
       "      <td>math</td>\n",
       "    </tr>\n",
       "    <tr>\n",
       "      <th>99998</th>\n",
       "      <td>75</td>\n",
       "      <td>81</td>\n",
       "      <td>64</td>\n",
       "      <td>86</td>\n",
       "      <td>306</td>\n",
       "      <td>76.50</td>\n",
       "      <td>C</td>\n",
       "      <td>sci</td>\n",
       "    </tr>\n",
       "    <tr>\n",
       "      <th>99999</th>\n",
       "      <td>86</td>\n",
       "      <td>90</td>\n",
       "      <td>78</td>\n",
       "      <td>78</td>\n",
       "      <td>332</td>\n",
       "      <td>83.00</td>\n",
       "      <td>B</td>\n",
       "      <td>math</td>\n",
       "    </tr>\n",
       "  </tbody>\n",
       "</table>\n",
       "<p>100000 rows × 8 columns</p>\n",
       "</div>"
      ],
      "text/plain": [
       "       eng  math  kor  sci  total    avg grade best_score\n",
       "0       68    91   60   67    286  71.50     C       math\n",
       "1       84    71   74   69    298  74.50     C        eng\n",
       "2       63    77   62   79    281  70.25     C        sci\n",
       "3       99    66   69   87    321  80.25     A        eng\n",
       "4       83    83   68   66    300  75.00     C        eng\n",
       "...    ...   ...  ...  ...    ...    ...   ...        ...\n",
       "99995   81    65   82   92    320  80.00     B        sci\n",
       "99996   61    92   66   99    318  79.50     A        sci\n",
       "99997   89    92   75   69    325  81.25     B       math\n",
       "99998   75    81   64   86    306  76.50     C        sci\n",
       "99999   86    90   78   78    332  83.00     B       math\n",
       "\n",
       "[100000 rows x 8 columns]"
      ]
     },
     "execution_count": 743,
     "metadata": {},
     "output_type": "execute_result"
    }
   ],
   "source": [
    "df"
   ]
  },
  {
   "cell_type": "code",
   "execution_count": 748,
   "metadata": {},
   "outputs": [],
   "source": [
    "total = df1.apply(sum,axis=1)\n",
    "avg = df1.apply(np.mean,axis=1)\n"
   ]
  },
  {
   "cell_type": "code",
   "execution_count": 749,
   "metadata": {},
   "outputs": [],
   "source": [
    "grade = np.where((avg >= 90) | (np.max(df,axis=1)==99),'A',\n",
    "        np.where(avg>=80,'B','C'))"
   ]
  },
  {
   "cell_type": "code",
   "execution_count": 755,
   "metadata": {},
   "outputs": [
    {
     "data": {
      "text/plain": [
       "0"
      ]
     },
     "execution_count": 755,
     "metadata": {},
     "output_type": "execute_result"
    }
   ],
   "source": [
    "np.argmax([90,80,70,60])"
   ]
  },
  {
   "cell_type": "code",
   "execution_count": 757,
   "metadata": {},
   "outputs": [
    {
     "data": {
      "text/plain": [
       "'sci'"
      ]
     },
     "execution_count": 757,
     "metadata": {},
     "output_type": "execute_result"
    }
   ],
   "source": [
    "df1.columns[np.argmax([90,80,70,100])]"
   ]
  },
  {
   "cell_type": "code",
   "execution_count": 758,
   "metadata": {},
   "outputs": [],
   "source": [
    "def make_subject(x):\n",
    "    return df1.columns[np.argmax(x)]"
   ]
  },
  {
   "cell_type": "code",
   "execution_count": 865,
   "metadata": {},
   "outputs": [
    {
     "data": {
      "text/plain": [
       "Index(['eng', 'math', 'kor', 'sci'], dtype='object')"
      ]
     },
     "execution_count": 865,
     "metadata": {},
     "output_type": "execute_result"
    }
   ],
   "source": [
    "df.columns"
   ]
  },
  {
   "cell_type": "code",
   "execution_count": 867,
   "metadata": {},
   "outputs": [],
   "source": [
    "result = df.apply(lambda x : np.array(['English','Mathmatics','Korea','Science'])[x.argsort()[::-1]] ,axis=1)"
   ]
  },
  {
   "cell_type": "code",
   "execution_count": 868,
   "metadata": {},
   "outputs": [],
   "source": [
    "subject = pd.DataFrame(np.concatenate(result).reshape(-1,4))"
   ]
  },
  {
   "cell_type": "code",
   "execution_count": 869,
   "metadata": {},
   "outputs": [],
   "source": [
    "subject.columns = ['subject1','subject2','subject3','subject4']"
   ]
  },
  {
   "cell_type": "code",
   "execution_count": 986,
   "metadata": {},
   "outputs": [
    {
     "data": {
      "text/html": [
       "<div>\n",
       "<style scoped>\n",
       "    .dataframe tbody tr th:only-of-type {\n",
       "        vertical-align: middle;\n",
       "    }\n",
       "\n",
       "    .dataframe tbody tr th {\n",
       "        vertical-align: top;\n",
       "    }\n",
       "\n",
       "    .dataframe thead th {\n",
       "        text-align: right;\n",
       "    }\n",
       "</style>\n",
       "<table border=\"1\" class=\"dataframe\">\n",
       "  <thead>\n",
       "    <tr style=\"text-align: right;\">\n",
       "      <th></th>\n",
       "      <th>subject1</th>\n",
       "      <th>subject2</th>\n",
       "      <th>subject3</th>\n",
       "      <th>subject4</th>\n",
       "    </tr>\n",
       "  </thead>\n",
       "  <tbody>\n",
       "    <tr>\n",
       "      <th>0</th>\n",
       "      <td>Mathmatics</td>\n",
       "      <td>English</td>\n",
       "      <td>Science</td>\n",
       "      <td>Korea</td>\n",
       "    </tr>\n",
       "    <tr>\n",
       "      <th>1</th>\n",
       "      <td>English</td>\n",
       "      <td>Korea</td>\n",
       "      <td>Mathmatics</td>\n",
       "      <td>Science</td>\n",
       "    </tr>\n",
       "    <tr>\n",
       "      <th>2</th>\n",
       "      <td>Science</td>\n",
       "      <td>Mathmatics</td>\n",
       "      <td>English</td>\n",
       "      <td>Korea</td>\n",
       "    </tr>\n",
       "    <tr>\n",
       "      <th>3</th>\n",
       "      <td>English</td>\n",
       "      <td>Science</td>\n",
       "      <td>Korea</td>\n",
       "      <td>Mathmatics</td>\n",
       "    </tr>\n",
       "    <tr>\n",
       "      <th>4</th>\n",
       "      <td>Mathmatics</td>\n",
       "      <td>English</td>\n",
       "      <td>Korea</td>\n",
       "      <td>Science</td>\n",
       "    </tr>\n",
       "    <tr>\n",
       "      <th>...</th>\n",
       "      <td>...</td>\n",
       "      <td>...</td>\n",
       "      <td>...</td>\n",
       "      <td>...</td>\n",
       "    </tr>\n",
       "    <tr>\n",
       "      <th>99995</th>\n",
       "      <td>Science</td>\n",
       "      <td>Korea</td>\n",
       "      <td>English</td>\n",
       "      <td>Mathmatics</td>\n",
       "    </tr>\n",
       "    <tr>\n",
       "      <th>99996</th>\n",
       "      <td>Science</td>\n",
       "      <td>Mathmatics</td>\n",
       "      <td>Korea</td>\n",
       "      <td>English</td>\n",
       "    </tr>\n",
       "    <tr>\n",
       "      <th>99997</th>\n",
       "      <td>Mathmatics</td>\n",
       "      <td>English</td>\n",
       "      <td>Korea</td>\n",
       "      <td>Science</td>\n",
       "    </tr>\n",
       "    <tr>\n",
       "      <th>99998</th>\n",
       "      <td>Science</td>\n",
       "      <td>Mathmatics</td>\n",
       "      <td>English</td>\n",
       "      <td>Korea</td>\n",
       "    </tr>\n",
       "    <tr>\n",
       "      <th>99999</th>\n",
       "      <td>Mathmatics</td>\n",
       "      <td>English</td>\n",
       "      <td>Science</td>\n",
       "      <td>Korea</td>\n",
       "    </tr>\n",
       "  </tbody>\n",
       "</table>\n",
       "<p>100000 rows × 4 columns</p>\n",
       "</div>"
      ],
      "text/plain": [
       "         subject1    subject2    subject3    subject4\n",
       "0      Mathmatics     English     Science       Korea\n",
       "1         English       Korea  Mathmatics     Science\n",
       "2         Science  Mathmatics     English       Korea\n",
       "3         English     Science       Korea  Mathmatics\n",
       "4      Mathmatics     English       Korea     Science\n",
       "...           ...         ...         ...         ...\n",
       "99995     Science       Korea     English  Mathmatics\n",
       "99996     Science  Mathmatics       Korea     English\n",
       "99997  Mathmatics     English       Korea     Science\n",
       "99998     Science  Mathmatics     English       Korea\n",
       "99999  Mathmatics     English     Science       Korea\n",
       "\n",
       "[100000 rows x 4 columns]"
      ]
     },
     "execution_count": 986,
     "metadata": {},
     "output_type": "execute_result"
    }
   ],
   "source": [
    "subject"
   ]
  },
  {
   "cell_type": "code",
   "execution_count": 864,
   "metadata": {},
   "outputs": [
    {
     "data": {
      "text/plain": [
       "Index(['eng', 'math', 'kor', 'sci'], dtype='object')"
      ]
     },
     "execution_count": 864,
     "metadata": {},
     "output_type": "execute_result"
    }
   ],
   "source": [
    "df.columns\n",
    "## English, Mathmatics, Korea, Science"
   ]
  },
  {
   "cell_type": "code",
   "execution_count": 764,
   "metadata": {},
   "outputs": [],
   "source": [
    "best_score = df1.apply(lambda x : df1.columns[np.argmax(x)] ,axis=1)"
   ]
  },
  {
   "cell_type": "code",
   "execution_count": 765,
   "metadata": {},
   "outputs": [],
   "source": [
    "df1['total'] = total\n",
    "df1['avg'] = avg\n",
    "df1['grade'] = grade\n",
    "df1['best_score'] = best_score"
   ]
  },
  {
   "cell_type": "code",
   "execution_count": 772,
   "metadata": {},
   "outputs": [],
   "source": [
    "x = np.random.randint(1,100,5)"
   ]
  },
  {
   "cell_type": "code",
   "execution_count": 777,
   "metadata": {},
   "outputs": [
    {
     "data": {
      "text/plain": [
       "array([2, 4, 1, 0, 3], dtype=int64)"
      ]
     },
     "execution_count": 777,
     "metadata": {},
     "output_type": "execute_result"
    }
   ],
   "source": [
    "x.argsort()[::-1]"
   ]
  },
  {
   "cell_type": "code",
   "execution_count": 849,
   "metadata": {},
   "outputs": [],
   "source": [
    "y = np.array([68,91,60,100])"
   ]
  },
  {
   "cell_type": "code",
   "execution_count": 847,
   "metadata": {},
   "outputs": [
    {
     "data": {
      "text/plain": [
       "Index(['sci', 'math', 'eng', 'kor'], dtype='object')"
      ]
     },
     "execution_count": 847,
     "metadata": {},
     "output_type": "execute_result"
    }
   ],
   "source": [
    "df.columns[x.argsort()[::-1]]"
   ]
  },
  {
   "cell_type": "code",
   "execution_count": 848,
   "metadata": {},
   "outputs": [],
   "source": [
    "def yongmi(x):\n",
    "    return df.columns[x.argsort()[::-1]]"
   ]
  },
  {
   "cell_type": "code",
   "execution_count": 850,
   "metadata": {},
   "outputs": [
    {
     "data": {
      "text/plain": [
       "Index(['sci', 'math', 'eng', 'kor'], dtype='object')"
      ]
     },
     "execution_count": 850,
     "metadata": {},
     "output_type": "execute_result"
    }
   ],
   "source": [
    "yongmi(y)"
   ]
  },
  {
   "cell_type": "code",
   "execution_count": 842,
   "metadata": {},
   "outputs": [
    {
     "data": {
      "text/plain": [
       "array([1, 0, 3, 2], dtype=int64)"
      ]
     },
     "execution_count": 842,
     "metadata": {},
     "output_type": "execute_result"
    }
   ],
   "source": [
    "x.argsort()[::-1]"
   ]
  },
  {
   "cell_type": "code",
   "execution_count": 843,
   "metadata": {},
   "outputs": [
    {
     "data": {
      "text/plain": [
       "array([91, 68, 67, 60])"
      ]
     },
     "execution_count": 843,
     "metadata": {},
     "output_type": "execute_result"
    }
   ],
   "source": [
    "x[x.argsort()[::-1]]"
   ]
  },
  {
   "cell_type": "code",
   "execution_count": 821,
   "metadata": {},
   "outputs": [],
   "source": [
    "a = df.apply(lambda x : df.columns[x.argsort()[::-1]].values.reshape(4,1),axis=1)"
   ]
  },
  {
   "cell_type": "code",
   "execution_count": 831,
   "metadata": {},
   "outputs": [
    {
     "data": {
      "text/plain": [
       "array([['math'],\n",
       "       ['eng'],\n",
       "       ['sci'],\n",
       "       ...,\n",
       "       ['eng'],\n",
       "       ['sci'],\n",
       "       ['kor']], dtype=object)"
      ]
     },
     "execution_count": 831,
     "metadata": {},
     "output_type": "execute_result"
    }
   ],
   "source": [
    "np.concatenate(a.values)"
   ]
  },
  {
   "cell_type": "code",
   "execution_count": 835,
   "metadata": {},
   "outputs": [
    {
     "data": {
      "text/plain": [
       "array([['math', 'eng', 'sci', 'kor'],\n",
       "       ['eng', 'kor', 'math', 'sci'],\n",
       "       ['sci', 'math', 'eng', 'kor'],\n",
       "       ['eng', 'sci', 'kor', 'math'],\n",
       "       ['math', 'eng', 'kor', 'sci'],\n",
       "       ['sci', 'eng', 'math', 'kor'],\n",
       "       ['sci', 'eng', 'kor', 'math'],\n",
       "       ['eng', 'sci', 'kor', 'math'],\n",
       "       ['eng', 'sci', 'kor', 'math'],\n",
       "       ['sci', 'math', 'kor', 'eng']], dtype=object)"
      ]
     },
     "execution_count": 835,
     "metadata": {},
     "output_type": "execute_result"
    }
   ],
   "source": [
    "np.concatenate(a.values).reshape(-1,4)"
   ]
  },
  {
   "cell_type": "code",
   "execution_count": 807,
   "metadata": {},
   "outputs": [],
   "source": [
    "x = df[0:1].values"
   ]
  },
  {
   "cell_type": "code",
   "execution_count": 808,
   "metadata": {},
   "outputs": [
    {
     "data": {
      "text/plain": [
       "array([[68, 91, 60, 67]])"
      ]
     },
     "execution_count": 808,
     "metadata": {},
     "output_type": "execute_result"
    }
   ],
   "source": [
    "x"
   ]
  },
  {
   "cell_type": "code",
   "execution_count": 817,
   "metadata": {},
   "outputs": [],
   "source": [
    "def xxx(x):\n",
    "    return df.columns[x.argsort()[::-1]].values.reshape(4,1)"
   ]
  },
  {
   "cell_type": "code",
   "execution_count": 818,
   "metadata": {},
   "outputs": [
    {
     "data": {
      "text/plain": [
       "array([['eng'],\n",
       "       ['math'],\n",
       "       ['sci'],\n",
       "       ['kor']], dtype=object)"
      ]
     },
     "execution_count": 818,
     "metadata": {},
     "output_type": "execute_result"
    }
   ],
   "source": [
    "xxx(np.array([70,60,30,50]))"
   ]
  },
  {
   "cell_type": "code",
   "execution_count": 882,
   "metadata": {},
   "outputs": [],
   "source": [
    "df = pd.concat([df,subject],axis=1)"
   ]
  },
  {
   "cell_type": "code",
   "execution_count": 885,
   "metadata": {},
   "outputs": [],
   "source": [
    "df['total'] = df[['eng','math','sci','kor']].apply(sum,axis=1)"
   ]
  },
  {
   "cell_type": "code",
   "execution_count": 886,
   "metadata": {},
   "outputs": [],
   "source": [
    "df['avg'] = df[['eng','math','sci','kor']].apply(np.mean,axis=1)"
   ]
  },
  {
   "cell_type": "code",
   "execution_count": 888,
   "metadata": {},
   "outputs": [],
   "source": [
    "df = df[['eng','math','kor','sci','total','avg','subject1','subject2','subject3','subject4']]"
   ]
  },
  {
   "cell_type": "code",
   "execution_count": 988,
   "metadata": {},
   "outputs": [],
   "source": [
    "df = pd.concat([df,subject],axis=1)"
   ]
  },
  {
   "cell_type": "code",
   "execution_count": 898,
   "metadata": {},
   "outputs": [
    {
     "data": {
      "text/html": [
       "<div>\n",
       "<style scoped>\n",
       "    .dataframe tbody tr th:only-of-type {\n",
       "        vertical-align: middle;\n",
       "    }\n",
       "\n",
       "    .dataframe tbody tr th {\n",
       "        vertical-align: top;\n",
       "    }\n",
       "\n",
       "    .dataframe thead th {\n",
       "        text-align: right;\n",
       "    }\n",
       "</style>\n",
       "<table border=\"1\" class=\"dataframe\">\n",
       "  <thead>\n",
       "    <tr style=\"text-align: right;\">\n",
       "      <th></th>\n",
       "      <th>subject1</th>\n",
       "      <th>subject2</th>\n",
       "    </tr>\n",
       "  </thead>\n",
       "  <tbody>\n",
       "    <tr>\n",
       "      <th>0</th>\n",
       "      <td>Mathmatics</td>\n",
       "      <td>English</td>\n",
       "    </tr>\n",
       "    <tr>\n",
       "      <th>1</th>\n",
       "      <td>English</td>\n",
       "      <td>Korea</td>\n",
       "    </tr>\n",
       "    <tr>\n",
       "      <th>2</th>\n",
       "      <td>Science</td>\n",
       "      <td>Mathmatics</td>\n",
       "    </tr>\n",
       "    <tr>\n",
       "      <th>3</th>\n",
       "      <td>English</td>\n",
       "      <td>Science</td>\n",
       "    </tr>\n",
       "    <tr>\n",
       "      <th>4</th>\n",
       "      <td>Mathmatics</td>\n",
       "      <td>English</td>\n",
       "    </tr>\n",
       "    <tr>\n",
       "      <th>...</th>\n",
       "      <td>...</td>\n",
       "      <td>...</td>\n",
       "    </tr>\n",
       "    <tr>\n",
       "      <th>99995</th>\n",
       "      <td>Science</td>\n",
       "      <td>Korea</td>\n",
       "    </tr>\n",
       "    <tr>\n",
       "      <th>99996</th>\n",
       "      <td>Science</td>\n",
       "      <td>Mathmatics</td>\n",
       "    </tr>\n",
       "    <tr>\n",
       "      <th>99997</th>\n",
       "      <td>Mathmatics</td>\n",
       "      <td>English</td>\n",
       "    </tr>\n",
       "    <tr>\n",
       "      <th>99998</th>\n",
       "      <td>Science</td>\n",
       "      <td>Mathmatics</td>\n",
       "    </tr>\n",
       "    <tr>\n",
       "      <th>99999</th>\n",
       "      <td>Mathmatics</td>\n",
       "      <td>English</td>\n",
       "    </tr>\n",
       "  </tbody>\n",
       "</table>\n",
       "<p>100000 rows × 2 columns</p>\n",
       "</div>"
      ],
      "text/plain": [
       "         subject1    subject2\n",
       "0      Mathmatics     English\n",
       "1         English       Korea\n",
       "2         Science  Mathmatics\n",
       "3         English     Science\n",
       "4      Mathmatics     English\n",
       "...           ...         ...\n",
       "99995     Science       Korea\n",
       "99996     Science  Mathmatics\n",
       "99997  Mathmatics     English\n",
       "99998     Science  Mathmatics\n",
       "99999  Mathmatics     English\n",
       "\n",
       "[100000 rows x 2 columns]"
      ]
     },
     "execution_count": 898,
     "metadata": {},
     "output_type": "execute_result"
    }
   ],
   "source": [
    "df.loc[:,['subject1','subject2']]"
   ]
  },
  {
   "cell_type": "code",
   "execution_count": 900,
   "metadata": {},
   "outputs": [
    {
     "data": {
      "text/html": [
       "<div>\n",
       "<style scoped>\n",
       "    .dataframe tbody tr th:only-of-type {\n",
       "        vertical-align: middle;\n",
       "    }\n",
       "\n",
       "    .dataframe tbody tr th {\n",
       "        vertical-align: top;\n",
       "    }\n",
       "\n",
       "    .dataframe thead th {\n",
       "        text-align: right;\n",
       "    }\n",
       "</style>\n",
       "<table border=\"1\" class=\"dataframe\">\n",
       "  <thead>\n",
       "    <tr style=\"text-align: right;\">\n",
       "      <th></th>\n",
       "      <th>eng</th>\n",
       "      <th>math</th>\n",
       "      <th>kor</th>\n",
       "      <th>sci</th>\n",
       "      <th>total</th>\n",
       "      <th>avg</th>\n",
       "      <th>subject1</th>\n",
       "      <th>subject2</th>\n",
       "      <th>subject3</th>\n",
       "      <th>subject4</th>\n",
       "    </tr>\n",
       "  </thead>\n",
       "  <tbody>\n",
       "    <tr>\n",
       "      <th>0</th>\n",
       "      <td>68</td>\n",
       "      <td>91</td>\n",
       "      <td>60</td>\n",
       "      <td>67</td>\n",
       "      <td>286</td>\n",
       "      <td>71.50</td>\n",
       "      <td>Mathmatics</td>\n",
       "      <td>English</td>\n",
       "      <td>Science</td>\n",
       "      <td>Korea</td>\n",
       "    </tr>\n",
       "    <tr>\n",
       "      <th>4</th>\n",
       "      <td>83</td>\n",
       "      <td>83</td>\n",
       "      <td>68</td>\n",
       "      <td>66</td>\n",
       "      <td>300</td>\n",
       "      <td>75.00</td>\n",
       "      <td>Mathmatics</td>\n",
       "      <td>English</td>\n",
       "      <td>Korea</td>\n",
       "      <td>Science</td>\n",
       "    </tr>\n",
       "    <tr>\n",
       "      <th>17</th>\n",
       "      <td>69</td>\n",
       "      <td>94</td>\n",
       "      <td>67</td>\n",
       "      <td>68</td>\n",
       "      <td>298</td>\n",
       "      <td>74.50</td>\n",
       "      <td>Mathmatics</td>\n",
       "      <td>English</td>\n",
       "      <td>Science</td>\n",
       "      <td>Korea</td>\n",
       "    </tr>\n",
       "    <tr>\n",
       "      <th>22</th>\n",
       "      <td>64</td>\n",
       "      <td>91</td>\n",
       "      <td>90</td>\n",
       "      <td>60</td>\n",
       "      <td>305</td>\n",
       "      <td>76.25</td>\n",
       "      <td>Mathmatics</td>\n",
       "      <td>Korea</td>\n",
       "      <td>English</td>\n",
       "      <td>Science</td>\n",
       "    </tr>\n",
       "    <tr>\n",
       "      <th>29</th>\n",
       "      <td>87</td>\n",
       "      <td>95</td>\n",
       "      <td>65</td>\n",
       "      <td>74</td>\n",
       "      <td>321</td>\n",
       "      <td>80.25</td>\n",
       "      <td>Mathmatics</td>\n",
       "      <td>English</td>\n",
       "      <td>Science</td>\n",
       "      <td>Korea</td>\n",
       "    </tr>\n",
       "    <tr>\n",
       "      <th>...</th>\n",
       "      <td>...</td>\n",
       "      <td>...</td>\n",
       "      <td>...</td>\n",
       "      <td>...</td>\n",
       "      <td>...</td>\n",
       "      <td>...</td>\n",
       "      <td>...</td>\n",
       "      <td>...</td>\n",
       "      <td>...</td>\n",
       "      <td>...</td>\n",
       "    </tr>\n",
       "    <tr>\n",
       "      <th>99988</th>\n",
       "      <td>79</td>\n",
       "      <td>85</td>\n",
       "      <td>76</td>\n",
       "      <td>82</td>\n",
       "      <td>322</td>\n",
       "      <td>80.50</td>\n",
       "      <td>Mathmatics</td>\n",
       "      <td>Science</td>\n",
       "      <td>English</td>\n",
       "      <td>Korea</td>\n",
       "    </tr>\n",
       "    <tr>\n",
       "      <th>99991</th>\n",
       "      <td>62</td>\n",
       "      <td>69</td>\n",
       "      <td>68</td>\n",
       "      <td>63</td>\n",
       "      <td>262</td>\n",
       "      <td>65.50</td>\n",
       "      <td>Mathmatics</td>\n",
       "      <td>Korea</td>\n",
       "      <td>Science</td>\n",
       "      <td>English</td>\n",
       "    </tr>\n",
       "    <tr>\n",
       "      <th>99992</th>\n",
       "      <td>63</td>\n",
       "      <td>87</td>\n",
       "      <td>86</td>\n",
       "      <td>78</td>\n",
       "      <td>314</td>\n",
       "      <td>78.50</td>\n",
       "      <td>Mathmatics</td>\n",
       "      <td>Korea</td>\n",
       "      <td>Science</td>\n",
       "      <td>English</td>\n",
       "    </tr>\n",
       "    <tr>\n",
       "      <th>99997</th>\n",
       "      <td>89</td>\n",
       "      <td>92</td>\n",
       "      <td>75</td>\n",
       "      <td>69</td>\n",
       "      <td>325</td>\n",
       "      <td>81.25</td>\n",
       "      <td>Mathmatics</td>\n",
       "      <td>English</td>\n",
       "      <td>Korea</td>\n",
       "      <td>Science</td>\n",
       "    </tr>\n",
       "    <tr>\n",
       "      <th>99999</th>\n",
       "      <td>86</td>\n",
       "      <td>90</td>\n",
       "      <td>78</td>\n",
       "      <td>78</td>\n",
       "      <td>332</td>\n",
       "      <td>83.00</td>\n",
       "      <td>Mathmatics</td>\n",
       "      <td>English</td>\n",
       "      <td>Science</td>\n",
       "      <td>Korea</td>\n",
       "    </tr>\n",
       "  </tbody>\n",
       "</table>\n",
       "<p>24499 rows × 10 columns</p>\n",
       "</div>"
      ],
      "text/plain": [
       "       eng  math  kor  sci  total    avg    subject1 subject2 subject3  \\\n",
       "0       68    91   60   67    286  71.50  Mathmatics  English  Science   \n",
       "4       83    83   68   66    300  75.00  Mathmatics  English    Korea   \n",
       "17      69    94   67   68    298  74.50  Mathmatics  English  Science   \n",
       "22      64    91   90   60    305  76.25  Mathmatics    Korea  English   \n",
       "29      87    95   65   74    321  80.25  Mathmatics  English  Science   \n",
       "...    ...   ...  ...  ...    ...    ...         ...      ...      ...   \n",
       "99988   79    85   76   82    322  80.50  Mathmatics  Science  English   \n",
       "99991   62    69   68   63    262  65.50  Mathmatics    Korea  Science   \n",
       "99992   63    87   86   78    314  78.50  Mathmatics    Korea  Science   \n",
       "99997   89    92   75   69    325  81.25  Mathmatics  English    Korea   \n",
       "99999   86    90   78   78    332  83.00  Mathmatics  English  Science   \n",
       "\n",
       "      subject4  \n",
       "0        Korea  \n",
       "4      Science  \n",
       "17       Korea  \n",
       "22     Science  \n",
       "29       Korea  \n",
       "...        ...  \n",
       "99988    Korea  \n",
       "99991  English  \n",
       "99992  English  \n",
       "99997  Science  \n",
       "99999    Korea  \n",
       "\n",
       "[24499 rows x 10 columns]"
      ]
     },
     "execution_count": 900,
     "metadata": {},
     "output_type": "execute_result"
    }
   ],
   "source": [
    "df.loc[df.subject1=='Mathmatics',:]"
   ]
  },
  {
   "cell_type": "code",
   "execution_count": 920,
   "metadata": {},
   "outputs": [
    {
     "data": {
      "text/plain": [
       "75.33890653736833"
      ]
     },
     "execution_count": 920,
     "metadata": {},
     "output_type": "execute_result"
    }
   ],
   "source": [
    "## 1. 제일 잘한 과목이 수학인 사람들의 영어 평균\n",
    "## 2. 제일 잘한 과목이 영어인 사람들의 수학 평균\n",
    "## 3. 제일 못한 과목은 어떤 과목인가 \n",
    "\n",
    "df.loc[df.subject1 == 'Mathmatics','eng'].mean()\n",
    "df.iloc[df.subject1.values == 'Mathmatics',0].mean()\n",
    "df.loc[df.subject1 == 'English','math'].mean()\n",
    "df.iloc[df.subject1.values == 'English',1].mean()\n"
   ]
  },
  {
   "cell_type": "code",
   "execution_count": 923,
   "metadata": {},
   "outputs": [
    {
     "data": {
      "text/plain": [
       "'English'"
      ]
     },
     "execution_count": 923,
     "metadata": {},
     "output_type": "execute_result"
    }
   ],
   "source": [
    "df.loc[:,'subject4'].describe()['top']"
   ]
  },
  {
   "cell_type": "code",
   "execution_count": 927,
   "metadata": {},
   "outputs": [
    {
     "data": {
      "text/plain": [
       "eng     79.49192\n",
       "math    79.48387\n",
       "kor     79.54248\n",
       "sci     79.47919\n",
       "dtype: float64"
      ]
     },
     "execution_count": 927,
     "metadata": {},
     "output_type": "execute_result"
    }
   ],
   "source": [
    "df.iloc[:,0:4].apply(np.mean,axis=0)"
   ]
  },
  {
   "cell_type": "code",
   "execution_count": 931,
   "metadata": {},
   "outputs": [],
   "source": [
    "def xx(x):\n",
    "    return np.exp(x)/np.sum(np.exp(x))"
   ]
  },
  {
   "cell_type": "code",
   "execution_count": 942,
   "metadata": {},
   "outputs": [
    {
     "data": {
      "text/plain": [
       "array([0.0000000001, 0.9999999999, 0.          , 0.          ])"
      ]
     },
     "execution_count": 942,
     "metadata": {},
     "output_type": "execute_result"
    }
   ],
   "source": [
    "np.set_printoptions(precision=10, suppress=True)\n",
    "xx(np.array([68,91,60,67]))"
   ]
  },
  {
   "cell_type": "code",
   "execution_count": 943,
   "metadata": {},
   "outputs": [],
   "source": [
    "result = df.iloc[:,0:4].apply(lambda x :np.exp(x)/np.sum(np.exp(x)),axis=1 )"
   ]
  },
  {
   "cell_type": "code",
   "execution_count": 945,
   "metadata": {},
   "outputs": [],
   "source": [
    "df = pd.concat([df,result],axis=1)"
   ]
  },
  {
   "cell_type": "code",
   "execution_count": 948,
   "metadata": {},
   "outputs": [
    {
     "data": {
      "text/plain": [
       "array(['eng', 'math', 'kor', 'sci', 'total', 'avg', 'subject1',\n",
       "       'subject2', 'subject3', 'subject4', 'eng_sm', 'math_sm', 'kor_sm',\n",
       "       'sci_sm'], dtype=object)"
      ]
     },
     "execution_count": 948,
     "metadata": {},
     "output_type": "execute_result"
    }
   ],
   "source": [
    " np.concatenate([df.columns[0:10],['eng_sm','math_sm','kor_sm','sci_sm']])"
   ]
  },
  {
   "cell_type": "code",
   "execution_count": 949,
   "metadata": {},
   "outputs": [],
   "source": [
    "df.columns =  np.concatenate([df.columns[0:10],['eng_sm','math_sm','kor_sm','sci_sm']])"
   ]
  },
  {
   "cell_type": "code",
   "execution_count": 952,
   "metadata": {},
   "outputs": [
    {
     "data": {
      "text/html": [
       "<div>\n",
       "<style scoped>\n",
       "    .dataframe tbody tr th:only-of-type {\n",
       "        vertical-align: middle;\n",
       "    }\n",
       "\n",
       "    .dataframe tbody tr th {\n",
       "        vertical-align: top;\n",
       "    }\n",
       "\n",
       "    .dataframe thead th {\n",
       "        text-align: right;\n",
       "    }\n",
       "</style>\n",
       "<table border=\"1\" class=\"dataframe\">\n",
       "  <thead>\n",
       "    <tr style=\"text-align: right;\">\n",
       "      <th></th>\n",
       "      <th>eng</th>\n",
       "      <th>math</th>\n",
       "      <th>kor</th>\n",
       "      <th>sci</th>\n",
       "      <th>total</th>\n",
       "      <th>avg</th>\n",
       "      <th>subject1</th>\n",
       "      <th>subject2</th>\n",
       "      <th>subject3</th>\n",
       "      <th>subject4</th>\n",
       "      <th>eng_sm</th>\n",
       "      <th>math_sm</th>\n",
       "      <th>kor_sm</th>\n",
       "      <th>sci_sm</th>\n",
       "    </tr>\n",
       "  </thead>\n",
       "  <tbody>\n",
       "    <tr>\n",
       "      <th>0</th>\n",
       "      <td>68</td>\n",
       "      <td>91</td>\n",
       "      <td>60</td>\n",
       "      <td>67</td>\n",
       "      <td>286</td>\n",
       "      <td>71.5</td>\n",
       "      <td>Mathmatics</td>\n",
       "      <td>English</td>\n",
       "      <td>Science</td>\n",
       "      <td>Korea</td>\n",
       "      <td>1.026188e-10</td>\n",
       "      <td>1.0</td>\n",
       "      <td>3.442477e-14</td>\n",
       "      <td>3.775135e-11</td>\n",
       "    </tr>\n",
       "    <tr>\n",
       "      <th>4</th>\n",
       "      <td>83</td>\n",
       "      <td>83</td>\n",
       "      <td>68</td>\n",
       "      <td>66</td>\n",
       "      <td>300</td>\n",
       "      <td>75.0</td>\n",
       "      <td>Mathmatics</td>\n",
       "      <td>English</td>\n",
       "      <td>Korea</td>\n",
       "      <td>Science</td>\n",
       "      <td>4.999999e-01</td>\n",
       "      <td>0.5</td>\n",
       "      <td>1.529511e-07</td>\n",
       "      <td>2.069968e-08</td>\n",
       "    </tr>\n",
       "  </tbody>\n",
       "</table>\n",
       "</div>"
      ],
      "text/plain": [
       "   eng  math  kor  sci  total   avg    subject1 subject2 subject3 subject4  \\\n",
       "0   68    91   60   67    286  71.5  Mathmatics  English  Science    Korea   \n",
       "4   83    83   68   66    300  75.0  Mathmatics  English    Korea  Science   \n",
       "\n",
       "         eng_sm  math_sm        kor_sm        sci_sm  \n",
       "0  1.026188e-10      1.0  3.442477e-14  3.775135e-11  \n",
       "4  4.999999e-01      0.5  1.529511e-07  2.069968e-08  "
      ]
     },
     "execution_count": 952,
     "metadata": {},
     "output_type": "execute_result"
    }
   ],
   "source": [
    "df.iloc[[0,4],:]"
   ]
  },
  {
   "cell_type": "code",
   "execution_count": 955,
   "metadata": {},
   "outputs": [
    {
     "data": {
      "text/html": [
       "<div>\n",
       "<style scoped>\n",
       "    .dataframe tbody tr th:only-of-type {\n",
       "        vertical-align: middle;\n",
       "    }\n",
       "\n",
       "    .dataframe tbody tr th {\n",
       "        vertical-align: top;\n",
       "    }\n",
       "\n",
       "    .dataframe thead th {\n",
       "        text-align: right;\n",
       "    }\n",
       "</style>\n",
       "<table border=\"1\" class=\"dataframe\">\n",
       "  <thead>\n",
       "    <tr style=\"text-align: right;\">\n",
       "      <th></th>\n",
       "      <th>eng</th>\n",
       "      <th>math</th>\n",
       "      <th>kor</th>\n",
       "      <th>sci</th>\n",
       "      <th>total</th>\n",
       "      <th>avg</th>\n",
       "      <th>subject1</th>\n",
       "      <th>subject2</th>\n",
       "      <th>subject3</th>\n",
       "      <th>subject4</th>\n",
       "      <th>eng_sm</th>\n",
       "      <th>math_sm</th>\n",
       "      <th>kor_sm</th>\n",
       "      <th>sci_sm</th>\n",
       "    </tr>\n",
       "  </thead>\n",
       "  <tbody>\n",
       "    <tr>\n",
       "      <th>49999</th>\n",
       "      <td>69</td>\n",
       "      <td>70</td>\n",
       "      <td>76</td>\n",
       "      <td>91</td>\n",
       "      <td>306</td>\n",
       "      <td>76.50</td>\n",
       "      <td>Science</td>\n",
       "      <td>Korea</td>\n",
       "      <td>Mathmatics</td>\n",
       "      <td>English</td>\n",
       "      <td>2.789467e-10</td>\n",
       "      <td>7.582558e-10</td>\n",
       "      <td>3.059022e-07</td>\n",
       "      <td>9.999997e-01</td>\n",
       "    </tr>\n",
       "    <tr>\n",
       "      <th>35143</th>\n",
       "      <td>62</td>\n",
       "      <td>76</td>\n",
       "      <td>67</td>\n",
       "      <td>99</td>\n",
       "      <td>304</td>\n",
       "      <td>76.00</td>\n",
       "      <td>Science</td>\n",
       "      <td>Mathmatics</td>\n",
       "      <td>Korea</td>\n",
       "      <td>English</td>\n",
       "      <td>8.533048e-17</td>\n",
       "      <td>1.026188e-10</td>\n",
       "      <td>1.266417e-14</td>\n",
       "      <td>1.000000e+00</td>\n",
       "    </tr>\n",
       "    <tr>\n",
       "      <th>35178</th>\n",
       "      <td>64</td>\n",
       "      <td>64</td>\n",
       "      <td>73</td>\n",
       "      <td>84</td>\n",
       "      <td>285</td>\n",
       "      <td>71.25</td>\n",
       "      <td>Science</td>\n",
       "      <td>Korea</td>\n",
       "      <td>Mathmatics</td>\n",
       "      <td>English</td>\n",
       "      <td>2.061119e-09</td>\n",
       "      <td>2.061119e-09</td>\n",
       "      <td>1.670142e-05</td>\n",
       "      <td>9.999833e-01</td>\n",
       "    </tr>\n",
       "    <tr>\n",
       "      <th>35176</th>\n",
       "      <td>69</td>\n",
       "      <td>79</td>\n",
       "      <td>79</td>\n",
       "      <td>99</td>\n",
       "      <td>326</td>\n",
       "      <td>81.50</td>\n",
       "      <td>Science</td>\n",
       "      <td>Korea</td>\n",
       "      <td>Mathmatics</td>\n",
       "      <td>English</td>\n",
       "      <td>9.357623e-14</td>\n",
       "      <td>2.061154e-09</td>\n",
       "      <td>2.061154e-09</td>\n",
       "      <td>1.000000e+00</td>\n",
       "    </tr>\n",
       "    <tr>\n",
       "      <th>35172</th>\n",
       "      <td>71</td>\n",
       "      <td>87</td>\n",
       "      <td>67</td>\n",
       "      <td>94</td>\n",
       "      <td>319</td>\n",
       "      <td>79.75</td>\n",
       "      <td>Science</td>\n",
       "      <td>Mathmatics</td>\n",
       "      <td>English</td>\n",
       "      <td>Korea</td>\n",
       "      <td>1.025253e-10</td>\n",
       "      <td>9.110512e-04</td>\n",
       "      <td>1.877816e-12</td>\n",
       "      <td>9.990889e-01</td>\n",
       "    </tr>\n",
       "    <tr>\n",
       "      <th>...</th>\n",
       "      <td>...</td>\n",
       "      <td>...</td>\n",
       "      <td>...</td>\n",
       "      <td>...</td>\n",
       "      <td>...</td>\n",
       "      <td>...</td>\n",
       "      <td>...</td>\n",
       "      <td>...</td>\n",
       "      <td>...</td>\n",
       "      <td>...</td>\n",
       "      <td>...</td>\n",
       "      <td>...</td>\n",
       "      <td>...</td>\n",
       "      <td>...</td>\n",
       "    </tr>\n",
       "    <tr>\n",
       "      <th>20910</th>\n",
       "      <td>78</td>\n",
       "      <td>65</td>\n",
       "      <td>73</td>\n",
       "      <td>63</td>\n",
       "      <td>279</td>\n",
       "      <td>69.75</td>\n",
       "      <td>English</td>\n",
       "      <td>Korea</td>\n",
       "      <td>Mathmatics</td>\n",
       "      <td>Science</td>\n",
       "      <td>9.933046e-01</td>\n",
       "      <td>2.245196e-06</td>\n",
       "      <td>6.692834e-03</td>\n",
       "      <td>3.038542e-07</td>\n",
       "    </tr>\n",
       "    <tr>\n",
       "      <th>20912</th>\n",
       "      <td>86</td>\n",
       "      <td>66</td>\n",
       "      <td>84</td>\n",
       "      <td>67</td>\n",
       "      <td>303</td>\n",
       "      <td>75.75</td>\n",
       "      <td>English</td>\n",
       "      <td>Korea</td>\n",
       "      <td>Science</td>\n",
       "      <td>Mathmatics</td>\n",
       "      <td>8.807971e-01</td>\n",
       "      <td>1.815458e-09</td>\n",
       "      <td>1.192029e-01</td>\n",
       "      <td>4.934927e-09</td>\n",
       "    </tr>\n",
       "    <tr>\n",
       "      <th>44371</th>\n",
       "      <td>88</td>\n",
       "      <td>77</td>\n",
       "      <td>63</td>\n",
       "      <td>78</td>\n",
       "      <td>306</td>\n",
       "      <td>76.50</td>\n",
       "      <td>English</td>\n",
       "      <td>Science</td>\n",
       "      <td>Mathmatics</td>\n",
       "      <td>Korea</td>\n",
       "      <td>9.999379e-01</td>\n",
       "      <td>1.670066e-05</td>\n",
       "      <td>1.388708e-11</td>\n",
       "      <td>4.539711e-05</td>\n",
       "    </tr>\n",
       "    <tr>\n",
       "      <th>20914</th>\n",
       "      <td>98</td>\n",
       "      <td>63</td>\n",
       "      <td>87</td>\n",
       "      <td>78</td>\n",
       "      <td>326</td>\n",
       "      <td>81.50</td>\n",
       "      <td>English</td>\n",
       "      <td>Korea</td>\n",
       "      <td>Science</td>\n",
       "      <td>Mathmatics</td>\n",
       "      <td>9.999833e-01</td>\n",
       "      <td>6.305011e-16</td>\n",
       "      <td>1.670142e-05</td>\n",
       "      <td>2.061119e-09</td>\n",
       "    </tr>\n",
       "    <tr>\n",
       "      <th>59343</th>\n",
       "      <td>81</td>\n",
       "      <td>72</td>\n",
       "      <td>64</td>\n",
       "      <td>62</td>\n",
       "      <td>279</td>\n",
       "      <td>69.75</td>\n",
       "      <td>English</td>\n",
       "      <td>Mathmatics</td>\n",
       "      <td>Korea</td>\n",
       "      <td>Science</td>\n",
       "      <td>9.998766e-01</td>\n",
       "      <td>1.233946e-04</td>\n",
       "      <td>4.139427e-08</td>\n",
       "      <td>5.602105e-09</td>\n",
       "    </tr>\n",
       "  </tbody>\n",
       "</table>\n",
       "<p>100000 rows × 14 columns</p>\n",
       "</div>"
      ],
      "text/plain": [
       "       eng  math  kor  sci  total    avg subject1    subject2    subject3  \\\n",
       "49999   69    70   76   91    306  76.50  Science       Korea  Mathmatics   \n",
       "35143   62    76   67   99    304  76.00  Science  Mathmatics       Korea   \n",
       "35178   64    64   73   84    285  71.25  Science       Korea  Mathmatics   \n",
       "35176   69    79   79   99    326  81.50  Science       Korea  Mathmatics   \n",
       "35172   71    87   67   94    319  79.75  Science  Mathmatics     English   \n",
       "...    ...   ...  ...  ...    ...    ...      ...         ...         ...   \n",
       "20910   78    65   73   63    279  69.75  English       Korea  Mathmatics   \n",
       "20912   86    66   84   67    303  75.75  English       Korea     Science   \n",
       "44371   88    77   63   78    306  76.50  English     Science  Mathmatics   \n",
       "20914   98    63   87   78    326  81.50  English       Korea     Science   \n",
       "59343   81    72   64   62    279  69.75  English  Mathmatics       Korea   \n",
       "\n",
       "         subject4        eng_sm       math_sm        kor_sm        sci_sm  \n",
       "49999     English  2.789467e-10  7.582558e-10  3.059022e-07  9.999997e-01  \n",
       "35143     English  8.533048e-17  1.026188e-10  1.266417e-14  1.000000e+00  \n",
       "35178     English  2.061119e-09  2.061119e-09  1.670142e-05  9.999833e-01  \n",
       "35176     English  9.357623e-14  2.061154e-09  2.061154e-09  1.000000e+00  \n",
       "35172       Korea  1.025253e-10  9.110512e-04  1.877816e-12  9.990889e-01  \n",
       "...           ...           ...           ...           ...           ...  \n",
       "20910     Science  9.933046e-01  2.245196e-06  6.692834e-03  3.038542e-07  \n",
       "20912  Mathmatics  8.807971e-01  1.815458e-09  1.192029e-01  4.934927e-09  \n",
       "44371       Korea  9.999379e-01  1.670066e-05  1.388708e-11  4.539711e-05  \n",
       "20914  Mathmatics  9.999833e-01  6.305011e-16  1.670142e-05  2.061119e-09  \n",
       "59343     Science  9.998766e-01  1.233946e-04  4.139427e-08  5.602105e-09  \n",
       "\n",
       "[100000 rows x 14 columns]"
      ]
     },
     "execution_count": 955,
     "metadata": {},
     "output_type": "execute_result"
    }
   ],
   "source": [
    "df.iloc[df.subject1.values.argsort()[::-1],:]"
   ]
  },
  {
   "cell_type": "code",
   "execution_count": 972,
   "metadata": {
    "collapsed": true
   },
   "outputs": [
    {
     "data": {
      "text/html": [
       "<div>\n",
       "<style scoped>\n",
       "    .dataframe tbody tr th:only-of-type {\n",
       "        vertical-align: middle;\n",
       "    }\n",
       "\n",
       "    .dataframe tbody tr th {\n",
       "        vertical-align: top;\n",
       "    }\n",
       "\n",
       "    .dataframe thead th {\n",
       "        text-align: right;\n",
       "    }\n",
       "</style>\n",
       "<table border=\"1\" class=\"dataframe\">\n",
       "  <thead>\n",
       "    <tr style=\"text-align: right;\">\n",
       "      <th></th>\n",
       "      <th>index</th>\n",
       "      <th>eng</th>\n",
       "      <th>math</th>\n",
       "      <th>kor</th>\n",
       "      <th>sci</th>\n",
       "      <th>total</th>\n",
       "      <th>avg</th>\n",
       "      <th>subject1</th>\n",
       "      <th>subject2</th>\n",
       "      <th>subject3</th>\n",
       "      <th>subject4</th>\n",
       "      <th>eng_sm</th>\n",
       "      <th>math_sm</th>\n",
       "      <th>kor_sm</th>\n",
       "      <th>sci_sm</th>\n",
       "    </tr>\n",
       "  </thead>\n",
       "  <tbody>\n",
       "    <tr>\n",
       "      <th>0</th>\n",
       "      <td>0</td>\n",
       "      <td>68</td>\n",
       "      <td>91</td>\n",
       "      <td>60</td>\n",
       "      <td>67</td>\n",
       "      <td>286</td>\n",
       "      <td>71.50</td>\n",
       "      <td>English</td>\n",
       "      <td>English</td>\n",
       "      <td>Science</td>\n",
       "      <td>Korea</td>\n",
       "      <td>1.026188e-10</td>\n",
       "      <td>1.000000e+00</td>\n",
       "      <td>3.442477e-14</td>\n",
       "      <td>3.775135e-11</td>\n",
       "    </tr>\n",
       "    <tr>\n",
       "      <th>1</th>\n",
       "      <td>46497</td>\n",
       "      <td>90</td>\n",
       "      <td>71</td>\n",
       "      <td>96</td>\n",
       "      <td>73</td>\n",
       "      <td>330</td>\n",
       "      <td>82.50</td>\n",
       "      <td>Korea</td>\n",
       "      <td>English</td>\n",
       "      <td>Science</td>\n",
       "      <td>Mathmatics</td>\n",
       "      <td>2.472623e-03</td>\n",
       "      <td>1.385360e-11</td>\n",
       "      <td>9.975274e-01</td>\n",
       "      <td>1.023651e-10</td>\n",
       "    </tr>\n",
       "    <tr>\n",
       "      <th>2</th>\n",
       "      <td>46499</td>\n",
       "      <td>90</td>\n",
       "      <td>66</td>\n",
       "      <td>92</td>\n",
       "      <td>64</td>\n",
       "      <td>312</td>\n",
       "      <td>78.00</td>\n",
       "      <td>Korea</td>\n",
       "      <td>English</td>\n",
       "      <td>Mathmatics</td>\n",
       "      <td>Science</td>\n",
       "      <td>1.192029e-01</td>\n",
       "      <td>4.500071e-12</td>\n",
       "      <td>8.807971e-01</td>\n",
       "      <td>6.090183e-13</td>\n",
       "    </tr>\n",
       "    <tr>\n",
       "      <th>3</th>\n",
       "      <td>46505</td>\n",
       "      <td>91</td>\n",
       "      <td>85</td>\n",
       "      <td>95</td>\n",
       "      <td>82</td>\n",
       "      <td>353</td>\n",
       "      <td>88.25</td>\n",
       "      <td>Korea</td>\n",
       "      <td>English</td>\n",
       "      <td>Mathmatics</td>\n",
       "      <td>Science</td>\n",
       "      <td>1.798537e-02</td>\n",
       "      <td>4.458127e-05</td>\n",
       "      <td>9.819678e-01</td>\n",
       "      <td>2.219571e-06</td>\n",
       "    </tr>\n",
       "    <tr>\n",
       "      <th>4</th>\n",
       "      <td>46509</td>\n",
       "      <td>89</td>\n",
       "      <td>92</td>\n",
       "      <td>76</td>\n",
       "      <td>69</td>\n",
       "      <td>326</td>\n",
       "      <td>81.50</td>\n",
       "      <td>Korea</td>\n",
       "      <td>English</td>\n",
       "      <td>Korea</td>\n",
       "      <td>Science</td>\n",
       "      <td>4.742587e-02</td>\n",
       "      <td>9.525740e-01</td>\n",
       "      <td>1.071981e-07</td>\n",
       "      <td>9.775200e-11</td>\n",
       "    </tr>\n",
       "    <tr>\n",
       "      <th>...</th>\n",
       "      <td>...</td>\n",
       "      <td>...</td>\n",
       "      <td>...</td>\n",
       "      <td>...</td>\n",
       "      <td>...</td>\n",
       "      <td>...</td>\n",
       "      <td>...</td>\n",
       "      <td>...</td>\n",
       "      <td>...</td>\n",
       "      <td>...</td>\n",
       "      <td>...</td>\n",
       "      <td>...</td>\n",
       "      <td>...</td>\n",
       "      <td>...</td>\n",
       "      <td>...</td>\n",
       "    </tr>\n",
       "    <tr>\n",
       "      <th>99995</th>\n",
       "      <td>77184</td>\n",
       "      <td>89</td>\n",
       "      <td>67</td>\n",
       "      <td>63</td>\n",
       "      <td>86</td>\n",
       "      <td>305</td>\n",
       "      <td>76.25</td>\n",
       "      <td>Science</td>\n",
       "      <td>Science</td>\n",
       "      <td>Mathmatics</td>\n",
       "      <td>Korea</td>\n",
       "      <td>9.525741e-01</td>\n",
       "      <td>2.657175e-10</td>\n",
       "      <td>4.866786e-12</td>\n",
       "      <td>4.742587e-02</td>\n",
       "    </tr>\n",
       "    <tr>\n",
       "      <th>99996</th>\n",
       "      <td>45128</td>\n",
       "      <td>98</td>\n",
       "      <td>69</td>\n",
       "      <td>81</td>\n",
       "      <td>88</td>\n",
       "      <td>336</td>\n",
       "      <td>84.00</td>\n",
       "      <td>Korea</td>\n",
       "      <td>Science</td>\n",
       "      <td>Korea</td>\n",
       "      <td>Mathmatics</td>\n",
       "      <td>9.999546e-01</td>\n",
       "      <td>2.543550e-13</td>\n",
       "      <td>4.139750e-08</td>\n",
       "      <td>4.539787e-05</td>\n",
       "    </tr>\n",
       "    <tr>\n",
       "      <th>99997</th>\n",
       "      <td>5682</td>\n",
       "      <td>99</td>\n",
       "      <td>62</td>\n",
       "      <td>67</td>\n",
       "      <td>69</td>\n",
       "      <td>297</td>\n",
       "      <td>74.25</td>\n",
       "      <td>English</td>\n",
       "      <td>Science</td>\n",
       "      <td>Korea</td>\n",
       "      <td>Mathmatics</td>\n",
       "      <td>1.000000e+00</td>\n",
       "      <td>8.533048e-17</td>\n",
       "      <td>1.266417e-14</td>\n",
       "      <td>9.357623e-14</td>\n",
       "    </tr>\n",
       "    <tr>\n",
       "      <th>99998</th>\n",
       "      <td>45120</td>\n",
       "      <td>99</td>\n",
       "      <td>81</td>\n",
       "      <td>79</td>\n",
       "      <td>86</td>\n",
       "      <td>345</td>\n",
       "      <td>86.25</td>\n",
       "      <td>Korea</td>\n",
       "      <td>Science</td>\n",
       "      <td>Mathmatics</td>\n",
       "      <td>Korea</td>\n",
       "      <td>9.999977e-01</td>\n",
       "      <td>1.522995e-08</td>\n",
       "      <td>2.061149e-09</td>\n",
       "      <td>2.260324e-06</td>\n",
       "    </tr>\n",
       "    <tr>\n",
       "      <th>99999</th>\n",
       "      <td>10025</td>\n",
       "      <td>83</td>\n",
       "      <td>94</td>\n",
       "      <td>76</td>\n",
       "      <td>92</td>\n",
       "      <td>345</td>\n",
       "      <td>86.25</td>\n",
       "      <td>English</td>\n",
       "      <td>Science</td>\n",
       "      <td>English</td>\n",
       "      <td>Korea</td>\n",
       "      <td>1.471059e-05</td>\n",
       "      <td>8.807841e-01</td>\n",
       "      <td>1.341432e-08</td>\n",
       "      <td>1.192012e-01</td>\n",
       "    </tr>\n",
       "  </tbody>\n",
       "</table>\n",
       "<p>100000 rows × 15 columns</p>\n",
       "</div>"
      ],
      "text/plain": [
       "       index  eng  math  kor  sci  total    avg subject1 subject2    subject3  \\\n",
       "0          0   68    91   60   67    286  71.50  English  English     Science   \n",
       "1      46497   90    71   96   73    330  82.50    Korea  English     Science   \n",
       "2      46499   90    66   92   64    312  78.00    Korea  English  Mathmatics   \n",
       "3      46505   91    85   95   82    353  88.25    Korea  English  Mathmatics   \n",
       "4      46509   89    92   76   69    326  81.50    Korea  English       Korea   \n",
       "...      ...  ...   ...  ...  ...    ...    ...      ...      ...         ...   \n",
       "99995  77184   89    67   63   86    305  76.25  Science  Science  Mathmatics   \n",
       "99996  45128   98    69   81   88    336  84.00    Korea  Science       Korea   \n",
       "99997   5682   99    62   67   69    297  74.25  English  Science       Korea   \n",
       "99998  45120   99    81   79   86    345  86.25    Korea  Science  Mathmatics   \n",
       "99999  10025   83    94   76   92    345  86.25  English  Science     English   \n",
       "\n",
       "         subject4        eng_sm       math_sm        kor_sm        sci_sm  \n",
       "0           Korea  1.026188e-10  1.000000e+00  3.442477e-14  3.775135e-11  \n",
       "1      Mathmatics  2.472623e-03  1.385360e-11  9.975274e-01  1.023651e-10  \n",
       "2         Science  1.192029e-01  4.500071e-12  8.807971e-01  6.090183e-13  \n",
       "3         Science  1.798537e-02  4.458127e-05  9.819678e-01  2.219571e-06  \n",
       "4         Science  4.742587e-02  9.525740e-01  1.071981e-07  9.775200e-11  \n",
       "...           ...           ...           ...           ...           ...  \n",
       "99995       Korea  9.525741e-01  2.657175e-10  4.866786e-12  4.742587e-02  \n",
       "99996  Mathmatics  9.999546e-01  2.543550e-13  4.139750e-08  4.539787e-05  \n",
       "99997  Mathmatics  1.000000e+00  8.533048e-17  1.266417e-14  9.357623e-14  \n",
       "99998       Korea  9.999977e-01  1.522995e-08  2.061149e-09  2.260324e-06  \n",
       "99999       Korea  1.471059e-05  8.807841e-01  1.341432e-08  1.192012e-01  \n",
       "\n",
       "[100000 rows x 15 columns]"
      ]
     },
     "execution_count": 972,
     "metadata": {},
     "output_type": "execute_result"
    }
   ],
   "source": [
    "df.iloc[df.subject2.argsort().values,:]."
   ]
  },
  {
   "cell_type": "code",
   "execution_count": 978,
   "metadata": {
    "collapsed": true
   },
   "outputs": [
    {
     "data": {
      "text/plain": [
       "subject1\n",
       "Science       26099\n",
       "Korea         25478\n",
       "Mathmatics    24499\n",
       "English       23924\n",
       "Name: eng, dtype: int64"
      ]
     },
     "execution_count": 978,
     "metadata": {},
     "output_type": "execute_result"
    }
   ],
   "source": [
    "df.groupby(['subject1']).count().eng[df.groupby(['subject1']).count().eng.argsort()[::-1]]"
   ]
  },
  {
   "cell_type": "code",
   "execution_count": 983,
   "metadata": {},
   "outputs": [
    {
     "data": {
      "text/html": [
       "<div>\n",
       "<style scoped>\n",
       "    .dataframe tbody tr th:only-of-type {\n",
       "        vertical-align: middle;\n",
       "    }\n",
       "\n",
       "    .dataframe tbody tr th {\n",
       "        vertical-align: top;\n",
       "    }\n",
       "\n",
       "    .dataframe thead th {\n",
       "        text-align: right;\n",
       "    }\n",
       "</style>\n",
       "<table border=\"1\" class=\"dataframe\">\n",
       "  <thead>\n",
       "    <tr style=\"text-align: right;\">\n",
       "      <th></th>\n",
       "      <th>weight_pounds</th>\n",
       "      <th>state</th>\n",
       "      <th>year</th>\n",
       "      <th>month</th>\n",
       "      <th>child_race</th>\n",
       "      <th>plurality</th>\n",
       "      <th>mother_race</th>\n",
       "      <th>mother_age</th>\n",
       "      <th>cigarette_use</th>\n",
       "      <th>cigarettes_per_day</th>\n",
       "      <th>alcohol_use</th>\n",
       "      <th>drinks_per_week</th>\n",
       "      <th>father_race</th>\n",
       "      <th>father_age</th>\n",
       "      <th>is_male</th>\n",
       "      <th>gestation_weeks</th>\n",
       "    </tr>\n",
       "  </thead>\n",
       "  <tbody>\n",
       "    <tr>\n",
       "      <th>0</th>\n",
       "      <td>7.813183</td>\n",
       "      <td>GA</td>\n",
       "      <td>2003</td>\n",
       "      <td>9</td>\n",
       "      <td>NaN</td>\n",
       "      <td>1</td>\n",
       "      <td>1.0</td>\n",
       "      <td>34</td>\n",
       "      <td>False</td>\n",
       "      <td>NaN</td>\n",
       "      <td>False</td>\n",
       "      <td>NaN</td>\n",
       "      <td>1.0</td>\n",
       "      <td>39</td>\n",
       "      <td>False</td>\n",
       "      <td>39</td>\n",
       "    </tr>\n",
       "    <tr>\n",
       "      <th>1</th>\n",
       "      <td>8.000575</td>\n",
       "      <td>GA</td>\n",
       "      <td>2003</td>\n",
       "      <td>1</td>\n",
       "      <td>NaN</td>\n",
       "      <td>1</td>\n",
       "      <td>1.0</td>\n",
       "      <td>37</td>\n",
       "      <td>True</td>\n",
       "      <td>15.0</td>\n",
       "      <td>True</td>\n",
       "      <td>0.0</td>\n",
       "      <td>1.0</td>\n",
       "      <td>31</td>\n",
       "      <td>True</td>\n",
       "      <td>41</td>\n",
       "    </tr>\n",
       "    <tr>\n",
       "      <th>2</th>\n",
       "      <td>7.251004</td>\n",
       "      <td>GA</td>\n",
       "      <td>2003</td>\n",
       "      <td>12</td>\n",
       "      <td>NaN</td>\n",
       "      <td>1</td>\n",
       "      <td>1.0</td>\n",
       "      <td>30</td>\n",
       "      <td>False</td>\n",
       "      <td>NaN</td>\n",
       "      <td>False</td>\n",
       "      <td>NaN</td>\n",
       "      <td>1.0</td>\n",
       "      <td>38</td>\n",
       "      <td>False</td>\n",
       "      <td>40</td>\n",
       "    </tr>\n",
       "    <tr>\n",
       "      <th>3</th>\n",
       "      <td>9.568062</td>\n",
       "      <td>GA</td>\n",
       "      <td>2003</td>\n",
       "      <td>4</td>\n",
       "      <td>NaN</td>\n",
       "      <td>1</td>\n",
       "      <td>7.0</td>\n",
       "      <td>39</td>\n",
       "      <td>False</td>\n",
       "      <td>NaN</td>\n",
       "      <td>False</td>\n",
       "      <td>NaN</td>\n",
       "      <td>1.0</td>\n",
       "      <td>39</td>\n",
       "      <td>True</td>\n",
       "      <td>40</td>\n",
       "    </tr>\n",
       "    <tr>\n",
       "      <th>4</th>\n",
       "      <td>7.187070</td>\n",
       "      <td>GA</td>\n",
       "      <td>2004</td>\n",
       "      <td>2</td>\n",
       "      <td>NaN</td>\n",
       "      <td>1</td>\n",
       "      <td>1.0</td>\n",
       "      <td>38</td>\n",
       "      <td>False</td>\n",
       "      <td>NaN</td>\n",
       "      <td>False</td>\n",
       "      <td>NaN</td>\n",
       "      <td>1.0</td>\n",
       "      <td>39</td>\n",
       "      <td>True</td>\n",
       "      <td>40</td>\n",
       "    </tr>\n",
       "    <tr>\n",
       "      <th>...</th>\n",
       "      <td>...</td>\n",
       "      <td>...</td>\n",
       "      <td>...</td>\n",
       "      <td>...</td>\n",
       "      <td>...</td>\n",
       "      <td>...</td>\n",
       "      <td>...</td>\n",
       "      <td>...</td>\n",
       "      <td>...</td>\n",
       "      <td>...</td>\n",
       "      <td>...</td>\n",
       "      <td>...</td>\n",
       "      <td>...</td>\n",
       "      <td>...</td>\n",
       "      <td>...</td>\n",
       "      <td>...</td>\n",
       "    </tr>\n",
       "    <tr>\n",
       "      <th>1998241</th>\n",
       "      <td>7.228958</td>\n",
       "      <td>HI</td>\n",
       "      <td>2003</td>\n",
       "      <td>9</td>\n",
       "      <td>NaN</td>\n",
       "      <td>1</td>\n",
       "      <td>38.0</td>\n",
       "      <td>35</td>\n",
       "      <td>False</td>\n",
       "      <td>NaN</td>\n",
       "      <td>False</td>\n",
       "      <td>NaN</td>\n",
       "      <td>99.0</td>\n",
       "      <td>99</td>\n",
       "      <td>True</td>\n",
       "      <td>40</td>\n",
       "    </tr>\n",
       "    <tr>\n",
       "      <th>1998242</th>\n",
       "      <td>6.375769</td>\n",
       "      <td>IL</td>\n",
       "      <td>2003</td>\n",
       "      <td>1</td>\n",
       "      <td>NaN</td>\n",
       "      <td>1</td>\n",
       "      <td>2.0</td>\n",
       "      <td>32</td>\n",
       "      <td>True</td>\n",
       "      <td>6.0</td>\n",
       "      <td>True</td>\n",
       "      <td>0.0</td>\n",
       "      <td>99.0</td>\n",
       "      <td>99</td>\n",
       "      <td>True</td>\n",
       "      <td>38</td>\n",
       "    </tr>\n",
       "    <tr>\n",
       "      <th>1998243</th>\n",
       "      <td>6.375769</td>\n",
       "      <td>MD</td>\n",
       "      <td>2004</td>\n",
       "      <td>8</td>\n",
       "      <td>NaN</td>\n",
       "      <td>1</td>\n",
       "      <td>2.0</td>\n",
       "      <td>30</td>\n",
       "      <td>False</td>\n",
       "      <td>NaN</td>\n",
       "      <td>False</td>\n",
       "      <td>NaN</td>\n",
       "      <td>99.0</td>\n",
       "      <td>48</td>\n",
       "      <td>False</td>\n",
       "      <td>39</td>\n",
       "    </tr>\n",
       "    <tr>\n",
       "      <th>1998244</th>\n",
       "      <td>6.750554</td>\n",
       "      <td>MS</td>\n",
       "      <td>2004</td>\n",
       "      <td>12</td>\n",
       "      <td>NaN</td>\n",
       "      <td>2</td>\n",
       "      <td>2.0</td>\n",
       "      <td>29</td>\n",
       "      <td>False</td>\n",
       "      <td>NaN</td>\n",
       "      <td>False</td>\n",
       "      <td>NaN</td>\n",
       "      <td>99.0</td>\n",
       "      <td>99</td>\n",
       "      <td>False</td>\n",
       "      <td>40</td>\n",
       "    </tr>\n",
       "    <tr>\n",
       "      <th>1998245</th>\n",
       "      <td>5.690131</td>\n",
       "      <td>NY</td>\n",
       "      <td>2003</td>\n",
       "      <td>10</td>\n",
       "      <td>NaN</td>\n",
       "      <td>1</td>\n",
       "      <td>2.0</td>\n",
       "      <td>31</td>\n",
       "      <td>True</td>\n",
       "      <td>9.0</td>\n",
       "      <td>True</td>\n",
       "      <td>0.0</td>\n",
       "      <td>99.0</td>\n",
       "      <td>99</td>\n",
       "      <td>True</td>\n",
       "      <td>38</td>\n",
       "    </tr>\n",
       "  </tbody>\n",
       "</table>\n",
       "<p>1998246 rows × 16 columns</p>\n",
       "</div>"
      ],
      "text/plain": [
       "         weight_pounds state  year  month  child_race  plurality  mother_race  \\\n",
       "0             7.813183    GA  2003      9         NaN          1          1.0   \n",
       "1             8.000575    GA  2003      1         NaN          1          1.0   \n",
       "2             7.251004    GA  2003     12         NaN          1          1.0   \n",
       "3             9.568062    GA  2003      4         NaN          1          7.0   \n",
       "4             7.187070    GA  2004      2         NaN          1          1.0   \n",
       "...                ...   ...   ...    ...         ...        ...          ...   \n",
       "1998241       7.228958    HI  2003      9         NaN          1         38.0   \n",
       "1998242       6.375769    IL  2003      1         NaN          1          2.0   \n",
       "1998243       6.375769    MD  2004      8         NaN          1          2.0   \n",
       "1998244       6.750554    MS  2004     12         NaN          2          2.0   \n",
       "1998245       5.690131    NY  2003     10         NaN          1          2.0   \n",
       "\n",
       "         mother_age cigarette_use  cigarettes_per_day alcohol_use  \\\n",
       "0                34         False                 NaN       False   \n",
       "1                37          True                15.0        True   \n",
       "2                30         False                 NaN       False   \n",
       "3                39         False                 NaN       False   \n",
       "4                38         False                 NaN       False   \n",
       "...             ...           ...                 ...         ...   \n",
       "1998241          35         False                 NaN       False   \n",
       "1998242          32          True                 6.0        True   \n",
       "1998243          30         False                 NaN       False   \n",
       "1998244          29         False                 NaN       False   \n",
       "1998245          31          True                 9.0        True   \n",
       "\n",
       "         drinks_per_week  father_race  father_age  is_male  gestation_weeks  \n",
       "0                    NaN          1.0          39    False               39  \n",
       "1                    0.0          1.0          31     True               41  \n",
       "2                    NaN          1.0          38    False               40  \n",
       "3                    NaN          1.0          39     True               40  \n",
       "4                    NaN          1.0          39     True               40  \n",
       "...                  ...          ...         ...      ...              ...  \n",
       "1998241              NaN         99.0          99     True               40  \n",
       "1998242              0.0         99.0          99     True               38  \n",
       "1998243              NaN         99.0          48    False               39  \n",
       "1998244              NaN         99.0          99    False               40  \n",
       "1998245              0.0         99.0          99     True               38  \n",
       "\n",
       "[1998246 rows x 16 columns]"
      ]
     },
     "execution_count": 983,
     "metadata": {},
     "output_type": "execute_result"
    }
   ],
   "source": [
    "df"
   ]
  },
  {
   "cell_type": "code",
   "execution_count": 981,
   "metadata": {},
   "outputs": [
    {
     "name": "stdout",
     "output_type": "stream",
     "text": [
      "<class 'pandas.core.frame.DataFrame'>\n",
      "RangeIndex: 1998246 entries, 0 to 1998245\n",
      "Data columns (total 16 columns):\n",
      " #   Column              Dtype  \n",
      "---  ------              -----  \n",
      " 0   weight_pounds       float64\n",
      " 1   state               object \n",
      " 2   year                int64  \n",
      " 3   month               int64  \n",
      " 4   child_race          float64\n",
      " 5   plurality           int64  \n",
      " 6   mother_race         float64\n",
      " 7   mother_age          int64  \n",
      " 8   cigarette_use       object \n",
      " 9   cigarettes_per_day  float64\n",
      " 10  alcohol_use         object \n",
      " 11  drinks_per_week     float64\n",
      " 12  father_race         float64\n",
      " 13  father_age          int64  \n",
      " 14  is_male             bool   \n",
      " 15  gestation_weeks     int64  \n",
      "dtypes: bool(1), float64(6), int64(6), object(3)\n",
      "memory usage: 230.6+ MB\n"
     ]
    }
   ],
   "source": [
    "df.info()"
   ]
  },
  {
   "cell_type": "code",
   "execution_count": 997,
   "metadata": {},
   "outputs": [],
   "source": [
    "import pandasql as ps\n",
    "#pd.read_sql_query('select * from df order by subject1, subject2')"
   ]
  },
  {
   "cell_type": "code",
   "execution_count": 1000,
   "metadata": {},
   "outputs": [],
   "source": [
    "df.reset_index(inplace=True)"
   ]
  },
  {
   "cell_type": "code",
   "execution_count": 1012,
   "metadata": {},
   "outputs": [
    {
     "data": {
      "text/html": [
       "<div>\n",
       "<style scoped>\n",
       "    .dataframe tbody tr th:only-of-type {\n",
       "        vertical-align: middle;\n",
       "    }\n",
       "\n",
       "    .dataframe tbody tr th {\n",
       "        vertical-align: top;\n",
       "    }\n",
       "\n",
       "    .dataframe thead th {\n",
       "        text-align: right;\n",
       "    }\n",
       "</style>\n",
       "<table border=\"1\" class=\"dataframe\">\n",
       "  <thead>\n",
       "    <tr style=\"text-align: right;\">\n",
       "      <th></th>\n",
       "      <th>index</th>\n",
       "      <th>eng</th>\n",
       "      <th>math</th>\n",
       "      <th>kor</th>\n",
       "      <th>sci</th>\n",
       "      <th>subject1</th>\n",
       "      <th>subject2</th>\n",
       "      <th>subject3</th>\n",
       "      <th>subject4</th>\n",
       "    </tr>\n",
       "  </thead>\n",
       "  <tbody>\n",
       "    <tr>\n",
       "      <th>0</th>\n",
       "      <td>3</td>\n",
       "      <td>99</td>\n",
       "      <td>66</td>\n",
       "      <td>69</td>\n",
       "      <td>87</td>\n",
       "      <td>English</td>\n",
       "      <td>Science</td>\n",
       "      <td>Korea</td>\n",
       "      <td>Mathmatics</td>\n",
       "    </tr>\n",
       "    <tr>\n",
       "      <th>1</th>\n",
       "      <td>7</td>\n",
       "      <td>90</td>\n",
       "      <td>73</td>\n",
       "      <td>75</td>\n",
       "      <td>83</td>\n",
       "      <td>English</td>\n",
       "      <td>Science</td>\n",
       "      <td>Korea</td>\n",
       "      <td>Mathmatics</td>\n",
       "    </tr>\n",
       "    <tr>\n",
       "      <th>2</th>\n",
       "      <td>8</td>\n",
       "      <td>94</td>\n",
       "      <td>64</td>\n",
       "      <td>67</td>\n",
       "      <td>72</td>\n",
       "      <td>English</td>\n",
       "      <td>Science</td>\n",
       "      <td>Korea</td>\n",
       "      <td>Mathmatics</td>\n",
       "    </tr>\n",
       "    <tr>\n",
       "      <th>3</th>\n",
       "      <td>37</td>\n",
       "      <td>90</td>\n",
       "      <td>67</td>\n",
       "      <td>74</td>\n",
       "      <td>79</td>\n",
       "      <td>English</td>\n",
       "      <td>Science</td>\n",
       "      <td>Korea</td>\n",
       "      <td>Mathmatics</td>\n",
       "    </tr>\n",
       "    <tr>\n",
       "      <th>4</th>\n",
       "      <td>41</td>\n",
       "      <td>90</td>\n",
       "      <td>72</td>\n",
       "      <td>73</td>\n",
       "      <td>77</td>\n",
       "      <td>English</td>\n",
       "      <td>Science</td>\n",
       "      <td>Korea</td>\n",
       "      <td>Mathmatics</td>\n",
       "    </tr>\n",
       "    <tr>\n",
       "      <th>...</th>\n",
       "      <td>...</td>\n",
       "      <td>...</td>\n",
       "      <td>...</td>\n",
       "      <td>...</td>\n",
       "      <td>...</td>\n",
       "      <td>...</td>\n",
       "      <td>...</td>\n",
       "      <td>...</td>\n",
       "      <td>...</td>\n",
       "    </tr>\n",
       "    <tr>\n",
       "      <th>99995</th>\n",
       "      <td>99914</td>\n",
       "      <td>90</td>\n",
       "      <td>60</td>\n",
       "      <td>68</td>\n",
       "      <td>92</td>\n",
       "      <td>Science</td>\n",
       "      <td>English</td>\n",
       "      <td>Korea</td>\n",
       "      <td>Mathmatics</td>\n",
       "    </tr>\n",
       "    <tr>\n",
       "      <th>99996</th>\n",
       "      <td>99919</td>\n",
       "      <td>72</td>\n",
       "      <td>63</td>\n",
       "      <td>63</td>\n",
       "      <td>82</td>\n",
       "      <td>Science</td>\n",
       "      <td>English</td>\n",
       "      <td>Korea</td>\n",
       "      <td>Mathmatics</td>\n",
       "    </tr>\n",
       "    <tr>\n",
       "      <th>99997</th>\n",
       "      <td>99924</td>\n",
       "      <td>72</td>\n",
       "      <td>66</td>\n",
       "      <td>67</td>\n",
       "      <td>89</td>\n",
       "      <td>Science</td>\n",
       "      <td>English</td>\n",
       "      <td>Korea</td>\n",
       "      <td>Mathmatics</td>\n",
       "    </tr>\n",
       "    <tr>\n",
       "      <th>99998</th>\n",
       "      <td>99942</td>\n",
       "      <td>80</td>\n",
       "      <td>75</td>\n",
       "      <td>62</td>\n",
       "      <td>99</td>\n",
       "      <td>Science</td>\n",
       "      <td>English</td>\n",
       "      <td>Mathmatics</td>\n",
       "      <td>Korea</td>\n",
       "    </tr>\n",
       "    <tr>\n",
       "      <th>99999</th>\n",
       "      <td>99957</td>\n",
       "      <td>88</td>\n",
       "      <td>79</td>\n",
       "      <td>76</td>\n",
       "      <td>92</td>\n",
       "      <td>Science</td>\n",
       "      <td>English</td>\n",
       "      <td>Mathmatics</td>\n",
       "      <td>Korea</td>\n",
       "    </tr>\n",
       "  </tbody>\n",
       "</table>\n",
       "<p>100000 rows × 9 columns</p>\n",
       "</div>"
      ],
      "text/plain": [
       "       index  eng  math  kor  sci subject1 subject2    subject3    subject4\n",
       "0          3   99    66   69   87  English  Science       Korea  Mathmatics\n",
       "1          7   90    73   75   83  English  Science       Korea  Mathmatics\n",
       "2          8   94    64   67   72  English  Science       Korea  Mathmatics\n",
       "3         37   90    67   74   79  English  Science       Korea  Mathmatics\n",
       "4         41   90    72   73   77  English  Science       Korea  Mathmatics\n",
       "...      ...  ...   ...  ...  ...      ...      ...         ...         ...\n",
       "99995  99914   90    60   68   92  Science  English       Korea  Mathmatics\n",
       "99996  99919   72    63   63   82  Science  English       Korea  Mathmatics\n",
       "99997  99924   72    66   67   89  Science  English       Korea  Mathmatics\n",
       "99998  99942   80    75   62   99  Science  English  Mathmatics       Korea\n",
       "99999  99957   88    79   76   92  Science  English  Mathmatics       Korea\n",
       "\n",
       "[100000 rows x 9 columns]"
      ]
     },
     "execution_count": 1012,
     "metadata": {},
     "output_type": "execute_result"
    }
   ],
   "source": [
    "from pandasql import sqldf\n",
    "\n",
    "sqldf(\"select * from df order by subject2 desc, subject1 asc\")"
   ]
  },
  {
   "cell_type": "code",
   "execution_count": 1011,
   "metadata": {},
   "outputs": [
    {
     "data": {
      "text/html": [
       "<div>\n",
       "<style scoped>\n",
       "    .dataframe tbody tr th:only-of-type {\n",
       "        vertical-align: middle;\n",
       "    }\n",
       "\n",
       "    .dataframe tbody tr th {\n",
       "        vertical-align: top;\n",
       "    }\n",
       "\n",
       "    .dataframe thead th {\n",
       "        text-align: right;\n",
       "    }\n",
       "</style>\n",
       "<table border=\"1\" class=\"dataframe\">\n",
       "  <thead>\n",
       "    <tr style=\"text-align: right;\">\n",
       "      <th></th>\n",
       "      <th>index</th>\n",
       "      <th>eng</th>\n",
       "      <th>math</th>\n",
       "      <th>kor</th>\n",
       "      <th>sci</th>\n",
       "      <th>subject1</th>\n",
       "      <th>subject2</th>\n",
       "      <th>subject3</th>\n",
       "      <th>subject4</th>\n",
       "    </tr>\n",
       "  </thead>\n",
       "  <tbody>\n",
       "    <tr>\n",
       "      <th>559</th>\n",
       "      <td>559</td>\n",
       "      <td>99</td>\n",
       "      <td>62</td>\n",
       "      <td>97</td>\n",
       "      <td>99</td>\n",
       "      <td>Science</td>\n",
       "      <td>English</td>\n",
       "      <td>Korea</td>\n",
       "      <td>Mathmatics</td>\n",
       "    </tr>\n",
       "    <tr>\n",
       "      <th>1409</th>\n",
       "      <td>1409</td>\n",
       "      <td>99</td>\n",
       "      <td>88</td>\n",
       "      <td>70</td>\n",
       "      <td>99</td>\n",
       "      <td>Science</td>\n",
       "      <td>English</td>\n",
       "      <td>Mathmatics</td>\n",
       "      <td>Korea</td>\n",
       "    </tr>\n",
       "    <tr>\n",
       "      <th>1707</th>\n",
       "      <td>1707</td>\n",
       "      <td>99</td>\n",
       "      <td>69</td>\n",
       "      <td>77</td>\n",
       "      <td>99</td>\n",
       "      <td>Science</td>\n",
       "      <td>English</td>\n",
       "      <td>Korea</td>\n",
       "      <td>Mathmatics</td>\n",
       "    </tr>\n",
       "    <tr>\n",
       "      <th>3193</th>\n",
       "      <td>3193</td>\n",
       "      <td>99</td>\n",
       "      <td>76</td>\n",
       "      <td>64</td>\n",
       "      <td>99</td>\n",
       "      <td>Science</td>\n",
       "      <td>English</td>\n",
       "      <td>Mathmatics</td>\n",
       "      <td>Korea</td>\n",
       "    </tr>\n",
       "    <tr>\n",
       "      <th>4699</th>\n",
       "      <td>4699</td>\n",
       "      <td>99</td>\n",
       "      <td>95</td>\n",
       "      <td>77</td>\n",
       "      <td>99</td>\n",
       "      <td>Science</td>\n",
       "      <td>English</td>\n",
       "      <td>Mathmatics</td>\n",
       "      <td>Korea</td>\n",
       "    </tr>\n",
       "    <tr>\n",
       "      <th>...</th>\n",
       "      <td>...</td>\n",
       "      <td>...</td>\n",
       "      <td>...</td>\n",
       "      <td>...</td>\n",
       "      <td>...</td>\n",
       "      <td>...</td>\n",
       "      <td>...</td>\n",
       "      <td>...</td>\n",
       "      <td>...</td>\n",
       "    </tr>\n",
       "    <tr>\n",
       "      <th>99442</th>\n",
       "      <td>99442</td>\n",
       "      <td>60</td>\n",
       "      <td>63</td>\n",
       "      <td>69</td>\n",
       "      <td>61</td>\n",
       "      <td>Korea</td>\n",
       "      <td>Mathmatics</td>\n",
       "      <td>Science</td>\n",
       "      <td>English</td>\n",
       "    </tr>\n",
       "    <tr>\n",
       "      <th>99544</th>\n",
       "      <td>99544</td>\n",
       "      <td>60</td>\n",
       "      <td>92</td>\n",
       "      <td>96</td>\n",
       "      <td>88</td>\n",
       "      <td>Korea</td>\n",
       "      <td>Mathmatics</td>\n",
       "      <td>Science</td>\n",
       "      <td>English</td>\n",
       "    </tr>\n",
       "    <tr>\n",
       "      <th>99580</th>\n",
       "      <td>99580</td>\n",
       "      <td>60</td>\n",
       "      <td>65</td>\n",
       "      <td>87</td>\n",
       "      <td>69</td>\n",
       "      <td>Korea</td>\n",
       "      <td>Science</td>\n",
       "      <td>Mathmatics</td>\n",
       "      <td>English</td>\n",
       "    </tr>\n",
       "    <tr>\n",
       "      <th>99646</th>\n",
       "      <td>99646</td>\n",
       "      <td>60</td>\n",
       "      <td>60</td>\n",
       "      <td>69</td>\n",
       "      <td>68</td>\n",
       "      <td>Korea</td>\n",
       "      <td>Science</td>\n",
       "      <td>Mathmatics</td>\n",
       "      <td>English</td>\n",
       "    </tr>\n",
       "    <tr>\n",
       "      <th>99807</th>\n",
       "      <td>99807</td>\n",
       "      <td>60</td>\n",
       "      <td>82</td>\n",
       "      <td>91</td>\n",
       "      <td>85</td>\n",
       "      <td>Korea</td>\n",
       "      <td>Science</td>\n",
       "      <td>Mathmatics</td>\n",
       "      <td>English</td>\n",
       "    </tr>\n",
       "  </tbody>\n",
       "</table>\n",
       "<p>100000 rows × 9 columns</p>\n",
       "</div>"
      ],
      "text/plain": [
       "       index  eng  math  kor  sci subject1    subject2    subject3    subject4\n",
       "559      559   99    62   97   99  Science     English       Korea  Mathmatics\n",
       "1409    1409   99    88   70   99  Science     English  Mathmatics       Korea\n",
       "1707    1707   99    69   77   99  Science     English       Korea  Mathmatics\n",
       "3193    3193   99    76   64   99  Science     English  Mathmatics       Korea\n",
       "4699    4699   99    95   77   99  Science     English  Mathmatics       Korea\n",
       "...      ...  ...   ...  ...  ...      ...         ...         ...         ...\n",
       "99442  99442   60    63   69   61    Korea  Mathmatics     Science     English\n",
       "99544  99544   60    92   96   88    Korea  Mathmatics     Science     English\n",
       "99580  99580   60    65   87   69    Korea     Science  Mathmatics     English\n",
       "99646  99646   60    60   69   68    Korea     Science  Mathmatics     English\n",
       "99807  99807   60    82   91   85    Korea     Science  Mathmatics     English\n",
       "\n",
       "[100000 rows x 9 columns]"
      ]
     },
     "execution_count": 1011,
     "metadata": {},
     "output_type": "execute_result"
    }
   ],
   "source": [
    "df.sort_values(by=['eng','subject1'],ascending=False)"
   ]
  },
  {
   "cell_type": "code",
   "execution_count": 1014,
   "metadata": {},
   "outputs": [
    {
     "data": {
      "text/plain": [
       "array([93200, 70573, 32902, ..., 81725, 51186, 71899], dtype=int64)"
      ]
     },
     "execution_count": 1014,
     "metadata": {},
     "output_type": "execute_result"
    }
   ],
   "source": [
    "df.eng.argsort()[::-1].values"
   ]
  },
  {
   "cell_type": "code",
   "execution_count": 1021,
   "metadata": {},
   "outputs": [],
   "source": [
    "df.drop(['index'],axis=1,inplace=True)"
   ]
  },
  {
   "cell_type": "code",
   "execution_count": 1023,
   "metadata": {},
   "outputs": [],
   "source": [
    "df1 = df.iloc[:,0:4]\n",
    "df2 = df.iloc[:,4:]"
   ]
  },
  {
   "cell_type": "code",
   "execution_count": 1030,
   "metadata": {},
   "outputs": [],
   "source": [
    "df2.columns = ['math','eng','kor','sci']"
   ]
  },
  {
   "cell_type": "code",
   "execution_count": 1044,
   "metadata": {},
   "outputs": [],
   "source": [
    "df2.index = np.zeros(df2.index.size).astype('int')"
   ]
  },
  {
   "cell_type": "code",
   "execution_count": 1045,
   "metadata": {},
   "outputs": [
    {
     "data": {
      "text/html": [
       "<div>\n",
       "<style scoped>\n",
       "    .dataframe tbody tr th:only-of-type {\n",
       "        vertical-align: middle;\n",
       "    }\n",
       "\n",
       "    .dataframe tbody tr th {\n",
       "        vertical-align: top;\n",
       "    }\n",
       "\n",
       "    .dataframe thead th {\n",
       "        text-align: right;\n",
       "    }\n",
       "</style>\n",
       "<table border=\"1\" class=\"dataframe\">\n",
       "  <thead>\n",
       "    <tr style=\"text-align: right;\">\n",
       "      <th></th>\n",
       "      <th>math</th>\n",
       "      <th>eng</th>\n",
       "      <th>kor</th>\n",
       "      <th>sci</th>\n",
       "    </tr>\n",
       "  </thead>\n",
       "  <tbody>\n",
       "    <tr>\n",
       "      <th>0</th>\n",
       "      <td>Mathmatics</td>\n",
       "      <td>English</td>\n",
       "      <td>Science</td>\n",
       "      <td>Korea</td>\n",
       "    </tr>\n",
       "    <tr>\n",
       "      <th>0</th>\n",
       "      <td>English</td>\n",
       "      <td>Korea</td>\n",
       "      <td>Mathmatics</td>\n",
       "      <td>Science</td>\n",
       "    </tr>\n",
       "    <tr>\n",
       "      <th>0</th>\n",
       "      <td>Science</td>\n",
       "      <td>Mathmatics</td>\n",
       "      <td>English</td>\n",
       "      <td>Korea</td>\n",
       "    </tr>\n",
       "    <tr>\n",
       "      <th>0</th>\n",
       "      <td>English</td>\n",
       "      <td>Science</td>\n",
       "      <td>Korea</td>\n",
       "      <td>Mathmatics</td>\n",
       "    </tr>\n",
       "    <tr>\n",
       "      <th>0</th>\n",
       "      <td>Mathmatics</td>\n",
       "      <td>English</td>\n",
       "      <td>Korea</td>\n",
       "      <td>Science</td>\n",
       "    </tr>\n",
       "    <tr>\n",
       "      <th>...</th>\n",
       "      <td>...</td>\n",
       "      <td>...</td>\n",
       "      <td>...</td>\n",
       "      <td>...</td>\n",
       "    </tr>\n",
       "    <tr>\n",
       "      <th>0</th>\n",
       "      <td>Science</td>\n",
       "      <td>Korea</td>\n",
       "      <td>English</td>\n",
       "      <td>Mathmatics</td>\n",
       "    </tr>\n",
       "    <tr>\n",
       "      <th>0</th>\n",
       "      <td>Science</td>\n",
       "      <td>Mathmatics</td>\n",
       "      <td>Korea</td>\n",
       "      <td>English</td>\n",
       "    </tr>\n",
       "    <tr>\n",
       "      <th>0</th>\n",
       "      <td>Mathmatics</td>\n",
       "      <td>English</td>\n",
       "      <td>Korea</td>\n",
       "      <td>Science</td>\n",
       "    </tr>\n",
       "    <tr>\n",
       "      <th>0</th>\n",
       "      <td>Science</td>\n",
       "      <td>Mathmatics</td>\n",
       "      <td>English</td>\n",
       "      <td>Korea</td>\n",
       "    </tr>\n",
       "    <tr>\n",
       "      <th>0</th>\n",
       "      <td>Mathmatics</td>\n",
       "      <td>English</td>\n",
       "      <td>Science</td>\n",
       "      <td>Korea</td>\n",
       "    </tr>\n",
       "  </tbody>\n",
       "</table>\n",
       "<p>100000 rows × 4 columns</p>\n",
       "</div>"
      ],
      "text/plain": [
       "          math         eng         kor         sci\n",
       "0   Mathmatics     English     Science       Korea\n",
       "0      English       Korea  Mathmatics     Science\n",
       "0      Science  Mathmatics     English       Korea\n",
       "0      English     Science       Korea  Mathmatics\n",
       "0   Mathmatics     English       Korea     Science\n",
       "..         ...         ...         ...         ...\n",
       "0      Science       Korea     English  Mathmatics\n",
       "0      Science  Mathmatics       Korea     English\n",
       "0   Mathmatics     English       Korea     Science\n",
       "0      Science  Mathmatics     English       Korea\n",
       "0   Mathmatics     English     Science       Korea\n",
       "\n",
       "[100000 rows x 4 columns]"
      ]
     },
     "execution_count": 1045,
     "metadata": {},
     "output_type": "execute_result"
    }
   ],
   "source": [
    "df2"
   ]
  },
  {
   "cell_type": "code",
   "execution_count": 1051,
   "metadata": {},
   "outputs": [
    {
     "data": {
      "text/plain": [
       "[    col1  col2  col3\n",
       " 0     69    14    91\n",
       " 1      1    17    38\n",
       " 2      1    90    19\n",
       " 3     27    78    77\n",
       " 4     51     7    43\n",
       " 5     29    52    94\n",
       " 6     25    31    80\n",
       " 7     18    11    16\n",
       " 8     31    15    77\n",
       " 9     77    76    81\n",
       " 10    14    25    47\n",
       " 11    64    21    21\n",
       " 12    28    59    87\n",
       " 13    65    63    37\n",
       " 14    26    38    13\n",
       " 15    98    23     9\n",
       " 16    48    74    20\n",
       " 17     4     1    68\n",
       " 18    64     8    36\n",
       " 19    93    77    22,\n",
       "     col1  col2  col3\n",
       " 0     68    48    61\n",
       " 1     70    39    85\n",
       " 2     21    64    56\n",
       " 3      6     4    99\n",
       " 4     41    48    72\n",
       " 5     49    57    14\n",
       " 6     67    14    31\n",
       " 7     41     2    14\n",
       " 8      5    54    97\n",
       " 9     69    30    57\n",
       " 10    36    73     3\n",
       " 11    27    99    56\n",
       " 12    70    76    66\n",
       " 13    94    31    48\n",
       " 14    44    13    16\n",
       " 15    51    85    26\n",
       " 16    19    71    84\n",
       " 17    16    32    95\n",
       " 18    31    44    96\n",
       " 19    75    12    81,\n",
       "     col1  col2  col3\n",
       " 0     61     1    54\n",
       " 1     85    77    30\n",
       " 2     17    26    62\n",
       " 3     17    85    32\n",
       " 4     93    73    61\n",
       " 5     44    87    84\n",
       " 6     34    19    86\n",
       " 7     40    56    22\n",
       " 8      6    66    30\n",
       " 9     42    76    16\n",
       " 10    39    83    59\n",
       " 11    21     0    21\n",
       " 12    95    75    70\n",
       " 13    60    30     0\n",
       " 14     5    61    28\n",
       " 15    33    86    15\n",
       " 16    27    55    83\n",
       " 17    63    92    56\n",
       " 18    17    67    68\n",
       " 19    23    27    30]"
      ]
     },
     "execution_count": 1051,
     "metadata": {},
     "output_type": "execute_result"
    }
   ],
   "source": [
    "df_list = []\n",
    "for i in range(3):\n",
    "    col1 = np.random.randint(0,100,20)\n",
    "    col2 = np.random.randint(0,100,20)\n",
    "    col3 = np.random.randint(0,100,20)\n",
    "    data = zip(col1,col2,col3)\n",
    "    tmp = pd.DataFrame(data,columns=['col1','col2','col3'])\n",
    "    df_list.append(tmp)\n",
    "df_list"
   ]
  },
  {
   "cell_type": "code",
   "execution_count": null,
   "metadata": {},
   "outputs": [],
   "source": [
    "df = pd.concat(df_list)\n",
    "df_col = pd.concat(df_list,axis=1)"
   ]
  },
  {
   "cell_type": "code",
   "execution_count": 1056,
   "metadata": {},
   "outputs": [
    {
     "data": {
      "text/html": [
       "<div>\n",
       "<style scoped>\n",
       "    .dataframe tbody tr th:only-of-type {\n",
       "        vertical-align: middle;\n",
       "    }\n",
       "\n",
       "    .dataframe tbody tr th {\n",
       "        vertical-align: top;\n",
       "    }\n",
       "\n",
       "    .dataframe thead th {\n",
       "        text-align: right;\n",
       "    }\n",
       "</style>\n",
       "<table border=\"1\" class=\"dataframe\">\n",
       "  <thead>\n",
       "    <tr style=\"text-align: right;\">\n",
       "      <th></th>\n",
       "      <th>col1</th>\n",
       "      <th>col2</th>\n",
       "      <th>col3</th>\n",
       "      <th>col1</th>\n",
       "      <th>col2</th>\n",
       "      <th>col3</th>\n",
       "      <th>col1</th>\n",
       "      <th>col2</th>\n",
       "      <th>col3</th>\n",
       "    </tr>\n",
       "  </thead>\n",
       "  <tbody>\n",
       "    <tr>\n",
       "      <th>0</th>\n",
       "      <td>69</td>\n",
       "      <td>14</td>\n",
       "      <td>91</td>\n",
       "      <td>68</td>\n",
       "      <td>48</td>\n",
       "      <td>61</td>\n",
       "      <td>61</td>\n",
       "      <td>1</td>\n",
       "      <td>54</td>\n",
       "    </tr>\n",
       "    <tr>\n",
       "      <th>1</th>\n",
       "      <td>1</td>\n",
       "      <td>17</td>\n",
       "      <td>38</td>\n",
       "      <td>70</td>\n",
       "      <td>39</td>\n",
       "      <td>85</td>\n",
       "      <td>85</td>\n",
       "      <td>77</td>\n",
       "      <td>30</td>\n",
       "    </tr>\n",
       "    <tr>\n",
       "      <th>2</th>\n",
       "      <td>1</td>\n",
       "      <td>90</td>\n",
       "      <td>19</td>\n",
       "      <td>21</td>\n",
       "      <td>64</td>\n",
       "      <td>56</td>\n",
       "      <td>17</td>\n",
       "      <td>26</td>\n",
       "      <td>62</td>\n",
       "    </tr>\n",
       "    <tr>\n",
       "      <th>3</th>\n",
       "      <td>27</td>\n",
       "      <td>78</td>\n",
       "      <td>77</td>\n",
       "      <td>6</td>\n",
       "      <td>4</td>\n",
       "      <td>99</td>\n",
       "      <td>17</td>\n",
       "      <td>85</td>\n",
       "      <td>32</td>\n",
       "    </tr>\n",
       "    <tr>\n",
       "      <th>4</th>\n",
       "      <td>51</td>\n",
       "      <td>7</td>\n",
       "      <td>43</td>\n",
       "      <td>41</td>\n",
       "      <td>48</td>\n",
       "      <td>72</td>\n",
       "      <td>93</td>\n",
       "      <td>73</td>\n",
       "      <td>61</td>\n",
       "    </tr>\n",
       "    <tr>\n",
       "      <th>5</th>\n",
       "      <td>29</td>\n",
       "      <td>52</td>\n",
       "      <td>94</td>\n",
       "      <td>49</td>\n",
       "      <td>57</td>\n",
       "      <td>14</td>\n",
       "      <td>44</td>\n",
       "      <td>87</td>\n",
       "      <td>84</td>\n",
       "    </tr>\n",
       "    <tr>\n",
       "      <th>6</th>\n",
       "      <td>25</td>\n",
       "      <td>31</td>\n",
       "      <td>80</td>\n",
       "      <td>67</td>\n",
       "      <td>14</td>\n",
       "      <td>31</td>\n",
       "      <td>34</td>\n",
       "      <td>19</td>\n",
       "      <td>86</td>\n",
       "    </tr>\n",
       "    <tr>\n",
       "      <th>7</th>\n",
       "      <td>18</td>\n",
       "      <td>11</td>\n",
       "      <td>16</td>\n",
       "      <td>41</td>\n",
       "      <td>2</td>\n",
       "      <td>14</td>\n",
       "      <td>40</td>\n",
       "      <td>56</td>\n",
       "      <td>22</td>\n",
       "    </tr>\n",
       "    <tr>\n",
       "      <th>8</th>\n",
       "      <td>31</td>\n",
       "      <td>15</td>\n",
       "      <td>77</td>\n",
       "      <td>5</td>\n",
       "      <td>54</td>\n",
       "      <td>97</td>\n",
       "      <td>6</td>\n",
       "      <td>66</td>\n",
       "      <td>30</td>\n",
       "    </tr>\n",
       "    <tr>\n",
       "      <th>9</th>\n",
       "      <td>77</td>\n",
       "      <td>76</td>\n",
       "      <td>81</td>\n",
       "      <td>69</td>\n",
       "      <td>30</td>\n",
       "      <td>57</td>\n",
       "      <td>42</td>\n",
       "      <td>76</td>\n",
       "      <td>16</td>\n",
       "    </tr>\n",
       "    <tr>\n",
       "      <th>10</th>\n",
       "      <td>14</td>\n",
       "      <td>25</td>\n",
       "      <td>47</td>\n",
       "      <td>36</td>\n",
       "      <td>73</td>\n",
       "      <td>3</td>\n",
       "      <td>39</td>\n",
       "      <td>83</td>\n",
       "      <td>59</td>\n",
       "    </tr>\n",
       "    <tr>\n",
       "      <th>11</th>\n",
       "      <td>64</td>\n",
       "      <td>21</td>\n",
       "      <td>21</td>\n",
       "      <td>27</td>\n",
       "      <td>99</td>\n",
       "      <td>56</td>\n",
       "      <td>21</td>\n",
       "      <td>0</td>\n",
       "      <td>21</td>\n",
       "    </tr>\n",
       "    <tr>\n",
       "      <th>12</th>\n",
       "      <td>28</td>\n",
       "      <td>59</td>\n",
       "      <td>87</td>\n",
       "      <td>70</td>\n",
       "      <td>76</td>\n",
       "      <td>66</td>\n",
       "      <td>95</td>\n",
       "      <td>75</td>\n",
       "      <td>70</td>\n",
       "    </tr>\n",
       "    <tr>\n",
       "      <th>13</th>\n",
       "      <td>65</td>\n",
       "      <td>63</td>\n",
       "      <td>37</td>\n",
       "      <td>94</td>\n",
       "      <td>31</td>\n",
       "      <td>48</td>\n",
       "      <td>60</td>\n",
       "      <td>30</td>\n",
       "      <td>0</td>\n",
       "    </tr>\n",
       "    <tr>\n",
       "      <th>14</th>\n",
       "      <td>26</td>\n",
       "      <td>38</td>\n",
       "      <td>13</td>\n",
       "      <td>44</td>\n",
       "      <td>13</td>\n",
       "      <td>16</td>\n",
       "      <td>5</td>\n",
       "      <td>61</td>\n",
       "      <td>28</td>\n",
       "    </tr>\n",
       "    <tr>\n",
       "      <th>15</th>\n",
       "      <td>98</td>\n",
       "      <td>23</td>\n",
       "      <td>9</td>\n",
       "      <td>51</td>\n",
       "      <td>85</td>\n",
       "      <td>26</td>\n",
       "      <td>33</td>\n",
       "      <td>86</td>\n",
       "      <td>15</td>\n",
       "    </tr>\n",
       "    <tr>\n",
       "      <th>16</th>\n",
       "      <td>48</td>\n",
       "      <td>74</td>\n",
       "      <td>20</td>\n",
       "      <td>19</td>\n",
       "      <td>71</td>\n",
       "      <td>84</td>\n",
       "      <td>27</td>\n",
       "      <td>55</td>\n",
       "      <td>83</td>\n",
       "    </tr>\n",
       "    <tr>\n",
       "      <th>17</th>\n",
       "      <td>4</td>\n",
       "      <td>1</td>\n",
       "      <td>68</td>\n",
       "      <td>16</td>\n",
       "      <td>32</td>\n",
       "      <td>95</td>\n",
       "      <td>63</td>\n",
       "      <td>92</td>\n",
       "      <td>56</td>\n",
       "    </tr>\n",
       "    <tr>\n",
       "      <th>18</th>\n",
       "      <td>64</td>\n",
       "      <td>8</td>\n",
       "      <td>36</td>\n",
       "      <td>31</td>\n",
       "      <td>44</td>\n",
       "      <td>96</td>\n",
       "      <td>17</td>\n",
       "      <td>67</td>\n",
       "      <td>68</td>\n",
       "    </tr>\n",
       "    <tr>\n",
       "      <th>19</th>\n",
       "      <td>93</td>\n",
       "      <td>77</td>\n",
       "      <td>22</td>\n",
       "      <td>75</td>\n",
       "      <td>12</td>\n",
       "      <td>81</td>\n",
       "      <td>23</td>\n",
       "      <td>27</td>\n",
       "      <td>30</td>\n",
       "    </tr>\n",
       "  </tbody>\n",
       "</table>\n",
       "</div>"
      ],
      "text/plain": [
       "    col1  col2  col3  col1  col2  col3  col1  col2  col3\n",
       "0     69    14    91    68    48    61    61     1    54\n",
       "1      1    17    38    70    39    85    85    77    30\n",
       "2      1    90    19    21    64    56    17    26    62\n",
       "3     27    78    77     6     4    99    17    85    32\n",
       "4     51     7    43    41    48    72    93    73    61\n",
       "5     29    52    94    49    57    14    44    87    84\n",
       "6     25    31    80    67    14    31    34    19    86\n",
       "7     18    11    16    41     2    14    40    56    22\n",
       "8     31    15    77     5    54    97     6    66    30\n",
       "9     77    76    81    69    30    57    42    76    16\n",
       "10    14    25    47    36    73     3    39    83    59\n",
       "11    64    21    21    27    99    56    21     0    21\n",
       "12    28    59    87    70    76    66    95    75    70\n",
       "13    65    63    37    94    31    48    60    30     0\n",
       "14    26    38    13    44    13    16     5    61    28\n",
       "15    98    23     9    51    85    26    33    86    15\n",
       "16    48    74    20    19    71    84    27    55    83\n",
       "17     4     1    68    16    32    95    63    92    56\n",
       "18    64     8    36    31    44    96    17    67    68\n",
       "19    93    77    22    75    12    81    23    27    30"
      ]
     },
     "execution_count": 1056,
     "metadata": {},
     "output_type": "execute_result"
    }
   ],
   "source": [
    "# 병합 하기 위한 두개의 DataFrame 생성\n",
    "## 첫번째 DataFrame 생성\n",
    "weight = np.random.randint(10,100,100)\n",
    "height = np.random.randint(10,30,100)\n",
    "kind = np.random.randint(0,2,100)\n",
    "kind = np.where(kind == 0,'dog','cat')\n",
    "data = zip(kind,weight,height)\n",
    "left = pd.DataFrame(data)\n",
    "left.columns = ['kind','weight','height']\n",
    "## 두번째 DataFrame 생성\n",
    "weight = np.random.randint(10,100,100)\n",
    "height = np.random.randint(10,30,100)\n",
    "kind = np.random.randint(0,2,100)\n",
    "kind = np.where(kind == 0,'dog','cat')\n",
    "data = zip(kind,weight,height)\n",
    "right = pd.DataFrame(data)\n",
    "right.columns = ['kind','weight','height']\n",
    "df1 = pd.merge(left,right, on=['kind','weight'],how='outer')\n",
    "df2 = pd.merge(left,right, on=['kind','weight'],how='inner')"
   ]
  },
  {
   "cell_type": "code",
   "execution_count": 1111,
   "metadata": {},
   "outputs": [],
   "source": [
    "weight = np.random.randint(10,100,100)\n",
    "height = np.random.randint(10,30,100)\n",
    "kind = np.random.randint(0,2,100)\n",
    "kind = np.where(kind == 0,'dog','cat')\n",
    "data = zip(kind,weight,height)"
   ]
  },
  {
   "cell_type": "code",
   "execution_count": 1112,
   "metadata": {},
   "outputs": [],
   "source": [
    "left = pd.DataFrame(data)\n",
    "left.columns = ['kind','weight','height']"
   ]
  },
  {
   "cell_type": "code",
   "execution_count": 1121,
   "metadata": {},
   "outputs": [],
   "source": [
    "weight = np.random.randint(10,100,100)\n",
    "height = np.random.randint(10,30,100)\n",
    "kind = np.random.randint(0,2,100)\n",
    "kind = np.where(kind == 0,'dog','cat')\n",
    "data = zip(kind,weight,height)\n",
    "right = pd.DataFrame(data)\n",
    "right.columns = ['kind','weight','height']"
   ]
  },
  {
   "cell_type": "code",
   "execution_count": 1100,
   "metadata": {},
   "outputs": [
    {
     "data": {
      "text/html": [
       "<div>\n",
       "<style scoped>\n",
       "    .dataframe tbody tr th:only-of-type {\n",
       "        vertical-align: middle;\n",
       "    }\n",
       "\n",
       "    .dataframe tbody tr th {\n",
       "        vertical-align: top;\n",
       "    }\n",
       "\n",
       "    .dataframe thead th {\n",
       "        text-align: right;\n",
       "    }\n",
       "</style>\n",
       "<table border=\"1\" class=\"dataframe\">\n",
       "  <thead>\n",
       "    <tr style=\"text-align: right;\">\n",
       "      <th></th>\n",
       "      <th>kind</th>\n",
       "      <th>weight</th>\n",
       "      <th>height_x</th>\n",
       "      <th>height_y</th>\n",
       "    </tr>\n",
       "  </thead>\n",
       "  <tbody>\n",
       "    <tr>\n",
       "      <th>0</th>\n",
       "      <td>dog</td>\n",
       "      <td>97</td>\n",
       "      <td>21</td>\n",
       "      <td>20</td>\n",
       "    </tr>\n",
       "    <tr>\n",
       "      <th>1</th>\n",
       "      <td>cat</td>\n",
       "      <td>96</td>\n",
       "      <td>27</td>\n",
       "      <td>13</td>\n",
       "    </tr>\n",
       "    <tr>\n",
       "      <th>2</th>\n",
       "      <td>cat</td>\n",
       "      <td>96</td>\n",
       "      <td>19</td>\n",
       "      <td>13</td>\n",
       "    </tr>\n",
       "    <tr>\n",
       "      <th>3</th>\n",
       "      <td>cat</td>\n",
       "      <td>96</td>\n",
       "      <td>16</td>\n",
       "      <td>13</td>\n",
       "    </tr>\n",
       "    <tr>\n",
       "      <th>4</th>\n",
       "      <td>dog</td>\n",
       "      <td>84</td>\n",
       "      <td>19</td>\n",
       "      <td>19</td>\n",
       "    </tr>\n",
       "    <tr>\n",
       "      <th>...</th>\n",
       "      <td>...</td>\n",
       "      <td>...</td>\n",
       "      <td>...</td>\n",
       "      <td>...</td>\n",
       "    </tr>\n",
       "    <tr>\n",
       "      <th>56</th>\n",
       "      <td>cat</td>\n",
       "      <td>20</td>\n",
       "      <td>12</td>\n",
       "      <td>16</td>\n",
       "    </tr>\n",
       "    <tr>\n",
       "      <th>57</th>\n",
       "      <td>cat</td>\n",
       "      <td>20</td>\n",
       "      <td>12</td>\n",
       "      <td>29</td>\n",
       "    </tr>\n",
       "    <tr>\n",
       "      <th>58</th>\n",
       "      <td>cat</td>\n",
       "      <td>85</td>\n",
       "      <td>29</td>\n",
       "      <td>14</td>\n",
       "    </tr>\n",
       "    <tr>\n",
       "      <th>59</th>\n",
       "      <td>cat</td>\n",
       "      <td>85</td>\n",
       "      <td>29</td>\n",
       "      <td>18</td>\n",
       "    </tr>\n",
       "    <tr>\n",
       "      <th>60</th>\n",
       "      <td>cat</td>\n",
       "      <td>79</td>\n",
       "      <td>21</td>\n",
       "      <td>28</td>\n",
       "    </tr>\n",
       "  </tbody>\n",
       "</table>\n",
       "<p>61 rows × 4 columns</p>\n",
       "</div>"
      ],
      "text/plain": [
       "   kind  weight  height_x  height_y\n",
       "0   dog      97        21        20\n",
       "1   cat      96        27        13\n",
       "2   cat      96        19        13\n",
       "3   cat      96        16        13\n",
       "4   dog      84        19        19\n",
       "..  ...     ...       ...       ...\n",
       "56  cat      20        12        16\n",
       "57  cat      20        12        29\n",
       "58  cat      85        29        14\n",
       "59  cat      85        29        18\n",
       "60  cat      79        21        28\n",
       "\n",
       "[61 rows x 4 columns]"
      ]
     },
     "execution_count": 1100,
     "metadata": {},
     "output_type": "execute_result"
    }
   ],
   "source": [
    "pd.merge(left,right,on=['kind','weight'],how='inner')"
   ]
  },
  {
   "cell_type": "code",
   "execution_count": 1118,
   "metadata": {},
   "outputs": [],
   "source": [
    "right.columns = ['kind_x','weight_x','height_x']"
   ]
  },
  {
   "cell_type": "code",
   "execution_count": 1124,
   "metadata": {},
   "outputs": [
    {
     "data": {
      "text/html": [
       "<div>\n",
       "<style scoped>\n",
       "    .dataframe tbody tr th:only-of-type {\n",
       "        vertical-align: middle;\n",
       "    }\n",
       "\n",
       "    .dataframe tbody tr th {\n",
       "        vertical-align: top;\n",
       "    }\n",
       "\n",
       "    .dataframe thead th {\n",
       "        text-align: right;\n",
       "    }\n",
       "</style>\n",
       "<table border=\"1\" class=\"dataframe\">\n",
       "  <thead>\n",
       "    <tr style=\"text-align: right;\">\n",
       "      <th></th>\n",
       "      <th>kind</th>\n",
       "      <th>weight</th>\n",
       "      <th>height</th>\n",
       "      <th>kind_x</th>\n",
       "      <th>weight_x</th>\n",
       "      <th>height_x</th>\n",
       "    </tr>\n",
       "  </thead>\n",
       "  <tbody>\n",
       "    <tr>\n",
       "      <th>0</th>\n",
       "      <td>dog</td>\n",
       "      <td>56</td>\n",
       "      <td>24</td>\n",
       "      <td>dog</td>\n",
       "      <td>26</td>\n",
       "      <td>23</td>\n",
       "    </tr>\n",
       "    <tr>\n",
       "      <th>1</th>\n",
       "      <td>cat</td>\n",
       "      <td>66</td>\n",
       "      <td>14</td>\n",
       "      <td>cat</td>\n",
       "      <td>90</td>\n",
       "      <td>24</td>\n",
       "    </tr>\n",
       "    <tr>\n",
       "      <th>2</th>\n",
       "      <td>cat</td>\n",
       "      <td>68</td>\n",
       "      <td>24</td>\n",
       "      <td>dog</td>\n",
       "      <td>16</td>\n",
       "      <td>22</td>\n",
       "    </tr>\n",
       "    <tr>\n",
       "      <th>3</th>\n",
       "      <td>cat</td>\n",
       "      <td>96</td>\n",
       "      <td>24</td>\n",
       "      <td>cat</td>\n",
       "      <td>89</td>\n",
       "      <td>27</td>\n",
       "    </tr>\n",
       "    <tr>\n",
       "      <th>4</th>\n",
       "      <td>cat</td>\n",
       "      <td>83</td>\n",
       "      <td>23</td>\n",
       "      <td>dog</td>\n",
       "      <td>91</td>\n",
       "      <td>16</td>\n",
       "    </tr>\n",
       "    <tr>\n",
       "      <th>...</th>\n",
       "      <td>...</td>\n",
       "      <td>...</td>\n",
       "      <td>...</td>\n",
       "      <td>...</td>\n",
       "      <td>...</td>\n",
       "      <td>...</td>\n",
       "    </tr>\n",
       "    <tr>\n",
       "      <th>95</th>\n",
       "      <td>cat</td>\n",
       "      <td>13</td>\n",
       "      <td>10</td>\n",
       "      <td>cat</td>\n",
       "      <td>93</td>\n",
       "      <td>27</td>\n",
       "    </tr>\n",
       "    <tr>\n",
       "      <th>96</th>\n",
       "      <td>cat</td>\n",
       "      <td>22</td>\n",
       "      <td>14</td>\n",
       "      <td>cat</td>\n",
       "      <td>62</td>\n",
       "      <td>24</td>\n",
       "    </tr>\n",
       "    <tr>\n",
       "      <th>97</th>\n",
       "      <td>cat</td>\n",
       "      <td>80</td>\n",
       "      <td>24</td>\n",
       "      <td>dog</td>\n",
       "      <td>49</td>\n",
       "      <td>23</td>\n",
       "    </tr>\n",
       "    <tr>\n",
       "      <th>98</th>\n",
       "      <td>cat</td>\n",
       "      <td>72</td>\n",
       "      <td>11</td>\n",
       "      <td>cat</td>\n",
       "      <td>52</td>\n",
       "      <td>10</td>\n",
       "    </tr>\n",
       "    <tr>\n",
       "      <th>99</th>\n",
       "      <td>dog</td>\n",
       "      <td>32</td>\n",
       "      <td>14</td>\n",
       "      <td>cat</td>\n",
       "      <td>76</td>\n",
       "      <td>23</td>\n",
       "    </tr>\n",
       "  </tbody>\n",
       "</table>\n",
       "<p>100 rows × 6 columns</p>\n",
       "</div>"
      ],
      "text/plain": [
       "   kind  weight  height kind_x  weight_x  height_x\n",
       "0   dog      56      24    dog        26        23\n",
       "1   cat      66      14    cat        90        24\n",
       "2   cat      68      24    dog        16        22\n",
       "3   cat      96      24    cat        89        27\n",
       "4   cat      83      23    dog        91        16\n",
       "..  ...     ...     ...    ...       ...       ...\n",
       "95  cat      13      10    cat        93        27\n",
       "96  cat      22      14    cat        62        24\n",
       "97  cat      80      24    dog        49        23\n",
       "98  cat      72      11    cat        52        10\n",
       "99  dog      32      14    cat        76        23\n",
       "\n",
       "[100 rows x 6 columns]"
      ]
     },
     "execution_count": 1124,
     "metadata": {},
     "output_type": "execute_result"
    }
   ],
   "source": [
    "left.join(right,rsuffix='_x')"
   ]
  },
  {
   "cell_type": "code",
   "execution_count": 1097,
   "metadata": {},
   "outputs": [],
   "source": [
    "left.index = ['k'+ str(i) for i in left.index]\n",
    "right.index = ['k'+ str(i) for i in right.index]"
   ]
  },
  {
   "cell_type": "code",
   "execution_count": 1102,
   "metadata": {},
   "outputs": [],
   "source": [
    "left.reset_index(inplace=True)\n",
    "right.reset_index(inplace=True)"
   ]
  },
  {
   "cell_type": "code",
   "execution_count": 1105,
   "metadata": {},
   "outputs": [],
   "source": [
    "left.columns = ['index','x_kind','x_weight','x_hight']\n",
    "right.columns = ['index','y_kind','y_weight','y_hight']"
   ]
  },
  {
   "cell_type": "code",
   "execution_count": 1109,
   "metadata": {},
   "outputs": [
    {
     "data": {
      "text/plain": [
       "index       object\n",
       "y_kind      object\n",
       "y_weight     int64\n",
       "y_hight      int64\n",
       "dtype: object"
      ]
     },
     "execution_count": 1109,
     "metadata": {},
     "output_type": "execute_result"
    }
   ],
   "source": [
    "right.dtypes"
   ]
  },
  {
   "cell_type": "code",
   "execution_count": 1131,
   "metadata": {},
   "outputs": [],
   "source": [
    "df.to_csv('df.csv',index=None,header=None)"
   ]
  },
  {
   "cell_type": "code",
   "execution_count": 1140,
   "metadata": {},
   "outputs": [],
   "source": [
    "df1 = pd.read_csv('df.csv',header=None)"
   ]
  },
  {
   "cell_type": "code",
   "execution_count": 1170,
   "metadata": {},
   "outputs": [],
   "source": [
    "df = pd.read_csv('us_new_born_2million.csv')"
   ]
  },
  {
   "cell_type": "code",
   "execution_count": 1160,
   "metadata": {},
   "outputs": [
    {
     "data": {
      "text/plain": [
       "state                       0\n",
       "year                        0\n",
       "month                       0\n",
       "plurality                   0\n",
       "mother_age                  0\n",
       "father_age                  0\n",
       "is_male                     0\n",
       "gestation_weeks             0\n",
       "weight_pounds            1341\n",
       "mother_race            226858\n",
       "father_race            226858\n",
       "cigarette_use          505693\n",
       "alcohol_use            505693\n",
       "cigarettes_per_day    1857782\n",
       "drinks_per_week       1857782\n",
       "child_race            1998246\n",
       "dtype: int64"
      ]
     },
     "execution_count": 1160,
     "metadata": {},
     "output_type": "execute_result"
    }
   ],
   "source": [
    "df.isna().sum().sort_values()"
   ]
  },
  {
   "cell_type": "code",
   "execution_count": 1161,
   "metadata": {},
   "outputs": [
    {
     "data": {
      "text/plain": [
       "1998246"
      ]
     },
     "execution_count": 1161,
     "metadata": {},
     "output_type": "execute_result"
    }
   ],
   "source": [
    "## 빈데이터가 70% 이상인 컬럼은 지운다\n",
    "## 로우의 데이터의 빈 데이터가 30% 이상이면 지운다\n",
    "## 나머지 컬럼은 채운다."
   ]
  },
  {
   "cell_type": "code",
   "execution_count": 1171,
   "metadata": {},
   "outputs": [
    {
     "data": {
      "text/plain": [
       "Index(['child_race', 'cigarettes_per_day', 'drinks_per_week'], dtype='object')"
      ]
     },
     "execution_count": 1171,
     "metadata": {},
     "output_type": "execute_result"
    }
   ],
   "source": [
    "df.isna().sum()[df.isna().sum()/df.plurality.size > 0.3].index"
   ]
  },
  {
   "cell_type": "code",
   "execution_count": 1172,
   "metadata": {},
   "outputs": [],
   "source": [
    "df.drop(df.isna().sum()[df.isna().sum()/df.plurality.size > 0.7].index,axis=1,inplace=True)"
   ]
  },
  {
   "cell_type": "code",
   "execution_count": 1175,
   "metadata": {},
   "outputs": [
    {
     "data": {
      "text/plain": [
       "13"
      ]
     },
     "execution_count": 1175,
     "metadata": {},
     "output_type": "execute_result"
    }
   ],
   "source": [
    "df.columns.size"
   ]
  },
  {
   "cell_type": "code",
   "execution_count": 1180,
   "metadata": {},
   "outputs": [],
   "source": [
    "def xxx(x):\n",
    "    return x.isna().sum()/df.columns.size"
   ]
  },
  {
   "cell_type": "code",
   "execution_count": 1189,
   "metadata": {},
   "outputs": [],
   "source": [
    "result = np.where(np.sum(df.isna(),axis=1)/df.columns.size >0.3,'x','y')"
   ]
  },
  {
   "cell_type": "code",
   "execution_count": 1199,
   "metadata": {},
   "outputs": [],
   "source": [
    "cl_df = df.iloc[pd.Series(result)[pd.Series(result) == 'y'].index,:].copy()"
   ]
  },
  {
   "cell_type": "code",
   "execution_count": 1202,
   "metadata": {},
   "outputs": [
    {
     "data": {
      "text/plain": [
       "weight_pounds         887\n",
       "state                   0\n",
       "year                    0\n",
       "month                   0\n",
       "plurality               0\n",
       "mother_race             0\n",
       "mother_age              0\n",
       "cigarette_use      278835\n",
       "alcohol_use        278835\n",
       "father_race             0\n",
       "father_age              0\n",
       "is_male                 0\n",
       "gestation_weeks         0\n",
       "dtype: int64"
      ]
     },
     "execution_count": 1202,
     "metadata": {},
     "output_type": "execute_result"
    }
   ],
   "source": [
    "cl_df.isna().sum()"
   ]
  },
  {
   "cell_type": "code",
   "execution_count": null,
   "metadata": {},
   "outputs": [],
   "source": []
  }
 ],
 "metadata": {
  "kernelspec": {
   "display_name": "Python 3",
   "language": "python",
   "name": "python3"
  },
  "language_info": {
   "codemirror_mode": {
    "name": "ipython",
    "version": 3
   },
   "file_extension": ".py",
   "mimetype": "text/x-python",
   "name": "python",
   "nbconvert_exporter": "python",
   "pygments_lexer": "ipython3",
   "version": "3.8.8"
  }
 },
 "nbformat": 4,
 "nbformat_minor": 4
}
